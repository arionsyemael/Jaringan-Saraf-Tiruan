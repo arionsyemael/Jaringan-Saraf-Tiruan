{
  "nbformat": 4,
  "nbformat_minor": 0,
  "metadata": {
    "colab": {
      "provenance": []
    },
    "kernelspec": {
      "name": "python3",
      "display_name": "Python 3"
    },
    "language_info": {
      "name": "python"
    }
  },
  "cells": [
    {
      "cell_type": "code",
      "execution_count": 23,
      "metadata": {
        "id": "YQf4eeDGdbfB"
      },
      "outputs": [],
      "source": [
        "import pandas as pd\n",
        "import numpy as np\n",
        "import matplotlib.pyplot as plt\n",
        "np.set_printoptions(threshold=np.inf)"
      ]
    },
    {
      "cell_type": "markdown",
      "source": [
        "# LVQ"
      ],
      "metadata": {
        "id": "TbfIMB6adqXR"
      }
    },
    {
      "cell_type": "markdown",
      "source": [
        "Tugas Praktikan adalah melakukan modifikasi kode untuk algoritma lain dari LVQ yaitu LVQ2 dan LVQ2.1.\n",
        "\n",
        "\n"
      ],
      "metadata": {
        "id": "pvYC-HWMdvh6"
      }
    },
    {
      "cell_type": "markdown",
      "source": [
        "## Kode"
      ],
      "metadata": {
        "id": "mdgaLrhyzL4Z"
      }
    },
    {
      "cell_type": "markdown",
      "source": [
        "LVQ"
      ],
      "metadata": {
        "id": "gWjcCA1rgv4j"
      }
    },
    {
      "cell_type": "code",
      "source": [
        "#Tidak perlu diubah\n",
        "def lvq_fit(train, target, lrate, b, max_epoch):\n",
        "    label, train_idx = np.unique(target, return_index=True)\n",
        "    weight = train[train_idx].astype(np.float64)\n",
        "\n",
        "    mask = np.ones(len(train), dtype=bool)\n",
        "    mask[train_idx] = False\n",
        "    train = train[mask]\n",
        "    target = target[mask]\n",
        "\n",
        "    epoch = 0\n",
        "    while epoch < max_epoch:\n",
        "        for i, x in enumerate(train):\n",
        "            distance = [np.sum((w - x) ** 2) for w in weight]\n",
        "            min_index = np.argmin(distance)\n",
        "            sign = 1 if target[i] == label[min_index] else -1\n",
        "            weight[min_index] += sign * lrate * (x - weight[min_index])\n",
        "        lrate *= b\n",
        "        epoch += 1\n",
        "\n",
        "    return weight, label\n"
      ],
      "metadata": {
        "id": "uJd9QitnduXS"
      },
      "execution_count": 24,
      "outputs": []
    },
    {
      "cell_type": "markdown",
      "source": [
        "LVQ2"
      ],
      "metadata": {
        "id": "ESx75_b4gxhA"
      }
    },
    {
      "cell_type": "code",
      "source": [
        "def lvq2_fit(train, target, lrate, b, max_epoch, epsilon):\n",
        "    label, train_idx = np.unique(target, return_index=True)\n",
        "    weight = train[train_idx].astype(np.float64)\n",
        "\n",
        "    mask = np.ones(len(train), dtype=bool)\n",
        "    mask[train_idx] = False\n",
        "    train = train[mask]\n",
        "    target = target[mask]\n",
        "\n",
        "    epoch = 0\n",
        "    while epoch < max_epoch:\n",
        "        for i, x in enumerate(train):\n",
        "            distance = [np.sum((w - x) ** 2) for w in weight]\n",
        "            distance = np.array(distance)\n",
        "            min_indices = np.argsort(distance)[:2]\n",
        "            c1, c2 = min_indices[0], min_indices[1]\n",
        "\n",
        "            if distance[c1] / distance[c2] < (1 - epsilon) / (1 + epsilon):\n",
        "\n",
        "                if label[c1] == target[i] and label[c2] != target[i]:\n",
        "                    weight[c1] += lrate * (x - weight[c1])\n",
        "                    weight[c2] -= lrate * (x - weight[c2])\n",
        "\n",
        "        lrate *= b\n",
        "        epoch += 1\n",
        "\n",
        "    return weight, label\n"
      ],
      "metadata": {
        "id": "a5_W1dubg09A"
      },
      "execution_count": 25,
      "outputs": []
    },
    {
      "cell_type": "markdown",
      "source": [
        "LVQ2.1"
      ],
      "metadata": {
        "id": "JOnLxeOGgyjD"
      }
    },
    {
      "cell_type": "code",
      "source": [
        "import numpy as np\n",
        "\n",
        "def lvq21_fit(train, target, lrate, b, max_epoch, epsilon):\n",
        "    # Inisialisasi bobot awal berdasarkan data unik di target\n",
        "    label, train_idx = np.unique(target, return_index=True)\n",
        "    weight = train[train_idx].astype(np.float64)\n",
        "\n",
        "    # Hapus data yang digunakan untuk inisialisasi bobot\n",
        "    mask = np.ones(len(train), dtype=bool)\n",
        "    mask[train_idx] = False\n",
        "    train = train[mask]\n",
        "    target = target[mask]\n",
        "\n",
        "    epoch = 0\n",
        "    while epoch < max_epoch:\n",
        "        for i, x in enumerate(train):\n",
        "            # Hitung jarak dari data ke setiap bobot\n",
        "            distance = [np.sum((w - x) ** 2) for w in weight]\n",
        "            distance = np.array(distance)\n",
        "            min_indices = np.argsort(distance)[:2]  # Ambil dua indeks jarak terkecil\n",
        "            c1, c2 = min_indices[0], min_indices[1]\n",
        "\n",
        "            # Periksa kondisi epsilon untuk pembaruan\n",
        "            if distance[c1] / distance[c2] < (1 - epsilon) / (1 + epsilon):\n",
        "                if label[c1] == target[i] and label[c2] != target[i]:\n",
        "                    weight[c1] += lrate * (x - weight[c1])\n",
        "                    weight[c2] -= lrate * (x - weight[c2])\n",
        "\n",
        "        # Kurangi learning rate dengan faktor b\n",
        "        lrate *= b\n",
        "        epoch += 1\n",
        "\n",
        "    return weight, label\n"
      ],
      "metadata": {
        "id": "iM-m475Ig1Vo"
      },
      "execution_count": 26,
      "outputs": []
    },
    {
      "cell_type": "markdown",
      "source": [
        "Fungsi Testing dan Hitung Akurasi\n"
      ],
      "metadata": {
        "id": "5i_KcOlcvXKN"
      }
    },
    {
      "cell_type": "code",
      "source": [
        "#Tidak perlu diubah\n",
        "def lvq_predict(X, model):\n",
        "  center, label = model\n",
        "  Y = []\n",
        "  for x in X:\n",
        "    d = [sum((c - x) ** 2) for c in center]\n",
        "    Y.append(label[np.argmin(d)])\n",
        "  return Y\n",
        "\n",
        "def calc_accuracy(a, b):\n",
        "  s = [1 if a[i] == b[i] else 0 for i in range(len(a))]\n",
        "  return sum(s) / len(a)"
      ],
      "metadata": {
        "id": "93PbV6CJvWuR"
      },
      "execution_count": 27,
      "outputs": []
    },
    {
      "cell_type": "markdown",
      "source": [
        "## Percobaan"
      ],
      "metadata": {
        "id": "c8gyFSiUu6Uy"
      }
    },
    {
      "cell_type": "markdown",
      "source": [
        "Lakukan training LVQ dengan\n",
        "- learning rate 0.5\n",
        "- perubahan learning rate 0.8\n",
        "- epoch maksimum 100\n",
        "- epsilon 0.3"
      ],
      "metadata": {
        "id": "AVEYajPxzYms"
      }
    },
    {
      "cell_type": "code",
      "source": [
        "from random import uniform\n",
        "import matplotlib.pyplot as plt\n",
        "from sklearn.model_selection import train_test_split\n",
        "from sklearn.datasets import make_blobs, make_classification\n",
        "\n",
        "X, y = make_classification(n_samples=100, n_features=2, n_redundant=0, n_informative=2, n_classes=4, n_clusters_per_class=1)\n",
        "X_train, X_test, y_train, y_test = train_test_split(X, y, test_size=0.2)\n",
        "\n",
        "model = lvq_fit(X_train, y_train, lrate=0.5, b=0.8, max_epoch=100)\n",
        "output = lvq_predict(X_test, model)\n",
        "accuracy = calc_accuracy(output, y_test)\n",
        "colors = 'rgbcmyk'\n",
        "\n",
        "print('Accuracy:', accuracy)\n",
        "for x, label in zip(X_train, y_train):\n",
        "  plt.plot(x[0], x[1], colors[label] + '.')\n",
        "for center, label in zip(model[0], model[1]):\n",
        "  plt.plot(center[0], center[1], colors[label] + 'o')\n",
        "for x, label in zip(X_test, output):\n",
        "  plt.plot(x[0], x[1], colors[label] + 'x')"
      ],
      "metadata": {
        "id": "YbUupNjNvAh8",
        "colab": {
          "base_uri": "https://localhost:8080/",
          "height": 447
        },
        "outputId": "8922de9e-52e4-458b-d11c-c2abed4f1896"
      },
      "execution_count": 28,
      "outputs": [
        {
          "output_type": "stream",
          "name": "stdout",
          "text": [
            "Accuracy: 0.5\n"
          ]
        },
        {
          "output_type": "display_data",
          "data": {
            "text/plain": [
              "<Figure size 640x480 with 1 Axes>"
            ],
            "image/png": "[encoded data removed]"
          },
          "metadata": {}
        }
      ]
    },
    {
      "cell_type": "code",
      "source": [
        "model = lvq2_fit(X_train, y_train, lrate=0.5, b=0.8, max_epoch=100, epsilon=0.3)\n",
        "output = lvq_predict(X_test, model)\n",
        "accuracy = calc_accuracy(output, y_test)\n",
        "colors = 'rgbcmyk'\n",
        "\n",
        "print('Accuracy:', accuracy)\n",
        "for x, label in zip(X_train, y_train):\n",
        "  plt.plot(x[0], x[1], colors[label] + '.')\n",
        "for center, label in zip(model[0], model[1]):\n",
        "  plt.plot(center[0], center[1], colors[label] + 'o')\n",
        "for x, label in zip(X_test, output):\n",
        "  plt.plot(x[0], x[1], colors[label] + 'x')"
      ],
      "metadata": {
        "id": "tYTI20cJvOdG",
        "colab": {
          "base_uri": "https://localhost:8080/",
          "height": 447
        },
        "outputId": "9a581069-3231-4b85-c183-d0ba232c42a5"
      },
      "execution_count": 29,
      "outputs": [
        {
          "output_type": "stream",
          "name": "stdout",
          "text": [
            "Accuracy: 0.45\n"
          ]
        },
        {
          "output_type": "display_data",
          "data": {
            "text/plain": [
              "<Figure size 640x480 with 1 Axes>"
            ],
            "image/png": "[encoded data removed]"
          },
          "metadata": {}
        }
      ]
    },
    {
      "cell_type": "code",
      "source": [
        "model = lvq21_fit(X_train, y_train, lrate=0.5, b=0.8, max_epoch=100, epsilon=0.3)\n",
        "output = lvq_predict(X_test, model)\n",
        "accuracy = calc_accuracy(output, y_test)\n",
        "colors = 'rgbcmyk'\n",
        "\n",
        "print('Accuracy:', accuracy)\n",
        "for x, label in zip(X_train, y_train):\n",
        "  plt.plot(x[0], x[1], colors[label] + '.')\n",
        "for center, label in zip(model[0], model[1]):\n",
        "  plt.plot(center[0], center[1], colors[label] + 'o')\n",
        "for x, label in zip(X_test, output):\n",
        "  plt.plot(x[0], x[1], colors[label] + 'x')"
      ],
      "metadata": {
        "id": "VdVfUgYWvSYf",
        "colab": {
          "base_uri": "https://localhost:8080/",
          "height": 447
        },
        "outputId": "d3dc550b-c248-4919-b6a3-5830ada5cf6e"
      },
      "execution_count": 30,
      "outputs": [
        {
          "output_type": "stream",
          "name": "stdout",
          "text": [
            "Accuracy: 0.45\n"
          ]
        },
        {
          "output_type": "display_data",
          "data": {
            "text/plain": [
              "<Figure size 640x480 with 1 Axes>"
            ],
            "image/png": "[encoded data removed]"
          },
          "metadata": {}
        }
      ]
    },
    {
      "cell_type": "markdown",
      "source": [
        "# Analisis\n",
        "\n",
        "Jelaskan hasil yang anda dapatkan!"
      ],
      "metadata": {
        "id": "qP8VizXtwrvH"
      }
    },
    {
      "cell_type": "markdown",
      "source": [
        "Berdasarkan percobaan diatas ketiga fungsi lvq_fit() berbeda berdasarkan 2 hal: jumlah neuron, kondisi pembaruan:\n",
        "1. jumlah neuron yang diperbarui\n",
        "lvq_fit memperbaiki satu neuron terdekat sedangkan lvq2 dan lvq21 memperbarui dua neuron terdekat\n",
        "\n",
        "2. kondisi pembaruan\n",
        "lvq_fit mempertimbangkan kesamaan label antara neuron terdekat dan target sedangkat lvq2_fit dan lvq21_fit mempertimbangkan rasio jarak antara dua neuron terdekat dan suatu epsilon\n",
        "\n",
        "nilai akurasi yang berbeda mungkin dikarenakan parameter yang tidak optimal ataupun terdapat overfitting/underfitting pada lvq2 dan lvq21"
      ],
      "metadata": {
        "id": "JLEj0Fgqwx1K"
      }
    }
  ]
}