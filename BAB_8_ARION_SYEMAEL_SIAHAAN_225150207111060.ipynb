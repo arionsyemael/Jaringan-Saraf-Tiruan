{
  "nbformat": 4,
  "nbformat_minor": 0,
  "metadata": {
    "colab": {
      "provenance": []
    },
    "kernelspec": {
      "name": "python3",
      "display_name": "Python 3"
    },
    "language_info": {
      "name": "python"
    }
  },
  "cells": [
    {
      "cell_type": "markdown",
      "metadata": {
        "id": "8sBj-jBGbLEn"
      },
      "source": [
        "# Self-Organizing Maps"
      ]
    },
    {
      "cell_type": "markdown",
      "metadata": {
        "id": "pnT6xw0qbT0C"
      },
      "source": [
        "## Praktikum"
      ]
    },
    {
      "cell_type": "markdown",
      "metadata": {
        "id": "tC5FDai2begm"
      },
      "source": [
        "### a) Fungsi *self-organizing maps*\n",
        "Tulis kode ke dalam *cell* di bawah ini:"
      ]
    },
    {
      "cell_type": "code",
      "metadata": {
        "id": "s8U5y5ESbzN8"
      },
      "source": [
        "import numpy as np\n",
        "\n",
        "def som(X, lrate, b, max_epoch, n_cluster):\n",
        "  centroids = np.random.uniform(size=(n_cluster, len(X[0])))\n",
        "  epoch = 0\n",
        "  labels = []\n",
        "  while epoch < max_epoch:\n",
        "    for x in X:\n",
        "      d = [sum((w - x) ** 2) for w in centroids]\n",
        "      min = np.argmin(d)\n",
        "      centroids[min] += lrate * (x - centroids[min])\n",
        "    lrate *= b\n",
        "    epoch += 1\n",
        "  for x in X:\n",
        "    d = [sum((w - x) ** 2) for w in centroids]\n",
        "    min = np.argmin(d)\n",
        "    labels.append(min)\n",
        "  return centroids, labels\n",
        "\n",
        "def draw(X, target, centroids):\n",
        "  colors = 'rgbcmyk'\n",
        "  for x, label in zip(X, target):\n",
        "    plt.plot(x[0], x[1], colors[label] + '.')\n",
        "  plt.plot(centroids[:, 0], centroids[:, 1], 'kx')"
      ],
      "execution_count": null,
      "outputs": []
    },
    {
      "cell_type": "markdown",
      "metadata": {
        "id": "xDauUXg8bz-Q"
      },
      "source": [
        "### b) Klasterisasi\n",
        "Tulis kode ke dalam *cell* di bawah ini:"
      ]
    },
    {
      "cell_type": "code",
      "metadata": {
        "id": "6khcAIFGb8Jr",
        "colab": {
          "base_uri": "https://localhost:8080/",
          "height": 1000
        },
        "outputId": "f434e888-eece-4286-8e0e-423ebefc4fd3"
      },
      "source": [
        "from sklearn.datasets import make_blobs\n",
        "from sklearn.metrics import silhouette_score\n",
        "import matplotlib.pyplot as plt\n",
        "\n",
        "X, target = make_blobs(n_samples=30, n_features=2, centers=3,random_state=3)\n",
        "print('Data:\\n',X)\n",
        "centroids, labels = som(X, lrate=.5, b=.5, max_epoch=100, n_cluster=3)\n",
        "print('\\ncentroid terbaru:\\n',centroids)\n",
        "silhouette = silhouette_score(X, labels)\n",
        "print('\\nSilhouette score:', silhouette)\n",
        "draw(X, target, centroids)"
      ],
      "execution_count": null,
      "outputs": [
        {
          "output_type": "stream",
          "name": "stdout",
          "text": [
            "Data:\n",
            " [[-3.05792726  0.08463787]\n",
            " [-0.16908848  3.95730655]\n",
            " [-5.20569036 -0.4964411 ]\n",
            " [-4.95074157 -0.01347862]\n",
            " [ 1.06599169  3.75827904]\n",
            " [-4.98567132 -2.20253107]\n",
            " [ 0.73856985  3.80819747]\n",
            " [ 8.9070866   9.2595996 ]\n",
            " [ 6.98505679  7.95557559]\n",
            " [ 2.50210641  4.39967272]\n",
            " [ 9.34648222  6.80756109]\n",
            " [-3.55666026  0.05603874]\n",
            " [ 0.4705981   2.61647914]\n",
            " [ 7.66152441  9.70050681]\n",
            " [-5.42602855 -0.40986481]\n",
            " [ 1.89727609  5.87252952]\n",
            " [ 5.61068132  7.65809991]\n",
            " [ 8.70477249  6.06497225]\n",
            " [ 7.26228945  7.3372674 ]\n",
            " [ 8.87212253  8.77865962]\n",
            " [ 7.25605398  6.01138974]\n",
            " [-3.43684896  2.19266289]\n",
            " [-0.2979067   5.04757883]\n",
            " [ 0.93321657  3.53595578]\n",
            " [-5.80519067  0.86322756]\n",
            " [ 1.99832549  3.06188882]\n",
            " [ 0.97213988  3.68573842]\n",
            " [ 8.96712659  9.04525243]\n",
            " [-5.10569724 -0.80732366]\n",
            " [-4.53817598 -1.52658893]]\n",
            "\n",
            "centroid terbaru:\n",
            " [[-4.65183793 -0.24109952]\n",
            " [ 7.98034078  7.8291349 ]\n",
            " [ 1.04434894  3.95027793]]\n",
            "\n",
            "Silhouette score: 0.7215682462170806\n"
          ]
        },
        {
          "output_type": "display_data",
          "data": {
            "text/plain": [
              "<Figure size 640x480 with 1 Axes>"
            ],
            "image/png": "[encoded data removed]"
          },
          "metadata": {}
        }
      ]
    },
    {
      "cell_type": "code",
      "source": [
        "X, target = make_blobs(n_samples=30, n_features=2, centers=3, random_state=3)\n",
        "print('Data:\\n', X)\n",
        "centroids, labels = som(X, lrate=0.05, b=0.5, max_epoch=3, n_cluster=3)\n",
        "print('\\ncentroids:\\n', centroids)\n",
        "silhouette = silhouette_score(X, labels)\n",
        "print('\\nSilhouette score:', silhouette)\n",
        "draw(X, target, centroids)"
      ],
      "metadata": {
        "colab": {
          "base_uri": "https://localhost:8080/",
          "height": 1000
        },
        "id": "yjV63gYdTZ4E",
        "outputId": "5be65f88-720f-4d8f-fc0a-138a7718752f"
      },
      "execution_count": null,
      "outputs": [
        {
          "output_type": "stream",
          "name": "stdout",
          "text": [
            "Data:\n",
            " [[-3.05792726  0.08463787]\n",
            " [-0.16908848  3.95730655]\n",
            " [-5.20569036 -0.4964411 ]\n",
            " [-4.95074157 -0.01347862]\n",
            " [ 1.06599169  3.75827904]\n",
            " [-4.98567132 -2.20253107]\n",
            " [ 0.73856985  3.80819747]\n",
            " [ 8.9070866   9.2595996 ]\n",
            " [ 6.98505679  7.95557559]\n",
            " [ 2.50210641  4.39967272]\n",
            " [ 9.34648222  6.80756109]\n",
            " [-3.55666026  0.05603874]\n",
            " [ 0.4705981   2.61647914]\n",
            " [ 7.66152441  9.70050681]\n",
            " [-5.42602855 -0.40986481]\n",
            " [ 1.89727609  5.87252952]\n",
            " [ 5.61068132  7.65809991]\n",
            " [ 8.70477249  6.06497225]\n",
            " [ 7.26228945  7.3372674 ]\n",
            " [ 8.87212253  8.77865962]\n",
            " [ 7.25605398  6.01138974]\n",
            " [-3.43684896  2.19266289]\n",
            " [-0.2979067   5.04757883]\n",
            " [ 0.93321657  3.53595578]\n",
            " [-5.80519067  0.86322756]\n",
            " [ 1.99832549  3.06188882]\n",
            " [ 0.97213988  3.68573842]\n",
            " [ 8.96712659  9.04525243]\n",
            " [-5.10569724 -0.80732366]\n",
            " [-4.53817598 -1.52658893]]\n",
            "\n",
            "centroids:\n",
            " [[-2.72937004  0.09636046]\n",
            " [ 0.73394216  1.20371724]\n",
            " [ 4.24743294  5.28265688]]\n",
            "\n",
            "Silhouette score: 0.6157837764356677\n"
          ]
        },
        {
          "output_type": "display_data",
          "data": {
            "text/plain": [
              "<Figure size 640x480 with 1 Axes>"
            ],
            "image/png": "[encoded data removed]"
          },
          "metadata": {}
        }
      ]
    }
  ]
}