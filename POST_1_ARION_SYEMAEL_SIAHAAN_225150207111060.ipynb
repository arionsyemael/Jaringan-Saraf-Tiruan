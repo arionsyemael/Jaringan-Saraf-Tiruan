{
  "nbformat": 4,
  "nbformat_minor": 0,
  "metadata": {
    "colab": {
      "provenance": []
    },
    "kernelspec": {
      "name": "python3",
      "display_name": "Python 3"
    },
    "language_info": {
      "name": "python"
    }
  },
  "cells": [
    {
      "cell_type": "markdown",
      "source": [
        "Pada soal bab 1 ini, praktikan diharap bisa menerapkan McCulloch-Pitts Neuron 2 layer untuk menyelesaikan persoalan logika sederhana."
      ],
      "metadata": {
        "id": "Ajq3vhLich78"
      }
    },
    {
      "cell_type": "markdown",
      "source": [
        "# Modul"
      ],
      "metadata": {
        "id": "O699a8SBMGFQ"
      }
    },
    {
      "cell_type": "code",
      "metadata": {
        "id": "bIJkBSh2Wagw"
      },
      "source": [
        "def binstep(x, th=0):\n",
        "  return 1 if x >= th else 0"
      ],
      "execution_count": 1,
      "outputs": []
    },
    {
      "cell_type": "code",
      "metadata": {
        "id": "1ib6LYBRbRDF"
      },
      "source": [
        "import numpy as np\n",
        "\n",
        "def MCP(x, w, th):\n",
        "  y_in = np.dot(x, w)\n",
        "  y_out = binstep(y_in, th)\n",
        "  return y_out"
      ],
      "execution_count": 2,
      "outputs": []
    },
    {
      "cell_type": "code",
      "metadata": {
        "id": "ZXiZ_tEhfQQb"
      },
      "source": [
        "def calc_accuracy(a, b):\n",
        "  s = [1 if a[i] == b[i] else 0 for i in range(len(a))]\n",
        "  return sum(s) / len(a)"
      ],
      "execution_count": 3,
      "outputs": []
    },
    {
      "cell_type": "code",
      "metadata": {
        "id": "NiNa336XfzuU"
      },
      "source": [
        "def AND(X):\n",
        "  w = 1, 1\n",
        "  th = 2\n",
        "  y = [MCP(i, w, th) for i in X]\n",
        "  return y"
      ],
      "execution_count": 4,
      "outputs": []
    },
    {
      "cell_type": "code",
      "metadata": {
        "id": "2racFwUKhGhw",
        "colab": {
          "base_uri": "https://localhost:8080/"
        },
        "outputId": "2177b3fa-bd1f-4c80-8a77-ad03d1c61d82"
      },
      "source": [
        "data = (0, 0), (0, 1), (1, 0), (1, 1)\n",
        "output = AND(data)\n",
        "true = 0, 0, 0, 1\n",
        "accuracy = calc_accuracy(output, true)\n",
        "\n",
        "print('Output:', output)\n",
        "print('True:', true)\n",
        "print('Accuracy:', accuracy)"
      ],
      "execution_count": 5,
      "outputs": [
        {
          "output_type": "stream",
          "name": "stdout",
          "text": [
            "Output: [0, 0, 0, 1]\n",
            "True: (0, 0, 0, 1)\n",
            "Accuracy: 1.0\n"
          ]
        }
      ]
    },
    {
      "cell_type": "code",
      "metadata": {
        "id": "VQ051x3e8Fni"
      },
      "source": [
        "def OR(X):\n",
        "  w = 2, 2\n",
        "  th = 2\n",
        "  y = [MCP(i, w, th) for i in X]\n",
        "  return y"
      ],
      "execution_count": 6,
      "outputs": []
    },
    {
      "cell_type": "code",
      "metadata": {
        "id": "Cjq7S2ax8IHu",
        "colab": {
          "base_uri": "https://localhost:8080/"
        },
        "outputId": "fb74b4c8-9ba2-4e0e-9b19-83c99cfa73da"
      },
      "source": [
        "data = (0, 0), (0, 1), (1, 0), (1, 1)\n",
        "output = OR(data)\n",
        "true = 0, 1, 1, 1\n",
        "accuracy = calc_accuracy(output, true)\n",
        "\n",
        "print('Output:', output)\n",
        "print('True:', true)\n",
        "print('Accuracy:', accuracy)"
      ],
      "execution_count": 7,
      "outputs": [
        {
          "output_type": "stream",
          "name": "stdout",
          "text": [
            "Output: [0, 1, 1, 1]\n",
            "True: (0, 1, 1, 1)\n",
            "Accuracy: 1.0\n"
          ]
        }
      ]
    },
    {
      "cell_type": "code",
      "metadata": {
        "id": "EO-ZbanW8P6J"
      },
      "source": [
        "def ANDNOT(X):\n",
        "  w = 2, -1\n",
        "  th = 2\n",
        "  y = [MCP(i, w, th) for i in X]\n",
        "  return y"
      ],
      "execution_count": 8,
      "outputs": []
    },
    {
      "cell_type": "code",
      "metadata": {
        "id": "8Ccg-2UU8Ugk",
        "colab": {
          "base_uri": "https://localhost:8080/"
        },
        "outputId": "9209fb09-c761-48f5-830d-f9f91c69f925"
      },
      "source": [
        "data = (0, 0), (0, 1), (1, 0), (1, 1)\n",
        "output = ANDNOT(data)\n",
        "true = 0, 0, 1, 0\n",
        "accuracy = calc_accuracy(output, true)\n",
        "\n",
        "print('Output:', output)\n",
        "print('True:', true)\n",
        "print('Accuracy:', accuracy)"
      ],
      "execution_count": 9,
      "outputs": [
        {
          "output_type": "stream",
          "name": "stdout",
          "text": [
            "Output: [0, 0, 1, 0]\n",
            "True: (0, 0, 1, 0)\n",
            "Accuracy: 1.0\n"
          ]
        }
      ]
    },
    {
      "cell_type": "code",
      "metadata": {
        "id": "AN2gQc1A-FPf"
      },
      "source": [
        "def XOR(X):\n",
        "  X_flip = [(i[1], i[0]) for i in X]\n",
        "  y1 = ANDNOT(X)\n",
        "  y2 = ANDNOT(X_flip)\n",
        "  y = zip(y1, y2)\n",
        "  z = OR(y)\n",
        "  return z"
      ],
      "execution_count": 10,
      "outputs": []
    },
    {
      "cell_type": "code",
      "metadata": {
        "id": "DLbzE9yl-JFR",
        "colab": {
          "base_uri": "https://localhost:8080/"
        },
        "outputId": "81900131-4c26-4f92-eae5-64b55b0979a5"
      },
      "source": [
        "data = (0, 0), (0, 1), (1, 0), (1, 1)\n",
        "output = XOR(data)\n",
        "true = 0, 1, 1, 0\n",
        "accuracy = calc_accuracy(output, true)\n",
        "\n",
        "print('Output:', output)\n",
        "print('True:', true)\n",
        "print('Accuracy:', accuracy)"
      ],
      "execution_count": 11,
      "outputs": [
        {
          "output_type": "stream",
          "name": "stdout",
          "text": [
            "Output: [0, 1, 1, 0]\n",
            "True: (0, 1, 1, 0)\n",
            "Accuracy: 1.0\n"
          ]
        }
      ]
    },
    {
      "cell_type": "markdown",
      "source": [
        "#Soal"
      ],
      "metadata": {
        "id": "UTuApOo_MCPM"
      }
    },
    {
      "cell_type": "markdown",
      "source": [
        "Logika yang sudah ada di modul:\n",
        "-  and\n",
        "-  or\n",
        "-  andnot\n",
        "-  xor"
      ],
      "metadata": {
        "id": "-LDdWhxpBu6A"
      }
    },
    {
      "cell_type": "markdown",
      "source": [
        "Kode di bawah ini merupakan pengembangan dari JST McCulloch-Pitts Neuron. Disini teman-teman akan menyelesaikan masalah logika yang merupakan kombinasi dari dari logika-logika yang telah dibuat fungsi sebelumnya. Selesaikan dengan memanggil fungsi-fungsi tersebut."
      ],
      "metadata": {
        "id": "JNBTiPumLNPp"
      }
    },
    {
      "cell_type": "code",
      "source": [
        "# template soal\n",
        "def logic(X):\n",
        "  f0 = [x[0] for x in X]\n",
        "  f1 = [x[1] for x in X]\n",
        "  f2 = [x[2] for x in X]\n",
        "\n",
        "  op1 = ANDNOT(zip(f0, f1))\n",
        "  op2 = OR(zip(op1, f2))\n",
        "\n",
        "  return op2\n",
        "\n",
        "data = (0,0,0), (0,1,0), (0,0,1), (0,1,1), (1,1,1), (1,0,1), (1,0,0), (1,1,0)\n",
        "true =  0, 0, 1, 1, 1, 1, 1, 0\n",
        "output = logic(data)\n",
        "accuracy = calc_accuracy(output, true)\n",
        "\n",
        "print(accuracy)"
      ],
      "metadata": {
        "id": "Ux40Ut1-aPWc",
        "colab": {
          "base_uri": "https://localhost:8080/"
        },
        "outputId": "fc52c4b8-5fe2-4e77-f2b2-4716ed1ec2e7"
      },
      "execution_count": 12,
      "outputs": [
        {
          "output_type": "stream",
          "name": "stdout",
          "text": [
            "1.0\n"
          ]
        }
      ]
    },
    {
      "cell_type": "markdown",
      "source": [
        "Bagaimana bentuk masalah logika tersebut? (gunakan variabel f0,f1,f2 untuk menjelaskannya)"
      ],
      "metadata": {
        "id": "g6TpIxh96LKt"
      }
    },
    {
      "cell_type": "markdown",
      "source": [
        "**disini aku pake zip dimana zip ini gunanya buat ambil setiap elemen pertama dari setiap iterasi terus digabungin jadi 1 tuple terus lanjut ke elemen seterusnya**"
      ],
      "metadata": {
        "id": "x4XpjDWeQeU8"
      }
    },
    {
      "cell_type": "markdown",
      "source": [
        "Jadi setiap pasangan f0 dan f1 ini nantinya di operasikan lebih dulu, dan menghasilkan output 1 HANYA JIKA f0 bernilai 1 dan f1 bernilai 0. Terus hasil dari operasi yang tadi digabungkan di f2 = [OR(zip(op1, f2))] , terus di output akhirnya itu bernilai 1 KALO salah satu dari hasil op1 atau f2 itu bernilai 1."
      ],
      "metadata": {
        "id": "WPvnWbrw6LyE"
      }
    }
  ]
}