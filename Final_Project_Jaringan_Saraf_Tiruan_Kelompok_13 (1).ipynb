{
  "cells": [
    {
      "cell_type": "markdown",
      "metadata": {
        "id": "M7y-dqEC_gCR"
      },
      "source": [
        "**KELOMPOK 13**\n",
        "\n",
        "Arion Syemael Siahaan\n",
        "\n",
        "Firman Maulana\n",
        "\n",
        "Razi Al-kindi"
      ]
    },
    {
      "cell_type": "code",
      "execution_count": null,
      "metadata": {
        "id": "Nr4Z5kgx0E6c"
      },
      "outputs": [],
      "source": [
        "import pandas as pd\n",
        "import numpy as np\n",
        "import matplotlib.pyplot as plt\n",
        "import seaborn as sns\n",
        "from sklearn.model_selection import train_test_split\n",
        "from sklearn.preprocessing import minmax_scale, OneHotEncoder\n",
        "from sklearn.metrics import accuracy_score, confusion_matrix, ConfusionMatrixDisplay, f1_score, precision_score, recall_score"
      ]
    },
    {
      "cell_type": "markdown",
      "metadata": {
        "id": "Gh4mVs64GrCA"
      },
      "source": []
    },
    {
      "cell_type": "code",
      "source": [
        "# Download dataset dari Kaggle\n",
        "!kaggle datasets download -d gaurav2022/mobile-health\n",
        "\n",
        "# Ekstrak file ZIP\n",
        "!unzip mobile-health.zip"
      ],
      "metadata": {
        "id": "x43cE5zEQL9U"
      },
      "execution_count": null,
      "outputs": []
    },
    {
      "cell_type": "code",
      "execution_count": null,
      "metadata": {
        "id": "LoqVx05C0Uav"
      },
      "outputs": [],
      "source": [
        "# Step 2: Load the dataset\n",
        "df = pd.read_csv('mhealth_raw_data.csv')"
      ]
    },
    {
      "cell_type": "code",
      "execution_count": null,
      "metadata": {
        "id": "kFV4QCfQ5KwV",
        "colab": {
          "base_uri": "https://localhost:8080/"
        },
        "outputId": "ded5bca2-d8bf-4a24-b202-8e1fa30d73d5"
      },
      "outputs": [
        {
          "output_type": "stream",
          "name": "stdout",
          "text": [
            "<class 'pandas.core.frame.DataFrame'>\n",
            "RangeIndex: 1215745 entries, 0 to 1215744\n",
            "Data columns (total 14 columns):\n",
            " #   Column    Non-Null Count    Dtype  \n",
            "---  ------    --------------    -----  \n",
            " 0   alx       1215745 non-null  float64\n",
            " 1   aly       1215745 non-null  float64\n",
            " 2   alz       1215745 non-null  float64\n",
            " 3   glx       1215745 non-null  float64\n",
            " 4   gly       1215745 non-null  float64\n",
            " 5   glz       1215745 non-null  float64\n",
            " 6   arx       1215745 non-null  float64\n",
            " 7   ary       1215745 non-null  float64\n",
            " 8   arz       1215745 non-null  float64\n",
            " 9   grx       1215745 non-null  float64\n",
            " 10  gry       1215745 non-null  float64\n",
            " 11  grz       1215745 non-null  float64\n",
            " 12  Activity  1215745 non-null  int64  \n",
            " 13  subject   1215745 non-null  object \n",
            "dtypes: float64(12), int64(1), object(1)\n",
            "memory usage: 129.9+ MB\n"
          ]
        }
      ],
      "source": [
        "df.info()"
      ]
    },
    {
      "cell_type": "code",
      "execution_count": null,
      "metadata": {
        "id": "e747I4ZO7hap"
      },
      "outputs": [],
      "source": [
        "df = df.drop(columns=['alx', 'aly', 'alz', 'arx', 'ary', 'arz', 'subject'])"
      ]
    },
    {
      "cell_type": "code",
      "execution_count": null,
      "metadata": {
        "id": "kGW7oCeMNAF4",
        "colab": {
          "base_uri": "https://localhost:8080/",
          "height": 573
        },
        "outputId": "bc2a6477-26da-45cf-9f1e-6f32f9645e50"
      },
      "outputs": [
        {
          "output_type": "display_data",
          "data": {
            "text/plain": [
              "<Figure size 1200x600 with 1 Axes>"
            ],
            "image/png": "[encoded data removed]"
          },
          "metadata": {}
        }
      ],
      "source": [
        "plt.figure(figsize=(12, 6))\n",
        "sns.countplot(x='Activity', data=df)\n",
        "plt.title('Number of Data Points for Each Activity')\n",
        "plt.xlabel('Activity')\n",
        "plt.ylabel('Count')\n",
        "plt.xticks(rotation=45, ha='right')\n",
        "plt.show()"
      ]
    },
    {
      "cell_type": "code",
      "execution_count": null,
      "metadata": {
        "id": "t3TUNEKbKpmJ"
      },
      "outputs": [],
      "source": [
        "df = df[df['Activity'].isin([1, 2, 4])]"
      ]
    },
    {
      "cell_type": "code",
      "source": [
        "df.head(20)"
      ],
      "metadata": {
        "colab": {
          "base_uri": "https://localhost:8080/",
          "height": 676
        },
        "id": "i64GWW0qGnVI",
        "outputId": "b1abf905-adbf-4034-b118-60b1e302d8fd"
      },
      "execution_count": null,
      "outputs": [
        {
          "output_type": "execute_result",
          "data": {
            "text/plain": [
              "          glx      gly      glz       grx      gry      grz  Activity\n",
              "6656 -0.20965 -0.88931 -0.50884 -0.058824 -0.93429 -0.34483         1\n",
              "6657 -0.20965 -0.88931 -0.50884 -0.058824 -0.93429 -0.34483         1\n",
              "6658 -0.20037 -0.86867 -0.50688 -0.058824 -0.93429 -0.34483         1\n",
              "6659 -0.20037 -0.86867 -0.50688 -0.078431 -0.93429 -0.34052         1\n",
              "6660 -0.20037 -0.86867 -0.50688 -0.078431 -0.93429 -0.34052         1\n",
              "6661 -0.20037 -0.86867 -0.50688 -0.078431 -0.93429 -0.34052         1\n",
              "6662 -0.21892 -0.87242 -0.50688 -0.078431 -0.93429 -0.34052         1\n",
              "6663 -0.21892 -0.87242 -0.50688 -0.078431 -0.93429 -0.34052         1\n",
              "6664 -0.21892 -0.87242 -0.50688 -0.078431 -0.93429 -0.34052         1\n",
              "6665 -0.20223 -0.87992 -0.49116 -0.078431 -0.93429 -0.34052         1\n",
              "6666 -0.20223 -0.87992 -0.49116 -0.068627 -0.93224 -0.34698         1\n",
              "6667 -0.20223 -0.87992 -0.49116 -0.068627 -0.93224 -0.34698         1\n",
              "6668 -0.20223 -0.87992 -0.49116 -0.068627 -0.93224 -0.34698         1\n",
              "6669 -0.20223 -0.87805 -0.51866 -0.045098 -0.93429 -0.36853         1\n",
              "6670 -0.20223 -0.87805 -0.51866 -0.045098 -0.93429 -0.36853         1\n",
              "6671 -0.20223 -0.87805 -0.51866 -0.045098 -0.93429 -0.36853         1\n",
              "6672 -0.21150 -0.88743 -0.50295 -0.045098 -0.93429 -0.36853         1\n",
              "6673 -0.21150 -0.88743 -0.50295 -0.060784 -0.93224 -0.34267         1\n",
              "6674 -0.21150 -0.88743 -0.50295 -0.060784 -0.93224 -0.34267         1\n",
              "6675 -0.21150 -0.88743 -0.50295 -0.060784 -0.93224 -0.34267         1"
            ],
            "text/html": [
              "\n",
              "  <div id=\"df-9a631e62-63db-4acf-ae7f-66fad91915f4\" class=\"colab-df-container\">\n",
              "    <div>\n",
              "<style scoped>\n",
              "    .dataframe tbody tr th:only-of-type {\n",
              "        vertical-align: middle;\n",
              "    }\n",
              "\n",
              "    .dataframe tbody tr th {\n",
              "        vertical-align: top;\n",
              "    }\n",
              "\n",
              "    .dataframe thead th {\n",
              "        text-align: right;\n",
              "    }\n",
              "</style>\n",
              "<table border=\"1\" class=\"dataframe\">\n",
              "  <thead>\n",
              "    <tr style=\"text-align: right;\">\n",
              "      <th></th>\n",
              "      <th>glx</th>\n",
              "      <th>gly</th>\n",
              "      <th>glz</th>\n",
              "      <th>grx</th>\n",
              "      <th>gry</th>\n",
              "      <th>grz</th>\n",
              "      <th>Activity</th>\n",
              "    </tr>\n",
              "  </thead>\n",
              "  <tbody>\n",
              "    <tr>\n",
              "      <th>6656</th>\n",
              "      <td>-0.20965</td>\n",
              "      <td>-0.88931</td>\n",
              "      <td>-0.50884</td>\n",
              "      <td>-0.058824</td>\n",
              "      <td>-0.93429</td>\n",
              "      <td>-0.34483</td>\n",
              "      <td>1</td>\n",
              "    </tr>\n",
              "    <tr>\n",
              "      <th>6657</th>\n",
              "      <td>-0.20965</td>\n",
              "      <td>-0.88931</td>\n",
              "      <td>-0.50884</td>\n",
              "      <td>-0.058824</td>\n",
              "      <td>-0.93429</td>\n",
              "      <td>-0.34483</td>\n",
              "      <td>1</td>\n",
              "    </tr>\n",
              "    <tr>\n",
              "      <th>6658</th>\n",
              "      <td>-0.20037</td>\n",
              "      <td>-0.86867</td>\n",
              "      <td>-0.50688</td>\n",
              "      <td>-0.058824</td>\n",
              "      <td>-0.93429</td>\n",
              "      <td>-0.34483</td>\n",
              "      <td>1</td>\n",
              "    </tr>\n",
              "    <tr>\n",
              "      <th>6659</th>\n",
              "      <td>-0.20037</td>\n",
              "      <td>-0.86867</td>\n",
              "      <td>-0.50688</td>\n",
              "      <td>-0.078431</td>\n",
              "      <td>-0.93429</td>\n",
              "      <td>-0.34052</td>\n",
              "      <td>1</td>\n",
              "    </tr>\n",
              "    <tr>\n",
              "      <th>6660</th>\n",
              "      <td>-0.20037</td>\n",
              "      <td>-0.86867</td>\n",
              "      <td>-0.50688</td>\n",
              "      <td>-0.078431</td>\n",
              "      <td>-0.93429</td>\n",
              "      <td>-0.34052</td>\n",
              "      <td>1</td>\n",
              "    </tr>\n",
              "    <tr>\n",
              "      <th>6661</th>\n",
              "      <td>-0.20037</td>\n",
              "      <td>-0.86867</td>\n",
              "      <td>-0.50688</td>\n",
              "      <td>-0.078431</td>\n",
              "      <td>-0.93429</td>\n",
              "      <td>-0.34052</td>\n",
              "      <td>1</td>\n",
              "    </tr>\n",
              "    <tr>\n",
              "      <th>6662</th>\n",
              "      <td>-0.21892</td>\n",
              "      <td>-0.87242</td>\n",
              "      <td>-0.50688</td>\n",
              "      <td>-0.078431</td>\n",
              "      <td>-0.93429</td>\n",
              "      <td>-0.34052</td>\n",
              "      <td>1</td>\n",
              "    </tr>\n",
              "    <tr>\n",
              "      <th>6663</th>\n",
              "      <td>-0.21892</td>\n",
              "      <td>-0.87242</td>\n",
              "      <td>-0.50688</td>\n",
              "      <td>-0.078431</td>\n",
              "      <td>-0.93429</td>\n",
              "      <td>-0.34052</td>\n",
              "      <td>1</td>\n",
              "    </tr>\n",
              "    <tr>\n",
              "      <th>6664</th>\n",
              "      <td>-0.21892</td>\n",
              "      <td>-0.87242</td>\n",
              "      <td>-0.50688</td>\n",
              "      <td>-0.078431</td>\n",
              "      <td>-0.93429</td>\n",
              "      <td>-0.34052</td>\n",
              "      <td>1</td>\n",
              "    </tr>\n",
              "    <tr>\n",
              "      <th>6665</th>\n",
              "      <td>-0.20223</td>\n",
              "      <td>-0.87992</td>\n",
              "      <td>-0.49116</td>\n",
              "      <td>-0.078431</td>\n",
              "      <td>-0.93429</td>\n",
              "      <td>-0.34052</td>\n",
              "      <td>1</td>\n",
              "    </tr>\n",
              "    <tr>\n",
              "      <th>6666</th>\n",
              "      <td>-0.20223</td>\n",
              "      <td>-0.87992</td>\n",
              "      <td>-0.49116</td>\n",
              "      <td>-0.068627</td>\n",
              "      <td>-0.93224</td>\n",
              "      <td>-0.34698</td>\n",
              "      <td>1</td>\n",
              "    </tr>\n",
              "    <tr>\n",
              "      <th>6667</th>\n",
              "      <td>-0.20223</td>\n",
              "      <td>-0.87992</td>\n",
              "      <td>-0.49116</td>\n",
              "      <td>-0.068627</td>\n",
              "      <td>-0.93224</td>\n",
              "      <td>-0.34698</td>\n",
              "      <td>1</td>\n",
              "    </tr>\n",
              "    <tr>\n",
              "      <th>6668</th>\n",
              "      <td>-0.20223</td>\n",
              "      <td>-0.87992</td>\n",
              "      <td>-0.49116</td>\n",
              "      <td>-0.068627</td>\n",
              "      <td>-0.93224</td>\n",
              "      <td>-0.34698</td>\n",
              "      <td>1</td>\n",
              "    </tr>\n",
              "    <tr>\n",
              "      <th>6669</th>\n",
              "      <td>-0.20223</td>\n",
              "      <td>-0.87805</td>\n",
              "      <td>-0.51866</td>\n",
              "      <td>-0.045098</td>\n",
              "      <td>-0.93429</td>\n",
              "      <td>-0.36853</td>\n",
              "      <td>1</td>\n",
              "    </tr>\n",
              "    <tr>\n",
              "      <th>6670</th>\n",
              "      <td>-0.20223</td>\n",
              "      <td>-0.87805</td>\n",
              "      <td>-0.51866</td>\n",
              "      <td>-0.045098</td>\n",
              "      <td>-0.93429</td>\n",
              "      <td>-0.36853</td>\n",
              "      <td>1</td>\n",
              "    </tr>\n",
              "    <tr>\n",
              "      <th>6671</th>\n",
              "      <td>-0.20223</td>\n",
              "      <td>-0.87805</td>\n",
              "      <td>-0.51866</td>\n",
              "      <td>-0.045098</td>\n",
              "      <td>-0.93429</td>\n",
              "      <td>-0.36853</td>\n",
              "      <td>1</td>\n",
              "    </tr>\n",
              "    <tr>\n",
              "      <th>6672</th>\n",
              "      <td>-0.21150</td>\n",
              "      <td>-0.88743</td>\n",
              "      <td>-0.50295</td>\n",
              "      <td>-0.045098</td>\n",
              "      <td>-0.93429</td>\n",
              "      <td>-0.36853</td>\n",
              "      <td>1</td>\n",
              "    </tr>\n",
              "    <tr>\n",
              "      <th>6673</th>\n",
              "      <td>-0.21150</td>\n",
              "      <td>-0.88743</td>\n",
              "      <td>-0.50295</td>\n",
              "      <td>-0.060784</td>\n",
              "      <td>-0.93224</td>\n",
              "      <td>-0.34267</td>\n",
              "      <td>1</td>\n",
              "    </tr>\n",
              "    <tr>\n",
              "      <th>6674</th>\n",
              "      <td>-0.21150</td>\n",
              "      <td>-0.88743</td>\n",
              "      <td>-0.50295</td>\n",
              "      <td>-0.060784</td>\n",
              "      <td>-0.93224</td>\n",
              "      <td>-0.34267</td>\n",
              "      <td>1</td>\n",
              "    </tr>\n",
              "    <tr>\n",
              "      <th>6675</th>\n",
              "      <td>-0.21150</td>\n",
              "      <td>-0.88743</td>\n",
              "      <td>-0.50295</td>\n",
              "      <td>-0.060784</td>\n",
              "      <td>-0.93224</td>\n",
              "      <td>-0.34267</td>\n",
              "      <td>1</td>\n",
              "    </tr>\n",
              "  </tbody>\n",
              "</table>\n",
              "</div>\n",
              "    <div class=\"colab-df-buttons\">\n",
              "\n",
              "  <div class=\"colab-df-container\">\n",
              "    <button class=\"colab-df-convert\" onclick=\"convertToInteractive('df-9a631e62-63db-4acf-ae7f-66fad91915f4')\"\n",
              "            title=\"Convert this dataframe to an interactive table.\"\n",
              "            style=\"display:none;\">\n",
              "\n",
              "  <svg xmlns=\"http://www.w3.org/2000/svg\" height=\"24px\" viewBox=\"0 -960 960 960\">\n",
              "    <path d=\"M120-120v-720h720v720H120Zm60-500h600v-160H180v160Zm220 220h160v-160H400v160Zm0 220h160v-160H400v160ZM180-400h160v-160H180v160Zm440 0h160v-160H620v160ZM180-180h160v-160H180v160Zm440 0h160v-160H620v160Z\"/>\n",
              "  </svg>\n",
              "    </button>\n",
              "\n",
              "  <style>\n",
              "    .colab-df-container {\n",
              "      display:flex;\n",
              "      gap: 12px;\n",
              "    }\n",
              "\n",
              "    .colab-df-convert {\n",
              "      background-color: #E8F0FE;\n",
              "      border: none;\n",
              "      border-radius: 50%;\n",
              "      cursor: pointer;\n",
              "      display: none;\n",
              "      fill: #1967D2;\n",
              "      height: 32px;\n",
              "      padding: 0 0 0 0;\n",
              "      width: 32px;\n",
              "    }\n",
              "\n",
              "    .colab-df-convert:hover {\n",
              "      background-color: #E2EBFA;\n",
              "      box-shadow: 0px 1px 2px rgba(60, 64, 67, 0.3), 0px 1px 3px 1px rgba(60, 64, 67, 0.15);\n",
              "      fill: #174EA6;\n",
              "    }\n",
              "\n",
              "    .colab-df-buttons div {\n",
              "      margin-bottom: 4px;\n",
              "    }\n",
              "\n",
              "    [theme=dark] .colab-df-convert {\n",
              "      background-color: #3B4455;\n",
              "      fill: #D2E3FC;\n",
              "    }\n",
              "\n",
              "    [theme=dark] .colab-df-convert:hover {\n",
              "      background-color: #434B5C;\n",
              "      box-shadow: 0px 1px 3px 1px rgba(0, 0, 0, 0.15);\n",
              "      filter: drop-shadow(0px 1px 2px rgba(0, 0, 0, 0.3));\n",
              "      fill: #FFFFFF;\n",
              "    }\n",
              "  </style>\n",
              "\n",
              "    <script>\n",
              "      const buttonEl =\n",
              "        document.querySelector('#df-9a631e62-63db-4acf-ae7f-66fad91915f4 button.colab-df-convert');\n",
              "      buttonEl.style.display =\n",
              "        google.colab.kernel.accessAllowed ? 'block' : 'none';\n",
              "\n",
              "      async function convertToInteractive(key) {\n",
              "        const element = document.querySelector('#df-9a631e62-63db-4acf-ae7f-66fad91915f4');\n",
              "        const dataTable =\n",
              "          await google.colab.kernel.invokeFunction('convertToInteractive',\n",
              "                                                    [key], {});\n",
              "        if (!dataTable) return;\n",
              "\n",
              "        const docLinkHtml = 'Like what you see? Visit the ' +\n",
              "          '<a target=\"_blank\" href=https://colab.research.google.com/notebooks/data_table.ipynb>data table notebook</a>'\n",
              "          + ' to learn more about interactive tables.';\n",
              "        element.innerHTML = '';\n",
              "        dataTable['output_type'] = 'display_data';\n",
              "        await google.colab.output.renderOutput(dataTable, element);\n",
              "        const docLink = document.createElement('div');\n",
              "        docLink.innerHTML = docLinkHtml;\n",
              "        element.appendChild(docLink);\n",
              "      }\n",
              "    </script>\n",
              "  </div>\n",
              "\n",
              "\n",
              "<div id=\"df-9bad361d-aed5-4369-9817-839361d94e1d\">\n",
              "  <button class=\"colab-df-quickchart\" onclick=\"quickchart('df-9bad361d-aed5-4369-9817-839361d94e1d')\"\n",
              "            title=\"Suggest charts\"\n",
              "            style=\"display:none;\">\n",
              "\n",
              "<svg xmlns=\"http://www.w3.org/2000/svg\" height=\"24px\"viewBox=\"0 0 24 24\"\n",
              "     width=\"24px\">\n",
              "    <g>\n",
              "        <path d=\"M19 3H5c-1.1 0-2 .9-2 2v14c0 1.1.9 2 2 2h14c1.1 0 2-.9 2-2V5c0-1.1-.9-2-2-2zM9 17H7v-7h2v7zm4 0h-2V7h2v10zm4 0h-2v-4h2v4z\"/>\n",
              "    </g>\n",
              "</svg>\n",
              "  </button>\n",
              "\n",
              "<style>\n",
              "  .colab-df-quickchart {\n",
              "      --bg-color: #E8F0FE;\n",
              "      --fill-color: #1967D2;\n",
              "      --hover-bg-color: #E2EBFA;\n",
              "      --hover-fill-color: #174EA6;\n",
              "      --disabled-fill-color: #AAA;\n",
              "      --disabled-bg-color: #DDD;\n",
              "  }\n",
              "\n",
              "  [theme=dark] .colab-df-quickchart {\n",
              "      --bg-color: #3B4455;\n",
              "      --fill-color: #D2E3FC;\n",
              "      --hover-bg-color: #434B5C;\n",
              "      --hover-fill-color: #FFFFFF;\n",
              "      --disabled-bg-color: #3B4455;\n",
              "      --disabled-fill-color: #666;\n",
              "  }\n",
              "\n",
              "  .colab-df-quickchart {\n",
              "    background-color: var(--bg-color);\n",
              "    border: none;\n",
              "    border-radius: 50%;\n",
              "    cursor: pointer;\n",
              "    display: none;\n",
              "    fill: var(--fill-color);\n",
              "    height: 32px;\n",
              "    padding: 0;\n",
              "    width: 32px;\n",
              "  }\n",
              "\n",
              "  .colab-df-quickchart:hover {\n",
              "    background-color: var(--hover-bg-color);\n",
              "    box-shadow: 0 1px 2px rgba(60, 64, 67, 0.3), 0 1px 3px 1px rgba(60, 64, 67, 0.15);\n",
              "    fill: var(--button-hover-fill-color);\n",
              "  }\n",
              "\n",
              "  .colab-df-quickchart-complete:disabled,\n",
              "  .colab-df-quickchart-complete:disabled:hover {\n",
              "    background-color: var(--disabled-bg-color);\n",
              "    fill: var(--disabled-fill-color);\n",
              "    box-shadow: none;\n",
              "  }\n",
              "\n",
              "  .colab-df-spinner {\n",
              "    border: 2px solid var(--fill-color);\n",
              "    border-color: transparent;\n",
              "    border-bottom-color: var(--fill-color);\n",
              "    animation:\n",
              "      spin 1s steps(1) infinite;\n",
              "  }\n",
              "\n",
              "  @keyframes spin {\n",
              "    0% {\n",
              "      border-color: transparent;\n",
              "      border-bottom-color: var(--fill-color);\n",
              "      border-left-color: var(--fill-color);\n",
              "    }\n",
              "    20% {\n",
              "      border-color: transparent;\n",
              "      border-left-color: var(--fill-color);\n",
              "      border-top-color: var(--fill-color);\n",
              "    }\n",
              "    30% {\n",
              "      border-color: transparent;\n",
              "      border-left-color: var(--fill-color);\n",
              "      border-top-color: var(--fill-color);\n",
              "      border-right-color: var(--fill-color);\n",
              "    }\n",
              "    40% {\n",
              "      border-color: transparent;\n",
              "      border-right-color: var(--fill-color);\n",
              "      border-top-color: var(--fill-color);\n",
              "    }\n",
              "    60% {\n",
              "      border-color: transparent;\n",
              "      border-right-color: var(--fill-color);\n",
              "    }\n",
              "    80% {\n",
              "      border-color: transparent;\n",
              "      border-right-color: var(--fill-color);\n",
              "      border-bottom-color: var(--fill-color);\n",
              "    }\n",
              "    90% {\n",
              "      border-color: transparent;\n",
              "      border-bottom-color: var(--fill-color);\n",
              "    }\n",
              "  }\n",
              "</style>\n",
              "\n",
              "  <script>\n",
              "    async function quickchart(key) {\n",
              "      const quickchartButtonEl =\n",
              "        document.querySelector('#' + key + ' button');\n",
              "      quickchartButtonEl.disabled = true;  // To prevent multiple clicks.\n",
              "      quickchartButtonEl.classList.add('colab-df-spinner');\n",
              "      try {\n",
              "        const charts = await google.colab.kernel.invokeFunction(\n",
              "            'suggestCharts', [key], {});\n",
              "      } catch (error) {\n",
              "        console.error('Error during call to suggestCharts:', error);\n",
              "      }\n",
              "      quickchartButtonEl.classList.remove('colab-df-spinner');\n",
              "      quickchartButtonEl.classList.add('colab-df-quickchart-complete');\n",
              "    }\n",
              "    (() => {\n",
              "      let quickchartButtonEl =\n",
              "        document.querySelector('#df-9bad361d-aed5-4369-9817-839361d94e1d button');\n",
              "      quickchartButtonEl.style.display =\n",
              "        google.colab.kernel.accessAllowed ? 'block' : 'none';\n",
              "    })();\n",
              "  </script>\n",
              "</div>\n",
              "\n",
              "    </div>\n",
              "  </div>\n"
            ],
            "application/vnd.google.colaboratory.intrinsic+json": {
              "type": "dataframe",
              "variable_name": "df",
              "summary": "{\n  \"name\": \"df\",\n  \"rows\": 92160,\n  \"fields\": [\n    {\n      \"column\": \"glx\",\n      \"properties\": {\n        \"dtype\": \"number\",\n        \"std\": 0.48537724646841773,\n        \"min\": -1.0037,\n        \"max\": 0.78108,\n        \"num_unique_values\": 832,\n        \"samples\": [\n          -0.2987,\n          -0.67532,\n          -0.42115\n        ],\n        \"semantic_type\": \"\",\n        \"description\": \"\"\n      }\n    },\n    {\n      \"column\": \"gly\",\n      \"properties\": {\n        \"dtype\": \"number\",\n        \"std\": 0.18599724725147948,\n        \"min\": -1.1576,\n        \"max\": 0.13321,\n        \"num_unique_values\": 570,\n        \"samples\": [\n          -0.99625,\n          -0.53659,\n          -0.65103\n        ],\n        \"semantic_type\": \"\",\n        \"description\": \"\"\n      }\n    },\n    {\n      \"column\": \"glz\",\n      \"properties\": {\n        \"dtype\": \"number\",\n        \"std\": 0.5224998603657566,\n        \"min\": -1.1179,\n        \"max\": 0.88605,\n        \"num_unique_values\": 1013,\n        \"samples\": [\n          0.82711,\n          -0.37328,\n          -0.91945\n        ],\n        \"semantic_type\": \"\",\n        \"description\": \"\"\n      }\n    },\n    {\n      \"column\": \"grx\",\n      \"properties\": {\n        \"dtype\": \"number\",\n        \"std\": 0.46423909813964653,\n        \"min\": -1.0353,\n        \"max\": 0.91765,\n        \"num_unique_values\": 919,\n        \"samples\": [\n          -0.61765,\n          -0.57843,\n          -0.32353\n        ],\n        \"semantic_type\": \"\",\n        \"description\": \"\"\n      }\n    },\n    {\n      \"column\": \"gry\",\n      \"properties\": {\n        \"dtype\": \"number\",\n        \"std\": 0.4373025540652951,\n        \"min\": -1.1335,\n        \"max\": 0.77413,\n        \"num_unique_values\": 652,\n        \"samples\": [\n          0.45996,\n          -0.26694,\n          -0.14579\n        ],\n        \"semantic_type\": \"\",\n        \"description\": \"\"\n      }\n    },\n    {\n      \"column\": \"grz\",\n      \"properties\": {\n        \"dtype\": \"number\",\n        \"std\": 0.4828853113525046,\n        \"min\": -0.7974100000000001,\n        \"max\": 1.1207,\n        \"num_unique_values\": 811,\n        \"samples\": [\n          0.94397,\n          -0.11638,\n          1.0711\n        ],\n        \"semantic_type\": \"\",\n        \"description\": \"\"\n      }\n    },\n    {\n      \"column\": \"Activity\",\n      \"properties\": {\n        \"dtype\": \"number\",\n        \"std\": 1,\n        \"min\": 1,\n        \"max\": 4,\n        \"num_unique_values\": 3,\n        \"samples\": [\n          1,\n          2,\n          4\n        ],\n        \"semantic_type\": \"\",\n        \"description\": \"\"\n      }\n    }\n  ]\n}"
            }
          },
          "metadata": {},
          "execution_count": 116
        }
      ]
    },
    {
      "cell_type": "code",
      "execution_count": null,
      "metadata": {
        "id": "C93qaM3ANcDU",
        "colab": {
          "base_uri": "https://localhost:8080/",
          "height": 566
        },
        "outputId": "aef9a6b3-c3ae-4745-d1e4-460ac05cf83e"
      },
      "outputs": [
        {
          "output_type": "display_data",
          "data": {
            "text/plain": [
              "<Figure size 1200x600 with 1 Axes>"
            ],
            "image/png": "[encoded data removed]"
          },
          "metadata": {}
        }
      ],
      "source": [
        "plt.figure(figsize=(12, 6))\n",
        "sns.countplot(x='Activity', data=df)\n",
        "plt.title('Number of Data Points for Each Activity')\n",
        "plt.xlabel('Activity')\n",
        "plt.ylabel('Count')\n",
        "plt.xticks(rotation=45, ha='right')\n",
        "plt.show()"
      ]
    },
    {
      "cell_type": "code",
      "source": [
        "df['Activity'].value_counts()"
      ],
      "metadata": {
        "colab": {
          "base_uri": "https://localhost:8080/",
          "height": 209
        },
        "id": "GADszWX5-_7X",
        "outputId": "3bbbb9af-bcda-452e-cd9e-0e640228a5a1"
      },
      "execution_count": null,
      "outputs": [
        {
          "output_type": "execute_result",
          "data": {
            "text/plain": [
              "Activity\n",
              "1    30720\n",
              "2    30720\n",
              "4    30720\n",
              "Name: count, dtype: int64"
            ],
            "text/html": [
              "<div>\n",
              "<style scoped>\n",
              "    .dataframe tbody tr th:only-of-type {\n",
              "        vertical-align: middle;\n",
              "    }\n",
              "\n",
              "    .dataframe tbody tr th {\n",
              "        vertical-align: top;\n",
              "    }\n",
              "\n",
              "    .dataframe thead th {\n",
              "        text-align: right;\n",
              "    }\n",
              "</style>\n",
              "<table border=\"1\" class=\"dataframe\">\n",
              "  <thead>\n",
              "    <tr style=\"text-align: right;\">\n",
              "      <th></th>\n",
              "      <th>count</th>\n",
              "    </tr>\n",
              "    <tr>\n",
              "      <th>Activity</th>\n",
              "      <th></th>\n",
              "    </tr>\n",
              "  </thead>\n",
              "  <tbody>\n",
              "    <tr>\n",
              "      <th>1</th>\n",
              "      <td>30720</td>\n",
              "    </tr>\n",
              "    <tr>\n",
              "      <th>2</th>\n",
              "      <td>30720</td>\n",
              "    </tr>\n",
              "    <tr>\n",
              "      <th>4</th>\n",
              "      <td>30720</td>\n",
              "    </tr>\n",
              "  </tbody>\n",
              "</table>\n",
              "</div><br><label><b>dtype:</b> int64</label>"
            ]
          },
          "metadata": {},
          "execution_count": 118
        }
      ]
    },
    {
      "cell_type": "code",
      "source": [
        "df.shape"
      ],
      "metadata": {
        "id": "UfqJV9RoJf6d",
        "colab": {
          "base_uri": "https://localhost:8080/"
        },
        "outputId": "e0bd0b0f-45bb-4c5b-eaab-34d821a6d152"
      },
      "execution_count": null,
      "outputs": [
        {
          "output_type": "execute_result",
          "data": {
            "text/plain": [
              "(92160, 7)"
            ]
          },
          "metadata": {},
          "execution_count": 119
        }
      ]
    },
    {
      "cell_type": "code",
      "source": [
        "# Tentukan jumlah baris per input (20 baris per 50 Hz)\n",
        "num_rows_per_input = 20\n",
        "\n",
        "# Pisahkan label Activity dan data numerik\n",
        "activity_labels = []  # Untuk menyimpan label Activity\n",
        "averages = []  # Untuk menyimpan rata-rata data numerik\n",
        "\n",
        "for i in range(0, len(df) - num_rows_per_input + 1, num_rows_per_input):\n",
        "    # Ambil label Activity dari baris pertama pada setiap grup\n",
        "    activity_label = df['Activity'].iloc[i]\n",
        "    activity_labels.append(activity_label)\n",
        "\n",
        "    # Hitung rata-rata untuk kolom numerik saja\n",
        "    average_value = df.iloc[i:i + num_rows_per_input].drop(columns=['Activity']).mean().values\n",
        "    averages.append(average_value)\n",
        "\n",
        "# Ubah rata-rata dan label Activity ke array numpy\n",
        "input_array = np.array(averages)\n",
        "activity_labels_array = np.array(activity_labels)\n",
        "\n",
        "# Tampilkan bentuk data rata-rata\n",
        "print(\"Bentuk data rata-rata untuk model:\", input_array.shape)\n",
        "\n",
        "# Tampilkan nilai unik dari label Activity\n",
        "print(\"\\nNilai unik pada label Activity:\")\n",
        "print(np.unique(activity_labels_array))\n",
        "\n",
        "# Gabungkan data numerik dengan label Activity jika diperlukan\n",
        "combined_array = np.column_stack((input_array, activity_labels_array))\n",
        "\n",
        "# Tampilkan bentuk data gabungan\n",
        "print(\"\\nBentuk data gabungan (numerik + Activity):\", combined_array.shape)\n",
        "\n",
        "# Simpan ke file CSV\n",
        "columns = list(df.drop(columns=['Activity']).columns) + ['Activity']\n",
        "output_df = pd.DataFrame(combined_array, columns=columns)\n",
        "output_df.to_csv('averages_inputs.csv', index=False)\n",
        "print(\"\\nRata-rata data dan label Activity berhasil disimpan ke file 'averages_inputs.csv'\")\n"
      ],
      "metadata": {
        "id": "P4bNPImJH9de",
        "colab": {
          "base_uri": "https://localhost:8080/"
        },
        "outputId": "04042a95-93f8-4ffb-98dd-104c3179aaa3"
      },
      "execution_count": null,
      "outputs": [
        {
          "output_type": "stream",
          "name": "stdout",
          "text": [
            "Bentuk data rata-rata untuk model: (4608, 6)\n",
            "\n",
            "Nilai unik pada label Activity:\n",
            "[1 2 4]\n",
            "\n",
            "Bentuk data gabungan (numerik + Activity): (4608, 7)\n",
            "\n",
            "Rata-rata data dan label Activity berhasil disimpan ke file 'averages_inputs.csv'\n"
          ]
        }
      ]
    },
    {
      "cell_type": "code",
      "source": [
        "output_df.head(20)"
      ],
      "metadata": {
        "colab": {
          "base_uri": "https://localhost:8080/",
          "height": 676
        },
        "id": "apowXFRHIODy",
        "outputId": "a054a0d8-6576-4089-e60e-e22ad0a04768"
      },
      "execution_count": null,
      "outputs": [
        {
          "output_type": "execute_result",
          "data": {
            "text/plain": [
              "         glx       gly       glz       grx       gry       grz  Activity\n",
              "0  -0.206957 -0.878705 -0.504913 -0.064706 -0.933675 -0.348060       1.0\n",
              "1  -0.207144 -0.883301 -0.501474 -0.067941 -0.930800 -0.353986       1.0\n",
              "2  -0.208440 -0.882177 -0.503240 -0.065882 -0.927104 -0.352800       1.0\n",
              "3  -0.210017 -0.875140 -0.506779 -0.064411 -0.943224 -0.342349       1.0\n",
              "4  -0.211782 -0.875421 -0.508448 -0.064510 -0.938399 -0.346660       1.0\n",
              "5  -0.214472 -0.877861 -0.509431 -0.067451 -0.939630 -0.338471       1.0\n",
              "6  -0.216696 -0.877110 -0.504322 -0.069118 -0.938401 -0.342779       1.0\n",
              "7  -0.210204 -0.879078 -0.502849 -0.064314 -0.939323 -0.346122       1.0\n",
              "8  -0.213449 -0.885084 -0.504422 -0.069608 -0.934392 -0.346550       1.0\n",
              "9  -0.212801 -0.881706 -0.500196 -0.076471 -0.933571 -0.348600       1.0\n",
              "10 -0.214748 -0.882924 -0.501964 -0.067255 -0.934496 -0.345043       1.0\n",
              "11 -0.209276 -0.883769 -0.503633 -0.067451 -0.945176 -0.337716       1.0\n",
              "12 -0.207794 -0.883960 -0.497447 -0.066275 -0.938601 -0.331683       1.0\n",
              "13 -0.203806 -0.881332 -0.509036 -0.061961 -0.936141 -0.340301       1.0\n",
              "14 -0.203154 -0.877954 -0.510514 -0.060882 -0.938091 -0.345043       1.0\n",
              "15 -0.208812 -0.877953 -0.503540 -0.055784 -0.941684 -0.350646       1.0\n",
              "16 -0.210111 -0.881705 -0.504223 -0.063235 -0.929567 -0.350969       1.0\n",
              "17 -0.210203 -0.883864 -0.501474 -0.065490 -0.937678 -0.354201       1.0\n",
              "18 -0.213451 -0.882271 -0.504125 -0.060686 -0.932853 -0.351724       1.0\n",
              "19 -0.208626 -0.886116 -0.512376 -0.059510 -0.941169 -0.339438       1.0"
            ],
            "text/html": [
              "\n",
              "  <div id=\"df-9570ade5-cb09-485d-9f8b-60ce72ca0203\" class=\"colab-df-container\">\n",
              "    <div>\n",
              "<style scoped>\n",
              "    .dataframe tbody tr th:only-of-type {\n",
              "        vertical-align: middle;\n",
              "    }\n",
              "\n",
              "    .dataframe tbody tr th {\n",
              "        vertical-align: top;\n",
              "    }\n",
              "\n",
              "    .dataframe thead th {\n",
              "        text-align: right;\n",
              "    }\n",
              "</style>\n",
              "<table border=\"1\" class=\"dataframe\">\n",
              "  <thead>\n",
              "    <tr style=\"text-align: right;\">\n",
              "      <th></th>\n",
              "      <th>glx</th>\n",
              "      <th>gly</th>\n",
              "      <th>glz</th>\n",
              "      <th>grx</th>\n",
              "      <th>gry</th>\n",
              "      <th>grz</th>\n",
              "      <th>Activity</th>\n",
              "    </tr>\n",
              "  </thead>\n",
              "  <tbody>\n",
              "    <tr>\n",
              "      <th>0</th>\n",
              "      <td>-0.206957</td>\n",
              "      <td>-0.878705</td>\n",
              "      <td>-0.504913</td>\n",
              "      <td>-0.064706</td>\n",
              "      <td>-0.933675</td>\n",
              "      <td>-0.348060</td>\n",
              "      <td>1.0</td>\n",
              "    </tr>\n",
              "    <tr>\n",
              "      <th>1</th>\n",
              "      <td>-0.207144</td>\n",
              "      <td>-0.883301</td>\n",
              "      <td>-0.501474</td>\n",
              "      <td>-0.067941</td>\n",
              "      <td>-0.930800</td>\n",
              "      <td>-0.353986</td>\n",
              "      <td>1.0</td>\n",
              "    </tr>\n",
              "    <tr>\n",
              "      <th>2</th>\n",
              "      <td>-0.208440</td>\n",
              "      <td>-0.882177</td>\n",
              "      <td>-0.503240</td>\n",
              "      <td>-0.065882</td>\n",
              "      <td>-0.927104</td>\n",
              "      <td>-0.352800</td>\n",
              "      <td>1.0</td>\n",
              "    </tr>\n",
              "    <tr>\n",
              "      <th>3</th>\n",
              "      <td>-0.210017</td>\n",
              "      <td>-0.875140</td>\n",
              "      <td>-0.506779</td>\n",
              "      <td>-0.064411</td>\n",
              "      <td>-0.943224</td>\n",
              "      <td>-0.342349</td>\n",
              "      <td>1.0</td>\n",
              "    </tr>\n",
              "    <tr>\n",
              "      <th>4</th>\n",
              "      <td>-0.211782</td>\n",
              "      <td>-0.875421</td>\n",
              "      <td>-0.508448</td>\n",
              "      <td>-0.064510</td>\n",
              "      <td>-0.938399</td>\n",
              "      <td>-0.346660</td>\n",
              "      <td>1.0</td>\n",
              "    </tr>\n",
              "    <tr>\n",
              "      <th>5</th>\n",
              "      <td>-0.214472</td>\n",
              "      <td>-0.877861</td>\n",
              "      <td>-0.509431</td>\n",
              "      <td>-0.067451</td>\n",
              "      <td>-0.939630</td>\n",
              "      <td>-0.338471</td>\n",
              "      <td>1.0</td>\n",
              "    </tr>\n",
              "    <tr>\n",
              "      <th>6</th>\n",
              "      <td>-0.216696</td>\n",
              "      <td>-0.877110</td>\n",
              "      <td>-0.504322</td>\n",
              "      <td>-0.069118</td>\n",
              "      <td>-0.938401</td>\n",
              "      <td>-0.342779</td>\n",
              "      <td>1.0</td>\n",
              "    </tr>\n",
              "    <tr>\n",
              "      <th>7</th>\n",
              "      <td>-0.210204</td>\n",
              "      <td>-0.879078</td>\n",
              "      <td>-0.502849</td>\n",
              "      <td>-0.064314</td>\n",
              "      <td>-0.939323</td>\n",
              "      <td>-0.346122</td>\n",
              "      <td>1.0</td>\n",
              "    </tr>\n",
              "    <tr>\n",
              "      <th>8</th>\n",
              "      <td>-0.213449</td>\n",
              "      <td>-0.885084</td>\n",
              "      <td>-0.504422</td>\n",
              "      <td>-0.069608</td>\n",
              "      <td>-0.934392</td>\n",
              "      <td>-0.346550</td>\n",
              "      <td>1.0</td>\n",
              "    </tr>\n",
              "    <tr>\n",
              "      <th>9</th>\n",
              "      <td>-0.212801</td>\n",
              "      <td>-0.881706</td>\n",
              "      <td>-0.500196</td>\n",
              "      <td>-0.076471</td>\n",
              "      <td>-0.933571</td>\n",
              "      <td>-0.348600</td>\n",
              "      <td>1.0</td>\n",
              "    </tr>\n",
              "    <tr>\n",
              "      <th>10</th>\n",
              "      <td>-0.214748</td>\n",
              "      <td>-0.882924</td>\n",
              "      <td>-0.501964</td>\n",
              "      <td>-0.067255</td>\n",
              "      <td>-0.934496</td>\n",
              "      <td>-0.345043</td>\n",
              "      <td>1.0</td>\n",
              "    </tr>\n",
              "    <tr>\n",
              "      <th>11</th>\n",
              "      <td>-0.209276</td>\n",
              "      <td>-0.883769</td>\n",
              "      <td>-0.503633</td>\n",
              "      <td>-0.067451</td>\n",
              "      <td>-0.945176</td>\n",
              "      <td>-0.337716</td>\n",
              "      <td>1.0</td>\n",
              "    </tr>\n",
              "    <tr>\n",
              "      <th>12</th>\n",
              "      <td>-0.207794</td>\n",
              "      <td>-0.883960</td>\n",
              "      <td>-0.497447</td>\n",
              "      <td>-0.066275</td>\n",
              "      <td>-0.938601</td>\n",
              "      <td>-0.331683</td>\n",
              "      <td>1.0</td>\n",
              "    </tr>\n",
              "    <tr>\n",
              "      <th>13</th>\n",
              "      <td>-0.203806</td>\n",
              "      <td>-0.881332</td>\n",
              "      <td>-0.509036</td>\n",
              "      <td>-0.061961</td>\n",
              "      <td>-0.936141</td>\n",
              "      <td>-0.340301</td>\n",
              "      <td>1.0</td>\n",
              "    </tr>\n",
              "    <tr>\n",
              "      <th>14</th>\n",
              "      <td>-0.203154</td>\n",
              "      <td>-0.877954</td>\n",
              "      <td>-0.510514</td>\n",
              "      <td>-0.060882</td>\n",
              "      <td>-0.938091</td>\n",
              "      <td>-0.345043</td>\n",
              "      <td>1.0</td>\n",
              "    </tr>\n",
              "    <tr>\n",
              "      <th>15</th>\n",
              "      <td>-0.208812</td>\n",
              "      <td>-0.877953</td>\n",
              "      <td>-0.503540</td>\n",
              "      <td>-0.055784</td>\n",
              "      <td>-0.941684</td>\n",
              "      <td>-0.350646</td>\n",
              "      <td>1.0</td>\n",
              "    </tr>\n",
              "    <tr>\n",
              "      <th>16</th>\n",
              "      <td>-0.210111</td>\n",
              "      <td>-0.881705</td>\n",
              "      <td>-0.504223</td>\n",
              "      <td>-0.063235</td>\n",
              "      <td>-0.929567</td>\n",
              "      <td>-0.350969</td>\n",
              "      <td>1.0</td>\n",
              "    </tr>\n",
              "    <tr>\n",
              "      <th>17</th>\n",
              "      <td>-0.210203</td>\n",
              "      <td>-0.883864</td>\n",
              "      <td>-0.501474</td>\n",
              "      <td>-0.065490</td>\n",
              "      <td>-0.937678</td>\n",
              "      <td>-0.354201</td>\n",
              "      <td>1.0</td>\n",
              "    </tr>\n",
              "    <tr>\n",
              "      <th>18</th>\n",
              "      <td>-0.213451</td>\n",
              "      <td>-0.882271</td>\n",
              "      <td>-0.504125</td>\n",
              "      <td>-0.060686</td>\n",
              "      <td>-0.932853</td>\n",
              "      <td>-0.351724</td>\n",
              "      <td>1.0</td>\n",
              "    </tr>\n",
              "    <tr>\n",
              "      <th>19</th>\n",
              "      <td>-0.208626</td>\n",
              "      <td>-0.886116</td>\n",
              "      <td>-0.512376</td>\n",
              "      <td>-0.059510</td>\n",
              "      <td>-0.941169</td>\n",
              "      <td>-0.339438</td>\n",
              "      <td>1.0</td>\n",
              "    </tr>\n",
              "  </tbody>\n",
              "</table>\n",
              "</div>\n",
              "    <div class=\"colab-df-buttons\">\n",
              "\n",
              "  <div class=\"colab-df-container\">\n",
              "    <button class=\"colab-df-convert\" onclick=\"convertToInteractive('df-9570ade5-cb09-485d-9f8b-60ce72ca0203')\"\n",
              "            title=\"Convert this dataframe to an interactive table.\"\n",
              "            style=\"display:none;\">\n",
              "\n",
              "  <svg xmlns=\"http://www.w3.org/2000/svg\" height=\"24px\" viewBox=\"0 -960 960 960\">\n",
              "    <path d=\"M120-120v-720h720v720H120Zm60-500h600v-160H180v160Zm220 220h160v-160H400v160Zm0 220h160v-160H400v160ZM180-400h160v-160H180v160Zm440 0h160v-160H620v160ZM180-180h160v-160H180v160Zm440 0h160v-160H620v160Z\"/>\n",
              "  </svg>\n",
              "    </button>\n",
              "\n",
              "  <style>\n",
              "    .colab-df-container {\n",
              "      display:flex;\n",
              "      gap: 12px;\n",
              "    }\n",
              "\n",
              "    .colab-df-convert {\n",
              "      background-color: #E8F0FE;\n",
              "      border: none;\n",
              "      border-radius: 50%;\n",
              "      cursor: pointer;\n",
              "      display: none;\n",
              "      fill: #1967D2;\n",
              "      height: 32px;\n",
              "      padding: 0 0 0 0;\n",
              "      width: 32px;\n",
              "    }\n",
              "\n",
              "    .colab-df-convert:hover {\n",
              "      background-color: #E2EBFA;\n",
              "      box-shadow: 0px 1px 2px rgba(60, 64, 67, 0.3), 0px 1px 3px 1px rgba(60, 64, 67, 0.15);\n",
              "      fill: #174EA6;\n",
              "    }\n",
              "\n",
              "    .colab-df-buttons div {\n",
              "      margin-bottom: 4px;\n",
              "    }\n",
              "\n",
              "    [theme=dark] .colab-df-convert {\n",
              "      background-color: #3B4455;\n",
              "      fill: #D2E3FC;\n",
              "    }\n",
              "\n",
              "    [theme=dark] .colab-df-convert:hover {\n",
              "      background-color: #434B5C;\n",
              "      box-shadow: 0px 1px 3px 1px rgba(0, 0, 0, 0.15);\n",
              "      filter: drop-shadow(0px 1px 2px rgba(0, 0, 0, 0.3));\n",
              "      fill: #FFFFFF;\n",
              "    }\n",
              "  </style>\n",
              "\n",
              "    <script>\n",
              "      const buttonEl =\n",
              "        document.querySelector('#df-9570ade5-cb09-485d-9f8b-60ce72ca0203 button.colab-df-convert');\n",
              "      buttonEl.style.display =\n",
              "        google.colab.kernel.accessAllowed ? 'block' : 'none';\n",
              "\n",
              "      async function convertToInteractive(key) {\n",
              "        const element = document.querySelector('#df-9570ade5-cb09-485d-9f8b-60ce72ca0203');\n",
              "        const dataTable =\n",
              "          await google.colab.kernel.invokeFunction('convertToInteractive',\n",
              "                                                    [key], {});\n",
              "        if (!dataTable) return;\n",
              "\n",
              "        const docLinkHtml = 'Like what you see? Visit the ' +\n",
              "          '<a target=\"_blank\" href=https://colab.research.google.com/notebooks/data_table.ipynb>data table notebook</a>'\n",
              "          + ' to learn more about interactive tables.';\n",
              "        element.innerHTML = '';\n",
              "        dataTable['output_type'] = 'display_data';\n",
              "        await google.colab.output.renderOutput(dataTable, element);\n",
              "        const docLink = document.createElement('div');\n",
              "        docLink.innerHTML = docLinkHtml;\n",
              "        element.appendChild(docLink);\n",
              "      }\n",
              "    </script>\n",
              "  </div>\n",
              "\n",
              "\n",
              "<div id=\"df-a2bc22e3-b764-4a9b-8add-068f0d40348a\">\n",
              "  <button class=\"colab-df-quickchart\" onclick=\"quickchart('df-a2bc22e3-b764-4a9b-8add-068f0d40348a')\"\n",
              "            title=\"Suggest charts\"\n",
              "            style=\"display:none;\">\n",
              "\n",
              "<svg xmlns=\"http://www.w3.org/2000/svg\" height=\"24px\"viewBox=\"0 0 24 24\"\n",
              "     width=\"24px\">\n",
              "    <g>\n",
              "        <path d=\"M19 3H5c-1.1 0-2 .9-2 2v14c0 1.1.9 2 2 2h14c1.1 0 2-.9 2-2V5c0-1.1-.9-2-2-2zM9 17H7v-7h2v7zm4 0h-2V7h2v10zm4 0h-2v-4h2v4z\"/>\n",
              "    </g>\n",
              "</svg>\n",
              "  </button>\n",
              "\n",
              "<style>\n",
              "  .colab-df-quickchart {\n",
              "      --bg-color: #E8F0FE;\n",
              "      --fill-color: #1967D2;\n",
              "      --hover-bg-color: #E2EBFA;\n",
              "      --hover-fill-color: #174EA6;\n",
              "      --disabled-fill-color: #AAA;\n",
              "      --disabled-bg-color: #DDD;\n",
              "  }\n",
              "\n",
              "  [theme=dark] .colab-df-quickchart {\n",
              "      --bg-color: #3B4455;\n",
              "      --fill-color: #D2E3FC;\n",
              "      --hover-bg-color: #434B5C;\n",
              "      --hover-fill-color: #FFFFFF;\n",
              "      --disabled-bg-color: #3B4455;\n",
              "      --disabled-fill-color: #666;\n",
              "  }\n",
              "\n",
              "  .colab-df-quickchart {\n",
              "    background-color: var(--bg-color);\n",
              "    border: none;\n",
              "    border-radius: 50%;\n",
              "    cursor: pointer;\n",
              "    display: none;\n",
              "    fill: var(--fill-color);\n",
              "    height: 32px;\n",
              "    padding: 0;\n",
              "    width: 32px;\n",
              "  }\n",
              "\n",
              "  .colab-df-quickchart:hover {\n",
              "    background-color: var(--hover-bg-color);\n",
              "    box-shadow: 0 1px 2px rgba(60, 64, 67, 0.3), 0 1px 3px 1px rgba(60, 64, 67, 0.15);\n",
              "    fill: var(--button-hover-fill-color);\n",
              "  }\n",
              "\n",
              "  .colab-df-quickchart-complete:disabled,\n",
              "  .colab-df-quickchart-complete:disabled:hover {\n",
              "    background-color: var(--disabled-bg-color);\n",
              "    fill: var(--disabled-fill-color);\n",
              "    box-shadow: none;\n",
              "  }\n",
              "\n",
              "  .colab-df-spinner {\n",
              "    border: 2px solid var(--fill-color);\n",
              "    border-color: transparent;\n",
              "    border-bottom-color: var(--fill-color);\n",
              "    animation:\n",
              "      spin 1s steps(1) infinite;\n",
              "  }\n",
              "\n",
              "  @keyframes spin {\n",
              "    0% {\n",
              "      border-color: transparent;\n",
              "      border-bottom-color: var(--fill-color);\n",
              "      border-left-color: var(--fill-color);\n",
              "    }\n",
              "    20% {\n",
              "      border-color: transparent;\n",
              "      border-left-color: var(--fill-color);\n",
              "      border-top-color: var(--fill-color);\n",
              "    }\n",
              "    30% {\n",
              "      border-color: transparent;\n",
              "      border-left-color: var(--fill-color);\n",
              "      border-top-color: var(--fill-color);\n",
              "      border-right-color: var(--fill-color);\n",
              "    }\n",
              "    40% {\n",
              "      border-color: transparent;\n",
              "      border-right-color: var(--fill-color);\n",
              "      border-top-color: var(--fill-color);\n",
              "    }\n",
              "    60% {\n",
              "      border-color: transparent;\n",
              "      border-right-color: var(--fill-color);\n",
              "    }\n",
              "    80% {\n",
              "      border-color: transparent;\n",
              "      border-right-color: var(--fill-color);\n",
              "      border-bottom-color: var(--fill-color);\n",
              "    }\n",
              "    90% {\n",
              "      border-color: transparent;\n",
              "      border-bottom-color: var(--fill-color);\n",
              "    }\n",
              "  }\n",
              "</style>\n",
              "\n",
              "  <script>\n",
              "    async function quickchart(key) {\n",
              "      const quickchartButtonEl =\n",
              "        document.querySelector('#' + key + ' button');\n",
              "      quickchartButtonEl.disabled = true;  // To prevent multiple clicks.\n",
              "      quickchartButtonEl.classList.add('colab-df-spinner');\n",
              "      try {\n",
              "        const charts = await google.colab.kernel.invokeFunction(\n",
              "            'suggestCharts', [key], {});\n",
              "      } catch (error) {\n",
              "        console.error('Error during call to suggestCharts:', error);\n",
              "      }\n",
              "      quickchartButtonEl.classList.remove('colab-df-spinner');\n",
              "      quickchartButtonEl.classList.add('colab-df-quickchart-complete');\n",
              "    }\n",
              "    (() => {\n",
              "      let quickchartButtonEl =\n",
              "        document.querySelector('#df-a2bc22e3-b764-4a9b-8add-068f0d40348a button');\n",
              "      quickchartButtonEl.style.display =\n",
              "        google.colab.kernel.accessAllowed ? 'block' : 'none';\n",
              "    })();\n",
              "  </script>\n",
              "</div>\n",
              "\n",
              "    </div>\n",
              "  </div>\n"
            ],
            "application/vnd.google.colaboratory.intrinsic+json": {
              "type": "dataframe",
              "variable_name": "output_df",
              "summary": "{\n  \"name\": \"output_df\",\n  \"rows\": 4608,\n  \"fields\": [\n    {\n      \"column\": \"glx\",\n      \"properties\": {\n        \"dtype\": \"number\",\n        \"std\": 0.4838714677631427,\n        \"min\": -0.865585,\n        \"max\": 0.7639130000000001,\n        \"num_unique_values\": 4534,\n        \"samples\": [\n          0.63757,\n          0.48256050000000006,\n          0.6833024999999999\n        ],\n        \"semantic_type\": \"\",\n        \"description\": \"\"\n      }\n    },\n    {\n      \"column\": \"gly\",\n      \"properties\": {\n        \"dtype\": \"number\",\n        \"std\": 0.1650870407455134,\n        \"min\": -1.0751205000000001,\n        \"max\": -0.1547837,\n        \"num_unique_values\": 4399,\n        \"samples\": [\n          -0.7191379999999998,\n          -0.8076909999999999,\n          -0.8270154999999999\n        ],\n        \"semantic_type\": \"\",\n        \"description\": \"\"\n      }\n    },\n    {\n      \"column\": \"glz\",\n      \"properties\": {\n        \"dtype\": \"number\",\n        \"std\": 0.504936144104047,\n        \"min\": -1.0671909999999998,\n        \"max\": 0.79951,\n        \"num_unique_values\": 4520,\n        \"samples\": [\n          -0.035658100000000005,\n          -0.03399104999999999,\n          0.34744549999999996\n        ],\n        \"semantic_type\": \"\",\n        \"description\": \"\"\n      }\n    },\n    {\n      \"column\": \"grx\",\n      \"properties\": {\n        \"dtype\": \"number\",\n        \"std\": 0.4595831182975087,\n        \"min\": -1.0116589999999996,\n        \"max\": 0.7720595000000001,\n        \"num_unique_values\": 4520,\n        \"samples\": [\n          -0.5094095000000001,\n          -0.35755,\n          -0.215099\n        ],\n        \"semantic_type\": \"\",\n        \"description\": \"\"\n      }\n    },\n    {\n      \"column\": \"gry\",\n      \"properties\": {\n        \"dtype\": \"number\",\n        \"std\": 0.43444304792716826,\n        \"min\": -1.1069699999999998,\n        \"max\": 0.7649885,\n        \"num_unique_values\": 4518,\n        \"samples\": [\n          0.4727935,\n          0.754723,\n          -0.7141704999999999\n        ],\n        \"semantic_type\": \"\",\n        \"description\": \"\"\n      }\n    },\n    {\n      \"column\": \"grz\",\n      \"properties\": {\n        \"dtype\": \"number\",\n        \"std\": 0.48151010762240065,\n        \"min\": -0.7359899999999999,\n        \"max\": 1.0896600000000003,\n        \"num_unique_values\": 4536,\n        \"samples\": [\n          0.9449344999999999,\n          -0.25732750000000004,\n          0.18749899999999994\n        ],\n        \"semantic_type\": \"\",\n        \"description\": \"\"\n      }\n    },\n    {\n      \"column\": \"Activity\",\n      \"properties\": {\n        \"dtype\": \"number\",\n        \"std\": 1.2473544828920247,\n        \"min\": 1.0,\n        \"max\": 4.0,\n        \"num_unique_values\": 3,\n        \"samples\": [\n          1.0,\n          2.0,\n          4.0\n        ],\n        \"semantic_type\": \"\",\n        \"description\": \"\"\n      }\n    }\n  ]\n}"
            }
          },
          "metadata": {},
          "execution_count": 121
        }
      ]
    },
    {
      "cell_type": "markdown",
      "source": [
        "**FUNGSI AKTIVASI**"
      ],
      "metadata": {
        "id": "IOX6-ziyCyWD"
      }
    },
    {
      "cell_type": "code",
      "source": [
        "# Fungsi Softmax\n",
        "def softmax(x):\n",
        "    exp_x = np.exp(x - np.max(x))\n",
        "    return exp_x / np.sum(exp_x, axis=0)\n",
        "\n",
        "# Fungsi RELU\n",
        "def relu(x):\n",
        "    return max(0, x)\n",
        "\n",
        "def relu_derivative(x):\n",
        "    return 1 if x > 0 else 0\n",
        "\n",
        "# Cross-Entropy Loss\n",
        "def cross_entropy(y_true, y_pred):\n",
        "    y_pred = np.clip(y_pred, 1e-12, 1. - 1e-12)  # Mencegah log(0)\n",
        "    return -np.sum(y_true * np.log(y_pred)) / y_true.shape[0]"
      ],
      "metadata": {
        "id": "3CBuyR51CxWA"
      },
      "execution_count": null,
      "outputs": []
    },
    {
      "cell_type": "markdown",
      "source": [
        "MODEL NEURAL NETWORK"
      ],
      "metadata": {
        "id": "-qzDzuvGC2pi"
      }
    },
    {
      "cell_type": "code",
      "source": [
        "# Fungsi Pelatihan dengan Backpropagation\n",
        "def bp_fit(X, target, layer_conf, max_epoch=50, max_error=0.01, learn_rate=0.1, print_per_epoch=10):\n",
        "    np.random.seed(1)\n",
        "    # Inisialisasi layer dengan bias jika bukan layer terakhir\n",
        "    n = [np.empty(j + 1) if i < len(layer_conf) - 1 else np.empty(j) for i, j in enumerate(layer_conf)]\n",
        "    w = [np.random.rand(layer_conf[i] + 1, layer_conf[i + 1]) - 0.5 for i in range(len(layer_conf) - 1)]\n",
        "    dw = [np.zeros_like(w[i]) for i in range(len(w))]\n",
        "    d = [np.empty(s) for s in layer_conf[1:]]\n",
        "    loss_history = []\n",
        "\n",
        "    # Inisialisasi bias di semua layer kecuali output\n",
        "    for i in range(0, len(n) - 1):\n",
        "        n[i][-1] = 1  # Bias node diisi dengan 1\n",
        "\n",
        "    epoch = 0\n",
        "    loss = float('inf')\n",
        "\n",
        "    while (max_epoch == -1 or epoch < max_epoch) and loss > max_error:\n",
        "        epoch += 1\n",
        "        loss = 0\n",
        "\n",
        "        for r in range(len(X)):\n",
        "            # Forward pass\n",
        "            n[0][:-1] = X[r]  # Salin input ke array n[0] tanpa memodifikasi elemen terakhir (bias)\n",
        "            for L in range(1, len(layer_conf)):\n",
        "                if L < len(layer_conf) - 1:\n",
        "                    # Lapisan tersembunyi dengan bias\n",
        "                    pre_activation = np.dot(n[L - 1], w[L - 1])  # Hasil sebelum aktivasi\n",
        "                    n[L][:-1] = [relu(x) for x in pre_activation]  # Terapkan ReLU elemen demi elemen\n",
        "                else:\n",
        "                    # Lapisan output tanpa bias\n",
        "                    n[L][:] = softmax(np.dot(n[L - 1], w[L - 1]))\n",
        "\n",
        "            # Calculate cross-entropy loss\n",
        "            loss += cross_entropy(target[r], n[-1])\n",
        "\n",
        "            # Backpropagation\n",
        "            d[-1] = target[r] - n[-1]  # Gradien output untuk cross-entropy dengan softmax\n",
        "\n",
        "            # Update weights\n",
        "            for L in range(len(layer_conf) - 1, 0, -1):\n",
        "                dw[L - 1] = learn_rate * np.outer(n[L - 1], d[L - 1])\n",
        "                if L > 1:\n",
        "                    pre_activation = np.dot(n[L - 2], w[L - 2])  # Hasil sebelum aktivasi ReLU\n",
        "                    relu_grad = [relu_derivative(x) for x in pre_activation]  # Gradien ReLU elemen demi elemen\n",
        "                    d[L - 2] = (d[L - 1] @ w[L - 1][:-1].T) * np.array(relu_grad)  # Update gradien\n",
        "                w[L - 1] += dw[L - 1]\n",
        "\n",
        "        loss /= len(X)\n",
        "        loss_history.append(loss)\n",
        "\n",
        "        if print_per_epoch > -1 and epoch % print_per_epoch == 0:\n",
        "            print(f'Epoch {epoch}, Loss: {loss}')\n",
        "\n",
        "    return w, epoch, loss"
      ],
      "metadata": {
        "id": "xZDzn9X8DKCE"
      },
      "execution_count": null,
      "outputs": []
    },
    {
      "cell_type": "code",
      "source": [
        "# Fungsi Prediksi\n",
        "def bp_predict(X, w):\n",
        "    predict = []\n",
        "    n = [np.empty(len(i)) for i in w]\n",
        "    nin = [np.empty(len(i[0])) for i in w]\n",
        "\n",
        "    n.append(np.empty(len(w[-1][0])))\n",
        "\n",
        "    for x in X:\n",
        "        n[0][:-1] = x  # Salin input ke lapisan pertama\n",
        "\n",
        "        for L in range(0, len(w)):\n",
        "            nin[L] = np.dot(n[L], w[L])  # Hasil sebelum aktivasi\n",
        "            if L == len(w) - 1:  # Lapisan terakhir\n",
        "                n[L + 1][:len(nin[L])] = softmax(nin[L])  # Softmax untuk output\n",
        "            else:\n",
        "                # Terapkan ReLU elemen demi elemen\n",
        "                n[L + 1][:len(nin[L])] = [relu(x) for x in nin[L]]\n",
        "\n",
        "        predict.append(n[-1].copy())  # Salin hasil ke daftar prediksi\n",
        "    return predict\n"
      ],
      "metadata": {
        "id": "Z4IGPkVbEDII"
      },
      "execution_count": null,
      "outputs": []
    },
    {
      "cell_type": "markdown",
      "source": [
        "**ONE HOT ENCODING DAN DECODING**"
      ],
      "metadata": {
        "id": "N9MCidpIDqNg"
      }
    },
    {
      "cell_type": "code",
      "source": [
        "# Fungsi One-Hot Encoding dan Decoding\n",
        "def onehot_enc(lbl, min_val=0):\n",
        "    mi = min(lbl)\n",
        "    enc = np.full((len(lbl), max(lbl) - mi + 1), min_val, np.int8)\n",
        "    for i, x in enumerate(lbl):\n",
        "        enc[i, x - mi] = 1\n",
        "    return enc\n",
        "\n",
        "def onehot_dec(enc, mi=0):\n",
        "    return [np.argmax(e) + mi for e in enc]"
      ],
      "metadata": {
        "id": "bNyGjZnFDuH6"
      },
      "execution_count": null,
      "outputs": []
    },
    {
      "cell_type": "markdown",
      "source": [
        "**TRAINING MODEL**"
      ],
      "metadata": {
        "id": "ei45wmm6A6C1"
      }
    },
    {
      "cell_type": "code",
      "source": [
        "#Pisahkan Label dari dataset\n",
        "X = combined_array[:, :-1]\n",
        "Y = combined_array[:, -1]\n",
        "\n",
        "# One-hot encoding pada target\n",
        "encoder = OneHotEncoder(sparse_output=False)\n",
        "Y_encoded = encoder.fit_transform(Y.reshape(-1, 1))\n",
        "\n",
        "# Normalisasi fitur X\n",
        "X_scaled = minmax_scale(X)\n",
        "\n",
        "# Split data menjadi training dan testing set\n",
        "X_train, X_test, y_train, y_test = train_test_split(X_scaled, Y_encoded, test_size=0.3, random_state=42)"
      ],
      "metadata": {
        "id": "e1cgCNI-MMqh"
      },
      "execution_count": null,
      "outputs": []
    },
    {
      "cell_type": "code",
      "source": [
        "# Cek jumlah fitur dalam data input X\n",
        "num_features = X_train.shape[1]\n",
        "print(\"Jumlah Fitur: \", num_features)\n",
        "num_classes = Y_encoded.shape[1]\n",
        "print(\"Jumlah Kelas: \", num_classes)\n",
        "\n",
        "# Pelatihan model\n",
        "w, ep, loss = bp_fit(X_train, y_train, layer_conf=(num_features, 64, num_classes), learn_rate=0.1, max_epoch=50, max_error=0.01, print_per_epoch=10)\n",
        "print(f'\\nEpoch terakhir: {ep}, Loss: {loss}')\n"
      ],
      "metadata": {
        "id": "fGaGLKOidpHf",
        "colab": {
          "base_uri": "https://localhost:8080/"
        },
        "outputId": "dc144c15-29da-400d-a3fb-ed8a25d0deda"
      },
      "execution_count": null,
      "outputs": [
        {
          "output_type": "stream",
          "name": "stdout",
          "text": [
            "Jumlah Fitur:  6\n",
            "Jumlah Kelas:  3\n",
            "Epoch 10, Loss: 0.04571604724056487\n",
            "Epoch 20, Loss: 0.03658392102142648\n",
            "Epoch 30, Loss: 0.031397541806688585\n",
            "Epoch 40, Loss: 0.030468813793511313\n",
            "Epoch 50, Loss: 0.024259893266375964\n",
            "\n",
            "Epoch terakhir: 50, Loss: 0.024259893266375964\n"
          ]
        }
      ]
    },
    {
      "cell_type": "markdown",
      "source": [
        "**TESTING MODEL**"
      ],
      "metadata": {
        "id": "5m13fH6lAxLB"
      }
    },
    {
      "cell_type": "code",
      "source": [
        "# Prediksi data uji\n",
        "predict = bp_predict(X_test, w)\n",
        "\n",
        "# Dekode hasil prediksi dan label asli\n",
        "predict = onehot_dec(predict)\n",
        "y_test = onehot_dec(y_test)\n",
        "\n",
        "# Hitung akurasi\n",
        "accuracy = accuracy_score(y_test, predict)\n",
        "print('Output:', predict)\n",
        "print('True   :', y_test)\n",
        "print('Accuracy:', accuracy)"
      ],
      "metadata": {
        "colab": {
          "base_uri": "https://localhost:8080/"
        },
        "id": "mKS88Q9TAwsU",
        "outputId": "6ca02dd4-7011-4d6e-d3bc-c7199c060e0e"
      },
      "execution_count": null,
      "outputs": [
        {
          "output_type": "stream",
          "name": "stdout",
          "text": [
            "Output: [0, 2, 1, 2, 1, 1, 0, 0, 0, 2, 0, 1, 1, 0, 1, 0, 0, 2, 1, 1, 1, 0, 1, 1, 1, 2, 0, 2, 0, 2, 2, 0, 0, 2, 1, 2, 1, 1, 1, 0, 0, 1, 2, 0, 2, 2, 1, 0, 0, 1, 1, 0, 0, 2, 1, 2, 2, 2, 1, 2, 0, 0, 1, 1, 2, 2, 0, 1, 0, 1, 2, 2, 2, 1, 0, 2, 0, 2, 2, 1, 0, 0, 1, 0, 0, 2, 1, 1, 1, 2, 0, 2, 0, 0, 0, 2, 0, 2, 1, 0, 0, 0, 0, 1, 1, 2, 0, 2, 1, 2, 2, 0, 2, 1, 0, 0, 1, 2, 2, 1, 2, 0, 1, 0, 0, 2, 1, 2, 2, 2, 0, 0, 1, 2, 1, 1, 1, 1, 2, 0, 0, 0, 1, 2, 0, 2, 1, 2, 0, 2, 2, 1, 0, 0, 2, 1, 0, 0, 1, 2, 0, 1, 0, 0, 1, 0, 0, 1, 0, 1, 2, 2, 0, 2, 2, 2, 0, 1, 1, 2, 0, 2, 0, 0, 2, 0, 1, 1, 0, 2, 0, 0, 2, 2, 0, 2, 0, 2, 1, 2, 2, 0, 2, 1, 2, 2, 2, 2, 1, 2, 0, 0, 0, 0, 1, 0, 0, 1, 2, 1, 2, 1, 1, 1, 1, 0, 1, 0, 2, 2, 0, 2, 2, 0, 0, 1, 2, 1, 2, 2, 2, 2, 1, 0, 1, 2, 0, 1, 2, 0, 2, 1, 1, 1, 1, 0, 2, 1, 0, 1, 2, 0, 0, 0, 2, 2, 1, 1, 0, 2, 0, 0, 0, 2, 2, 2, 2, 2, 0, 0, 1, 2, 1, 1, 2, 1, 2, 2, 0, 0, 1, 0, 0, 2, 1, 0, 1, 0, 0, 2, 2, 2, 2, 1, 0, 0, 2, 2, 0, 0, 1, 2, 1, 2, 0, 0, 2, 0, 2, 2, 2, 2, 1, 2, 0, 0, 0, 1, 0, 1, 1, 1, 2, 0, 1, 1, 1, 0, 2, 2, 2, 1, 0, 2, 1, 1, 1, 1, 0, 0, 2, 2, 0, 1, 2, 1, 0, 2, 2, 2, 1, 2, 0, 1, 2, 2, 2, 1, 0, 1, 0, 0, 2, 2, 1, 1, 1, 0, 2, 1, 1, 0, 0, 2, 2, 0, 1, 1, 0, 0, 2, 0, 1, 0, 0, 1, 2, 0, 0, 1, 0, 1, 1, 0, 2, 0, 0, 2, 2, 1, 1, 1, 2, 2, 2, 1, 2, 1, 2, 2, 1, 0, 2, 1, 2, 1, 0, 0, 2, 1, 2, 0, 1, 0, 0, 1, 2, 0, 1, 1, 1, 2, 2, 0, 2, 2, 2, 2, 0, 1, 2, 1, 2, 1, 1, 1, 2, 2, 2, 1, 0, 0, 1, 1, 1, 2, 2, 1, 0, 0, 2, 2, 1, 1, 2, 1, 1, 2, 2, 0, 0, 1, 0, 1, 2, 0, 0, 0, 0, 0, 0, 1, 2, 0, 2, 0, 2, 1, 0, 1, 0, 1, 2, 1, 1, 2, 2, 1, 2, 0, 2, 1, 1, 0, 1, 0, 1, 2, 2, 0, 1, 1, 2, 1, 0, 0, 1, 0, 2, 2, 0, 1, 0, 0, 1, 0, 0, 1, 0, 2, 2, 0, 0, 2, 1, 0, 2, 0, 0, 2, 0, 1, 0, 2, 0, 1, 0, 0, 1, 2, 2, 2, 1, 1, 2, 1, 0, 2, 0, 0, 0, 1, 1, 1, 0, 2, 2, 1, 2, 2, 1, 0, 0, 2, 1, 1, 2, 2, 0, 2, 1, 1, 0, 2, 0, 2, 2, 2, 0, 2, 1, 1, 2, 1, 0, 1, 2, 2, 0, 2, 2, 0, 2, 1, 1, 2, 0, 0, 0, 2, 0, 1, 2, 2, 1, 1, 1, 0, 1, 2, 0, 2, 2, 0, 1, 2, 2, 0, 2, 0, 1, 2, 0, 0, 0, 1, 1, 2, 2, 2, 1, 1, 2, 1, 2, 1, 1, 0, 0, 1, 1, 2, 0, 1, 2, 1, 2, 0, 1, 1, 1, 1, 0, 2, 1, 2, 1, 0, 2, 1, 0, 2, 0, 0, 1, 1, 2, 1, 2, 0, 1, 1, 0, 2, 1, 2, 0, 1, 2, 2, 1, 1, 1, 1, 0, 0, 0, 2, 1, 0, 1, 0, 1, 0, 1, 0, 2, 1, 1, 1, 0, 1, 1, 2, 0, 1, 0, 2, 1, 0, 2, 2, 2, 2, 2, 2, 1, 1, 0, 0, 1, 0, 2, 1, 1, 1, 0, 0, 2, 0, 0, 2, 1, 2, 1, 0, 2, 1, 1, 2, 0, 1, 1, 1, 0, 2, 1, 2, 1, 0, 2, 1, 0, 2, 0, 1, 2, 0, 1, 2, 1, 1, 1, 2, 0, 1, 1, 0, 0, 1, 0, 1, 0, 0, 2, 1, 0, 0, 2, 0, 0, 1, 2, 0, 0, 2, 2, 2, 0, 0, 2, 1, 1, 2, 2, 1, 2, 1, 0, 0, 2, 0, 1, 1, 2, 0, 1, 1, 0, 2, 2, 2, 0, 0, 0, 2, 0, 0, 1, 1, 1, 1, 1, 1, 0, 1, 0, 2, 2, 1, 1, 0, 0, 0, 0, 2, 2, 0, 1, 2, 0, 0, 1, 0, 0, 0, 2, 0, 0, 1, 0, 2, 2, 1, 2, 0, 0, 0, 2, 2, 2, 0, 1, 0, 2, 2, 1, 0, 2, 0, 1, 2, 2, 1, 2, 0, 0, 2, 0, 0, 2, 2, 1, 0, 2, 0, 1, 2, 0, 2, 0, 1, 0, 1, 0, 0, 0, 2, 0, 0, 0, 0, 0, 1, 2, 2, 2, 1, 0, 0, 0, 0, 0, 2, 0, 2, 2, 0, 2, 0, 0, 2, 2, 2, 1, 0, 2, 0, 2, 1, 0, 1, 1, 1, 1, 2, 1, 1, 1, 1, 0, 1, 0, 0, 0, 2, 1, 0, 1, 0, 1, 1, 2, 0, 1, 0, 1, 0, 2, 2, 0, 1, 0, 2, 2, 0, 1, 1, 2, 2, 0, 0, 0, 1, 1, 0, 0, 1, 1, 0, 2, 1, 1, 0, 0, 1, 0, 2, 0, 2, 0, 2, 1, 2, 1, 2, 2, 2, 1, 0, 0, 2, 0, 2, 1, 1, 2, 1, 2, 0, 0, 2, 1, 0, 1, 0, 2, 0, 0, 0, 2, 1, 0, 1, 2, 0, 2, 0, 2, 1, 0, 2, 2, 2, 2, 0, 0, 0, 0, 2, 1, 1, 2, 2, 2, 0, 2, 0, 0, 2, 2, 2, 2, 1, 1, 2, 1, 2, 0, 2, 2, 1, 0, 1, 1, 2, 1, 1, 1, 0, 1, 0, 2, 1, 0, 1, 2, 2, 2, 1, 2, 2, 1, 1, 2, 0, 2, 2, 2, 0, 1, 2, 1, 2, 2, 1, 1, 1, 2, 0, 1, 2, 1, 0, 2, 0, 0, 0, 2, 1, 1, 0, 0, 0, 1, 2, 2, 2, 0, 0, 0, 2, 2, 2, 1, 0, 1, 2, 2, 2, 2, 2, 2, 2, 2, 1, 1, 0, 1, 0, 1, 1, 2, 2, 0, 1, 1, 2, 1, 2, 1, 1, 0, 1, 1, 0, 0, 2, 0, 2, 1, 1, 1, 2, 1, 0, 1, 0, 1, 0, 2, 1, 2, 1, 1, 0, 1, 1, 0, 1, 0, 0, 2, 0, 2, 1, 1, 0, 1, 2, 0, 2, 0, 1, 1, 1, 0, 1, 0, 1, 0, 1, 1, 2, 0, 1, 0, 0, 0, 0, 2, 2, 0, 1, 0, 0, 0, 1, 0, 1, 0, 1, 2, 1, 1, 1, 2, 1, 0, 2, 2, 0, 1, 0, 1, 0, 1, 2, 0, 0, 1, 2, 0, 2, 2, 2, 2, 1, 2, 1, 2, 2, 0, 1, 0, 0, 0, 0, 1, 0, 1, 1, 0, 0, 2, 1, 0, 1, 1, 1, 1, 0, 1, 2, 0, 0, 1, 2, 2, 2, 1, 0, 1, 0, 1, 1, 0, 0, 1, 2, 2, 0, 0, 2, 1, 1, 1, 1, 0, 2, 0, 0, 1, 2, 1, 0, 2, 2, 0, 2, 0, 1, 0, 1, 1, 0, 0, 1, 1, 2, 0, 0, 0, 2, 0, 0, 1, 1, 0, 1, 2, 1, 1, 0, 0, 2, 2, 1, 1, 1, 0, 1, 2, 0, 1, 2, 0, 2, 2, 1, 1, 2, 0, 2, 1, 2, 2, 2, 1, 1, 1, 1, 1]\n",
            "True   : [0, 2, 1, 2, 1, 1, 0, 0, 0, 2, 0, 1, 1, 0, 1, 0, 0, 2, 1, 1, 1, 0, 1, 1, 1, 2, 0, 2, 0, 2, 2, 0, 0, 2, 1, 2, 1, 1, 1, 0, 0, 1, 2, 0, 2, 2, 1, 0, 0, 1, 1, 0, 0, 2, 1, 2, 2, 2, 1, 2, 0, 0, 1, 1, 2, 2, 0, 1, 0, 1, 2, 2, 2, 1, 0, 2, 0, 2, 2, 1, 0, 0, 1, 0, 0, 2, 1, 1, 1, 2, 0, 2, 0, 0, 0, 2, 0, 2, 1, 0, 0, 0, 0, 1, 1, 2, 0, 2, 1, 2, 2, 0, 2, 1, 0, 0, 1, 2, 2, 1, 2, 2, 1, 0, 0, 2, 1, 2, 2, 2, 0, 0, 1, 2, 1, 1, 1, 1, 2, 0, 0, 0, 1, 2, 0, 2, 1, 2, 0, 2, 2, 1, 0, 0, 2, 1, 0, 0, 1, 2, 0, 1, 0, 0, 1, 0, 0, 1, 0, 1, 0, 2, 0, 2, 2, 2, 0, 1, 1, 2, 0, 2, 0, 0, 2, 0, 1, 1, 0, 2, 2, 0, 2, 2, 0, 2, 0, 2, 1, 2, 2, 0, 2, 1, 2, 2, 2, 2, 1, 2, 0, 0, 0, 0, 1, 0, 0, 1, 2, 1, 2, 1, 1, 1, 1, 0, 1, 0, 2, 2, 0, 2, 2, 0, 0, 1, 2, 1, 2, 2, 2, 2, 1, 0, 1, 2, 0, 1, 2, 0, 2, 1, 1, 1, 1, 0, 2, 1, 0, 1, 2, 0, 0, 0, 2, 2, 1, 1, 0, 2, 0, 0, 0, 2, 2, 2, 2, 2, 0, 0, 1, 2, 0, 1, 2, 1, 2, 2, 2, 0, 1, 0, 0, 2, 1, 0, 1, 0, 0, 2, 2, 2, 2, 1, 0, 0, 2, 2, 0, 0, 1, 2, 1, 2, 0, 0, 2, 0, 2, 2, 2, 2, 1, 2, 0, 0, 0, 1, 0, 1, 1, 1, 2, 0, 1, 1, 1, 0, 2, 2, 2, 1, 0, 2, 1, 1, 1, 1, 0, 0, 2, 2, 0, 1, 2, 1, 0, 2, 2, 2, 1, 2, 0, 1, 2, 2, 2, 1, 0, 1, 0, 0, 2, 2, 1, 1, 1, 0, 2, 1, 1, 0, 0, 2, 2, 0, 1, 1, 0, 0, 2, 0, 1, 0, 0, 1, 2, 0, 0, 1, 0, 1, 1, 0, 2, 0, 0, 2, 2, 1, 1, 0, 2, 2, 2, 1, 2, 1, 2, 2, 1, 0, 2, 1, 2, 1, 0, 0, 2, 1, 2, 0, 1, 0, 0, 1, 2, 0, 1, 1, 1, 2, 2, 0, 2, 2, 2, 2, 0, 1, 2, 1, 2, 1, 1, 1, 2, 2, 2, 1, 0, 2, 1, 1, 1, 2, 2, 1, 0, 0, 2, 2, 1, 1, 2, 1, 1, 2, 2, 0, 0, 1, 0, 1, 2, 0, 0, 0, 0, 0, 0, 1, 2, 0, 2, 0, 2, 1, 0, 1, 0, 1, 2, 1, 1, 2, 2, 1, 2, 0, 2, 1, 1, 0, 1, 0, 1, 2, 2, 0, 1, 1, 2, 1, 0, 0, 1, 0, 2, 2, 0, 1, 0, 0, 1, 0, 0, 1, 0, 2, 2, 0, 0, 2, 1, 0, 2, 0, 0, 2, 0, 1, 2, 2, 0, 1, 0, 0, 1, 2, 2, 2, 1, 1, 2, 1, 0, 2, 0, 0, 0, 1, 1, 1, 0, 2, 2, 1, 2, 2, 1, 0, 0, 2, 1, 1, 2, 2, 0, 2, 1, 1, 0, 2, 0, 2, 2, 2, 0, 2, 1, 1, 2, 1, 0, 1, 2, 2, 0, 2, 2, 0, 2, 1, 1, 2, 0, 0, 0, 2, 0, 1, 2, 2, 1, 1, 1, 0, 1, 2, 0, 2, 2, 0, 1, 2, 2, 0, 2, 0, 1, 2, 0, 0, 0, 1, 1, 2, 2, 2, 1, 1, 2, 1, 2, 1, 1, 0, 0, 1, 1, 2, 0, 1, 2, 1, 2, 0, 1, 1, 1, 1, 0, 2, 1, 2, 1, 0, 2, 1, 0, 2, 0, 0, 1, 1, 2, 1, 2, 0, 1, 1, 0, 2, 1, 2, 0, 1, 2, 2, 1, 1, 1, 1, 0, 0, 0, 2, 1, 0, 1, 0, 1, 0, 1, 0, 2, 1, 1, 1, 0, 1, 1, 2, 0, 1, 0, 2, 1, 0, 2, 2, 2, 2, 2, 2, 1, 1, 0, 0, 1, 0, 2, 1, 1, 1, 0, 0, 2, 0, 0, 2, 1, 2, 1, 2, 2, 1, 1, 2, 0, 1, 1, 1, 0, 2, 1, 2, 1, 0, 2, 1, 0, 2, 0, 1, 2, 0, 1, 2, 1, 1, 1, 2, 0, 1, 1, 0, 0, 1, 0, 1, 0, 0, 2, 1, 0, 0, 2, 0, 0, 1, 2, 0, 0, 2, 2, 2, 0, 0, 2, 1, 1, 2, 2, 1, 2, 1, 0, 0, 2, 2, 1, 1, 2, 0, 1, 1, 2, 2, 2, 2, 0, 0, 0, 2, 0, 0, 1, 1, 1, 1, 1, 1, 0, 1, 0, 2, 2, 1, 1, 0, 0, 0, 0, 2, 2, 0, 1, 2, 0, 0, 1, 0, 0, 0, 2, 0, 0, 1, 0, 2, 2, 1, 2, 0, 0, 0, 2, 2, 2, 0, 1, 0, 2, 2, 1, 0, 2, 0, 1, 2, 2, 1, 2, 0, 0, 2, 0, 0, 2, 2, 1, 0, 2, 0, 1, 2, 0, 2, 0, 1, 0, 1, 0, 0, 0, 2, 0, 0, 0, 0, 0, 1, 2, 2, 2, 1, 0, 0, 0, 0, 0, 2, 2, 2, 2, 0, 2, 0, 0, 2, 2, 2, 1, 0, 2, 0, 2, 1, 2, 1, 1, 1, 1, 2, 1, 1, 1, 1, 0, 1, 0, 0, 0, 2, 1, 0, 1, 0, 1, 1, 2, 0, 1, 0, 1, 0, 2, 2, 0, 1, 0, 2, 2, 0, 1, 1, 2, 2, 0, 0, 0, 1, 1, 0, 0, 1, 1, 0, 2, 1, 1, 0, 0, 1, 0, 2, 0, 2, 0, 2, 1, 2, 1, 2, 2, 2, 1, 0, 0, 2, 0, 2, 1, 1, 2, 1, 2, 0, 0, 2, 1, 0, 1, 0, 2, 0, 0, 0, 2, 1, 0, 1, 2, 0, 2, 0, 2, 1, 0, 2, 2, 2, 2, 2, 0, 0, 0, 2, 1, 1, 2, 2, 2, 0, 2, 0, 0, 2, 2, 2, 2, 1, 1, 2, 1, 2, 0, 2, 2, 1, 0, 1, 1, 2, 1, 1, 1, 0, 1, 0, 2, 1, 0, 1, 2, 2, 2, 1, 2, 2, 1, 1, 2, 0, 2, 2, 2, 0, 1, 2, 1, 2, 2, 1, 1, 1, 2, 0, 1, 2, 1, 0, 2, 0, 0, 0, 2, 1, 1, 0, 0, 0, 1, 2, 2, 2, 0, 0, 0, 2, 2, 2, 1, 0, 1, 2, 2, 2, 2, 2, 2, 2, 2, 1, 1, 0, 1, 0, 1, 1, 2, 2, 0, 1, 1, 2, 1, 2, 1, 1, 0, 1, 1, 0, 0, 2, 0, 2, 1, 1, 1, 2, 1, 0, 1, 0, 1, 0, 2, 1, 2, 1, 1, 0, 1, 1, 0, 1, 0, 0, 2, 0, 2, 1, 1, 0, 1, 2, 0, 2, 0, 1, 1, 1, 0, 1, 0, 1, 0, 1, 1, 2, 0, 1, 0, 0, 0, 0, 2, 2, 0, 1, 0, 0, 0, 1, 0, 1, 0, 1, 2, 1, 1, 1, 2, 1, 0, 2, 2, 0, 1, 0, 1, 0, 1, 2, 2, 0, 1, 2, 0, 2, 2, 2, 2, 1, 2, 1, 2, 2, 0, 1, 0, 0, 0, 0, 1, 0, 1, 1, 0, 0, 2, 1, 0, 1, 1, 1, 1, 0, 1, 2, 0, 0, 1, 2, 2, 2, 1, 0, 1, 0, 1, 1, 0, 0, 1, 2, 2, 0, 0, 2, 1, 1, 1, 1, 2, 2, 0, 0, 1, 2, 1, 0, 2, 2, 0, 2, 0, 1, 0, 1, 1, 0, 0, 1, 1, 2, 0, 0, 0, 2, 2, 0, 1, 1, 0, 1, 2, 1, 1, 0, 0, 2, 2, 1, 1, 1, 0, 1, 2, 0, 1, 2, 0, 2, 2, 1, 1, 2, 0, 2, 1, 2, 2, 2, 1, 1, 1, 1, 1]\n",
            "Accuracy: 0.987707881417209\n"
          ]
        }
      ]
    },
    {
      "cell_type": "code",
      "source": [
        "print(\"Jumlah semua data yang diuji: \" + str(len(y_test)))\n",
        "\n",
        "# Buat Series dari array predict\n",
        "predict_series = pd.Series(predict)\n",
        "\n",
        "# Hitung distribusi kelas\n",
        "class_distribution = predict_series.value_counts()\n",
        "print(\"\\nJumlah data tiap kelas yang diuji: \")\n",
        "print(class_distribution)\n",
        "\n",
        "# Definisikan mapping label\n",
        "label_mapping = {0: 'standing', 1: 'sitting', 2: 'walking'}\n",
        "\n",
        "# Dekode label numerik ke label deskriptif\n",
        "decoded_predict = [label_mapping[label] for label in predict]\n",
        "decoded_y_test = [label_mapping[label] for label in y_test]\n",
        "\n",
        "# Buat DataFrame untuk menampilkan hasil\n",
        "results_df = pd.DataFrame({\n",
        "    'Predicted Label': decoded_predict,\n",
        "    'Actual Label': decoded_y_test\n",
        "})"
      ],
      "metadata": {
        "colab": {
          "base_uri": "https://localhost:8080/"
        },
        "id": "1syhzAb6Fqfm",
        "outputId": "5ef9f472-f766-4bab-db00-71fe9884f47d"
      },
      "execution_count": null,
      "outputs": [
        {
          "output_type": "stream",
          "name": "stdout",
          "text": [
            "Jumlah semua data yang diuji: 1383\n",
            "\n",
            "Jumlah data tiap kelas yang diuji: \n",
            "0    472\n",
            "1    460\n",
            "2    451\n",
            "Name: count, dtype: int64\n"
          ]
        }
      ]
    },
    {
      "cell_type": "code",
      "source": [
        "truematch_df = results_df[results_df['Actual Label'] == results_df['Predicted Label']]\n",
        "print(\"Jumlah prediksi benar: \", len(truematch_df))\n",
        "\n",
        "# Tampilkan hasil tabel\n",
        "print(\"\\nHasil Benar Prediksi:\")\n",
        "print(results_df.head(10))  # Menampilkan 10 baris pertama"
      ],
      "metadata": {
        "colab": {
          "base_uri": "https://localhost:8080/"
        },
        "id": "GfCyV_FmwHqc",
        "outputId": "6b1592f8-0bd7-45e3-b878-ac56126004b9"
      },
      "execution_count": null,
      "outputs": [
        {
          "output_type": "stream",
          "name": "stdout",
          "text": [
            "Jumlah prediksi benar:  1366\n",
            "\n",
            "Hasil Benar Prediksi:\n",
            "  Predicted Label Actual Label\n",
            "0        standing     standing\n",
            "1         walking      walking\n",
            "2         sitting      sitting\n",
            "3         walking      walking\n",
            "4         sitting      sitting\n",
            "5         sitting      sitting\n",
            "6        standing     standing\n",
            "7        standing     standing\n",
            "8        standing     standing\n",
            "9         walking      walking\n"
          ]
        }
      ]
    },
    {
      "cell_type": "code",
      "source": [
        "# Filter data dengan prediksi yang salah\n",
        "mismatch_df = results_df[results_df['Actual Label'] != results_df['Predicted Label']]\n",
        "print(\"Jumlah prediksi salah: \", len(mismatch_df))\n",
        "\n",
        "# Tampilkan hasil salah prediksi\n",
        "print(\"\\nHasil Salah Prediksi:\")\n",
        "print(mismatch_df.head(10))"
      ],
      "metadata": {
        "colab": {
          "base_uri": "https://localhost:8080/"
        },
        "id": "11oJNOdKF8lj",
        "outputId": "34e2d529-a9e9-4344-bfb8-b536d1c9fd8c"
      },
      "execution_count": null,
      "outputs": [
        {
          "output_type": "stream",
          "name": "stdout",
          "text": [
            "Jumlah prediksi salah:  17\n",
            "\n",
            "Hasil Salah Prediksi:\n",
            "    Predicted Label Actual Label\n",
            "121        standing      walking\n",
            "170         walking     standing\n",
            "190        standing      walking\n",
            "282         sitting     standing\n",
            "288        standing      walking\n",
            "411         sitting     standing\n",
            "461        standing      walking\n",
            "552        standing      walking\n",
            "755        standing      walking\n",
            "821        standing      walking\n"
          ]
        }
      ]
    },
    {
      "cell_type": "code",
      "source": [
        "# Pastikan predict dan y_test adalah array NumPy\n",
        "predicts = np.array(predict)\n",
        "y_tests = np.array(y_test)\n",
        "\n",
        "# Bar Chart: Jumlah Prediksi Benar dan Salah\n",
        "true_predictions = (predicts == y_test).sum()  # Hitung prediksi benar\n",
        "false_predictions = (predicts != y_test).sum()  # Hitung prediksi salah\n",
        "\n",
        "plt.bar(['Benar', 'Salah'], [true_predictions, false_predictions])\n",
        "plt.title('Distribusi Prediksi Benar vs Salah')\n",
        "plt.ylabel('Jumlah')\n",
        "plt.show()\n",
        "\n",
        "# Perbandingan Prediksi dan Data Asli (Subset)\n",
        "subset_indices = np.random.choice(len(y_tests), size=10, replace=False)  # Pilih subset random\n",
        "subset_actual = np.array(y_tests)[subset_indices]\n",
        "subset_predicted = np.array(predicts)[subset_indices]"
      ],
      "metadata": {
        "colab": {
          "base_uri": "https://localhost:8080/",
          "height": 452
        },
        "id": "mWtWuV6yDl46",
        "outputId": "67be90f6-849a-4422-fca5-512aee3666e6"
      },
      "execution_count": null,
      "outputs": [
        {
          "output_type": "display_data",
          "data": {
            "text/plain": [
              "<Figure size 640x480 with 1 Axes>"
            ],
            "image/png": "[encoded data removed]"
          },
          "metadata": {}
        }
      ]
    },
    {
      "cell_type": "markdown",
      "source": [
        "**EVALUASI MODEL**"
      ],
      "metadata": {
        "id": "XKnY8d_KFLN5"
      }
    },
    {
      "cell_type": "markdown",
      "source": [
        "F1-Score"
      ],
      "metadata": {
        "id": "77xk0lMfFPc8"
      }
    },
    {
      "cell_type": "code",
      "source": [
        "# Evaluasi menggunakan F1-Score\n",
        "f1 = f1_score(y_test, predict, average='macro')\n",
        "print('F1-Score:', f1)\n",
        "\n",
        "# F1-Score per kelas\n",
        "f1_per_class = f1_score(y_test, predict, average=None)\n",
        "print('\\nF1-Score per Class:', f1_per_class)"
      ],
      "metadata": {
        "colab": {
          "base_uri": "https://localhost:8080/"
        },
        "id": "sVysVfUmFSeq",
        "outputId": "12f6d060-d7ad-4e31-b468-2b14bc83898c"
      },
      "execution_count": null,
      "outputs": [
        {
          "output_type": "stream",
          "name": "stdout",
          "text": [
            "F1-Score: 0.987735704999723\n",
            "\n",
            "F1-Score per Class: [0.98177921 0.99782135 0.98360656]\n"
          ]
        }
      ]
    },
    {
      "cell_type": "markdown",
      "source": [
        "Precession Recall"
      ],
      "metadata": {
        "id": "SxX2Sv_uFVUq"
      }
    },
    {
      "cell_type": "code",
      "source": [
        "# Evaluasi Precision dan Recall\n",
        "precision = precision_score(y_test, predict, average='macro')\n",
        "recall = recall_score(y_test, predict, average='macro')\n",
        "print('Precision:', precision)\n",
        "print('Recall:', recall)\n",
        "\n",
        "# Precision dan Recall per kelas\n",
        "precision_per_class = precision_score(y_test, predict, average=None)\n",
        "recall_per_class = recall_score(y_test, predict, average=None)\n",
        "print('\\nPrecision per Class:', precision_per_class)\n",
        "print('Recall per Class:', recall_per_class)"
      ],
      "metadata": {
        "colab": {
          "base_uri": "https://localhost:8080/"
        },
        "id": "hZ7Y6Bp3FXP0",
        "outputId": "7ff8a6c3-d3d8-4e73-db05-d7966b3f661a"
      },
      "execution_count": null,
      "outputs": [
        {
          "output_type": "stream",
          "name": "stdout",
          "text": [
            "Precision: 0.9879246206878897\n",
            "Recall: 0.9877733313386692\n",
            "\n",
            "Precision per Class: [0.97033898 0.99565217 0.99778271]\n",
            "Recall per Class: [0.99349241 1.         0.96982759]\n"
          ]
        }
      ]
    },
    {
      "cell_type": "markdown",
      "source": [
        "Confusion Matrix"
      ],
      "metadata": {
        "id": "QMF5Cv14FZML"
      }
    },
    {
      "cell_type": "code",
      "source": [
        "# Confusion Matrix\n",
        "conf_matrix = confusion_matrix(y_test, predict)\n",
        "disp = ConfusionMatrixDisplay(confusion_matrix=conf_matrix)\n",
        "disp.plot(cmap='viridis')\n",
        "plt.title('Confusion Matrix')\n",
        "plt.show()"
      ],
      "metadata": {
        "colab": {
          "base_uri": "https://localhost:8080/",
          "height": 472
        },
        "id": "ThNJU_BcFY3E",
        "outputId": "abbbc163-3c1b-4037-f050-7b5284ddc8f4"
      },
      "execution_count": null,
      "outputs": [
        {
          "output_type": "display_data",
          "data": {
            "text/plain": [
              "<Figure size 640x480 with 2 Axes>"
            ],
            "image/png": "[encoded data removed]"
          },
          "metadata": {}
        }
      ]
    }
  ],
  "metadata": {
    "accelerator": "GPU",
    "colab": {
      "gpuType": "T4",
      "provenance": []
    },
    "kernelspec": {
      "display_name": "Python 3",
      "name": "python3"
    },
    "language_info": {
      "name": "python"
    }
  },
  "nbformat": 4,
  "nbformat_minor": 0
}