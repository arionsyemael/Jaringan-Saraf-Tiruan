{
  "nbformat": 4,
  "nbformat_minor": 0,
  "metadata": {
    "colab": {
      "provenance": []
    },
    "kernelspec": {
      "name": "python3",
      "display_name": "Python 3"
    }
  },
  "cells": [
    {
      "cell_type": "markdown",
      "metadata": {
        "id": "cBbC4vlK7Hyb"
      },
      "source": [
        "# Bab 9 Extreme Learning Machine"
      ]
    },
    {
      "cell_type": "markdown",
      "metadata": {
        "id": "_WjSkbk57Hlf"
      },
      "source": [
        "## Praktikum"
      ]
    },
    {
      "cell_type": "markdown",
      "metadata": {
        "id": "RduxLPzY7HaP"
      },
      "source": [
        "### a) Fungsi *Training* ELM\n",
        "\n",
        "Tulis kode ke dalam *cell* di bawah ini:"
      ]
    },
    {
      "cell_type": "code",
      "metadata": {
        "id": "g6M5D3hy6_YT"
      },
      "source": [
        "import time\n",
        "import numpy as np\n",
        "\n",
        "def elm_fit(X, target, h, W=None):\n",
        "    start_time = time.time()\n",
        "\n",
        "    if W is None:\n",
        "        W = np.random.uniform(-.1, .1, (h, len(X[0])))\n",
        "\n",
        "    Hinit = X @ W.T\n",
        "    H = 1 / (1 + np.exp(-Hinit))\n",
        "    Ht = H.T\n",
        "    Hp = np.linalg.inv(Ht @ H) @ Ht\n",
        "    beta = Hp @ target\n",
        "    y = H @ beta\n",
        "    mape = sum(abs(y - target) / target) * 100 / len(target)\n",
        "\n",
        "    execution = time.time() - start_time\n",
        "    print(\"Waktu eksekusi: %s detik\" % execution)\n",
        "\n",
        "    return W, beta, mape\n"
      ],
      "execution_count": null,
      "outputs": []
    },
    {
      "cell_type": "markdown",
      "metadata": {
        "id": "RPmJcJpY7XpN"
      },
      "source": [
        "### b) Fungsi *Testing* ELM\n",
        "\n",
        "Tulis kode ke dalam *cell* di bawah ini:"
      ]
    },
    {
      "cell_type": "code",
      "metadata": {
        "id": "38sj5oIK7YAj"
      },
      "source": [
        "def elm_predict(X, W, b, round_output=False):\n",
        "    Hinit = X @ W.T\n",
        "    H = 1 / (1 + np.exp(-Hinit))\n",
        "    y = H @ b\n",
        "\n",
        "    if round_output:\n",
        "        y = [int(round(x)) for x in y]\n",
        "\n",
        "    return y"
      ],
      "execution_count": null,
      "outputs": []
    },
    {
      "cell_type": "markdown",
      "metadata": {
        "id": "INz910K1VLRD"
      },
      "source": [
        "### c) Klasifikasi *Dataset* Iris\n",
        "\n",
        "![Iris Dataset](https://www.spataru.at/images/blog/iris-dataset-svm/iris_types.jpg)\n",
        "\n",
        "Tulis kode ke dalam *cell* di bawah ini:"
      ]
    },
    {
      "cell_type": "code",
      "metadata": {
        "id": "SilFnskvVLlr",
        "colab": {
          "base_uri": "https://localhost:8080/"
        },
        "outputId": "620d1b46-6858-4976-d00d-94b5cd44b8ce"
      },
      "source": [
        "from sklearn import datasets\n",
        "from sklearn.model_selection import train_test_split\n",
        "from sklearn.preprocessing import minmax_scale\n",
        "from sklearn.metrics import accuracy_score\n",
        "\n",
        "iris = datasets.load_iris()\n",
        "X = minmax_scale(iris.data)\n",
        "Y = iris.target\n",
        "\n",
        "Y += 1\n",
        "X_train, X_test, y_train, y_test = train_test_split(X, Y, test_size=.3)\n",
        "W, b, mape = elm_fit(X_train, y_train, 3)\n",
        "\n",
        "print('MAPE:', mape)\n",
        "\n",
        "output = elm_predict(X_test, W, b, round_output=True)\n",
        "accuracy = accuracy_score(output, y_test)\n",
        "\n",
        "print('Output:', output)\n",
        "print('True :', y_test)\n",
        "print('Accuracy:', accuracy)"
      ],
      "execution_count": null,
      "outputs": [
        {
          "output_type": "stream",
          "name": "stdout",
          "text": [
            "Waktu eksekusi: 0.0002872943878173828 detik\n",
            "MAPE: 10.402879515161738\n",
            "Output: [2, 2, 2, 2, 3, 3, 1, 1, 1, 3, 3, 1, 1, 1, 3, 3, 2, 2, 1, 1, 2, 2, 2, 1, 3, 3, 3, 2, 2, 2, 1, 2, 2, 1, 2, 1, 3, 2, 2, 3, 2, 1, 1, 2, 1]\n",
            "True : [2 2 2 2 3 3 1 1 1 3 3 1 1 1 3 3 2 2 1 1 2 2 2 1 3 2 3 2 2 2 1 2 2 1 2 1 3\n",
            " 2 2 3 2 1 1 2 1]\n",
            "Accuracy: 0.9777777777777777\n"
          ]
        }
      ]
    },
    {
      "cell_type": "markdown",
      "source": [
        "### SOAL 1\n",
        "Lakukan klasifikasi dengan menggunakan dataset Iris seperti pada contoh di atas. Ubahlah nilai pengaturan sebagai berikut:\n",
        "1. Rasio data latih: 70% dan data uji: 30%\n",
        "2. Jumlah hidden neuron: 3;5;7;10;30 Lakukanlah pengujian menggunakan jumlah hidden hidden neuron yang berbeda dan bandingkan hasilnya.\n",
        "\n",
        "Analisa kemampuan algoritma ELM untuk mengklasifikasikan dataset Iris tersebut."
      ],
      "metadata": {
        "id": "xWbodHFjHN0l"
      }
    },
    {
      "cell_type": "code",
      "source": [
        "iris = datasets.load_iris()\n",
        "X = minmax_scale(iris.data)\n",
        "Y = iris.target\n",
        "\n",
        "Y += 1\n",
        "X_train, X_test, y_train, y_test = train_test_split(X, Y, test_size=.3)\n",
        "\n",
        "hidden_neurons_list = [3, 5, 7, 10, 30]\n",
        "\n",
        "for h_neurons in hidden_neurons_list:\n",
        "    print(f\"\\nHidden layer: {h_neurons}\")\n",
        "\n",
        "    W, b, mape = elm_fit(X_train, y_train, h_neurons)\n",
        "    print('MAPE:', mape)\n",
        "\n",
        "    output = elm_predict(X_test, W, b, round_output=True)\n",
        "    accuracy = accuracy_score(output, y_test)\n",
        "\n",
        "    print('Output:', output)\n",
        "    print('True :', y_test)\n",
        "    print('Accuracy:', accuracy)"
      ],
      "metadata": {
        "colab": {
          "base_uri": "https://localhost:8080/"
        },
        "id": "l_1G22z-HOKl",
        "outputId": "afadd2dd-ecb6-4d11-bd0e-e39e9d7d878c"
      },
      "execution_count": null,
      "outputs": [
        {
          "output_type": "stream",
          "name": "stdout",
          "text": [
            "\n",
            "Hidden layer: 3\n",
            "Waktu eksekusi: 0.0002541542053222656 detik\n",
            "MAPE: 7.983583373629873\n",
            "Output: [3, 2, 1, 2, 3, 2, 1, 2, 3, 3, 3, 1, 2, 1, 3, 2, 1, 3, 2, 2, 2, 2, 1, 1, 1, 3, 3, 2, 1, 1, 1, 1, 2, 3, 2, 1, 2, 2, 2, 2, 2, 3, 2, 2, 2]\n",
            "True : [3 2 1 2 3 2 1 3 3 3 3 1 2 1 3 2 1 3 2 2 2 2 1 1 1 3 3 2 1 1 1 1 2 3 2 1 2\n",
            " 2 2 2 2 3 3 2 2]\n",
            "Accuracy: 0.9555555555555556\n",
            "\n",
            "Hidden layer: 5\n",
            "Waktu eksekusi: 0.00027370452880859375 detik\n",
            "MAPE: 7.638607860535032\n",
            "Output: [3, 3, 1, 2, 3, 2, 1, 2, 3, 3, 3, 1, 2, 1, 3, 2, 1, 3, 2, 2, 2, 2, 1, 1, 1, 3, 3, 2, 1, 1, 1, 1, 2, 3, 2, 1, 2, 2, 2, 2, 2, 3, 3, 2, 2]\n",
            "True : [3 2 1 2 3 2 1 3 3 3 3 1 2 1 3 2 1 3 2 2 2 2 1 1 1 3 3 2 1 1 1 1 2 3 2 1 2\n",
            " 2 2 2 2 3 3 2 2]\n",
            "Accuracy: 0.9555555555555556\n",
            "\n",
            "Hidden layer: 7\n",
            "Waktu eksekusi: 0.0002789497375488281 detik\n",
            "MAPE: 7.490314741632559\n",
            "Output: [3, 2, 1, 2, 4, 2, 1, 2, 3, 3, 3, 1, 2, 1, 3, 2, 1, 3, 2, 2, 2, 2, 1, 1, 1, 3, 3, 2, 1, 1, 1, 1, 2, 3, 2, 1, 2, 2, 2, 2, 2, 3, 3, 2, 2]\n",
            "True : [3 2 1 2 3 2 1 3 3 3 3 1 2 1 3 2 1 3 2 2 2 2 1 1 1 3 3 2 1 1 1 1 2 3 2 1 2\n",
            " 2 2 2 2 3 3 2 2]\n",
            "Accuracy: 0.9555555555555556\n",
            "\n",
            "Hidden layer: 10\n",
            "Waktu eksekusi: 0.0002684593200683594 detik\n",
            "MAPE: 6.7687618741327915\n",
            "Output: [3, 2, 1, 2, 4, 2, 1, 2, 3, 3, 3, 1, 2, 1, 3, 2, 1, 3, 2, 2, 2, 2, 1, 1, 1, 3, 3, 2, 1, 1, 1, 1, 2, 3, 2, 1, 2, 2, 2, 2, 2, 3, 3, 2, 2]\n",
            "True : [3 2 1 2 3 2 1 3 3 3 3 1 2 1 3 2 1 3 2 2 2 2 1 1 1 3 3 2 1 1 1 1 2 3 2 1 2\n",
            " 2 2 2 2 3 3 2 2]\n",
            "Accuracy: 0.9555555555555556\n",
            "\n",
            "Hidden layer: 30\n",
            "Waktu eksekusi: 0.008156061172485352 detik\n",
            "MAPE: 250.95751825335714\n",
            "Output: [-1, -2, -3, -2, -1, -2, -3, -2, -1, -1, -1, -3, -2, -3, -1, -2, -3, -1, -2, -2, -2, -2, -3, -3, -3, -1, -1, -2, -3, -3, -3, -3, -2, -1, -2, -3, -2, -2, -2, -2, -2, -1, -2, -2, -2]\n",
            "True : [3 2 1 2 3 2 1 3 3 3 3 1 2 1 3 2 1 3 2 2 2 2 1 1 1 3 3 2 1 1 1 1 2 3 2 1 2\n",
            " 2 2 2 2 3 3 2 2]\n",
            "Accuracy: 0.0\n"
          ]
        }
      ]
    },
    {
      "cell_type": "markdown",
      "source": [
        "### Soal 2\n",
        "\n",
        "1. Lakukan klasifikasi menggunakan dataset Iris seperti pada contoh di atas dengan menggunakan metode Backpropagation dengan parameter berikut:\n",
        "  - Rasio data latih: 70% dan data uji: 30%\n",
        "  - Hidden neuron = 3\n",
        "  - Max epoch = 100\n",
        "  - Learning rate = 0.1 e. Max error = 0.5\n",
        "  \n",
        "  Catat hasil klasifikasi dengan menggunakan metode Backpropagation.\n",
        "\n",
        "2. Lakukanlah klasifikasi menggunakan dataset Iris seperti pada contoh diatas dengan menggunakan metode ELM dengan parameter berikut:\n",
        "  - Rasio data latih: 70% dan data uji: 30%\n",
        "  - Hidden neuron = 3\n",
        "  \n",
        "  Catat hasil klasifikasi dengan menggunakan metode ELM. Lakukan analisa dari perbandingan kedua penerapan klasifikasi tersebut dari segi akurasi dan identifikasi waktu komputasi pada saat proses training.\n",
        "  \n",
        "Metode manakah yang terbaik dilihat dari segi akurasi dan waktu komputasi? Analisa hasil tersebut."
      ],
      "metadata": {
        "id": "S3Eq5cs1HOgc"
      }
    },
    {
      "cell_type": "code",
      "source": [
        "import numpy as np\n",
        "from sklearn import datasets\n",
        "from sklearn.model_selection import train_test_split\n",
        "from sklearn.preprocessing import minmax_scale\n",
        "from sklearn.metrics import accuracy_score\n",
        "import time\n",
        "\n",
        "def bp_fit(X, target, layer_conf, max_epoch, max_error=0.5, learn_rate=0.1, print_per_epoch=100):\n",
        "    start_time = time.time()\n",
        "    np.random.seed(1)\n",
        "    nin = [np.empty(i) for i in layer_conf]\n",
        "    n = [np.empty(j + 1) if i < len(layer_conf) - 1 else np.empty(j) for i, j in enumerate(layer_conf)]\n",
        "    w = [np.random.rand(layer_conf[i] + 1, layer_conf[i + 1]) for i in range(len(layer_conf) - 1)]\n",
        "    dw = [np.empty((layer_conf[i] + 1, layer_conf[i + 1])) for i in range(len(layer_conf) - 1)]\n",
        "    d = [np.empty(s) for s in layer_conf[1:]]\n",
        "    din = [np.empty(s) for s in layer_conf[1:-1]]\n",
        "    epoch = 0\n",
        "    mse = 1\n",
        "\n",
        "    for i in range(0, len(n) - 1):\n",
        "        n[i][-1] = 1\n",
        "\n",
        "    while (max_epoch == -1 or epoch < max_epoch) and mse > max_error:\n",
        "        epoch += 1\n",
        "        mse = 0\n",
        "\n",
        "        for r in range(len(X)):\n",
        "            n[0][:-1] = X[r]\n",
        "\n",
        "            for L in range(1, len(layer_conf)):\n",
        "                nin[L] = np.dot(n[L - 1], w[L - 1])\n",
        "                n[L][:len(nin[L])] = sig(nin[L])\n",
        "\n",
        "            e = target[r] - n[-1]\n",
        "            mse += sum(e ** 2)\n",
        "            d[-1] = e * sigd(nin[-1])\n",
        "            dw[-1] = learn_rate * d[-1] * n[-2].reshape((-1, 1))\n",
        "\n",
        "            for L in range(len(layer_conf) - 1, 1, -1):\n",
        "                din[L - 2] = np.dot(d[L - 1], np.transpose(w[L - 1][:-1]))\n",
        "                d[L - 2] = din[L - 2] * np.array(sigd(nin[L - 1]))\n",
        "                dw[L - 2] = (learn_rate * d[L - 2]) * n[L - 2].reshape((-1, 1))\n",
        "\n",
        "            for i in range(len(w)):\n",
        "                w[i] += dw[i]\n",
        "\n",
        "        mse /= len(X)\n",
        "\n",
        "        if print_per_epoch > -1 and epoch % print_per_epoch == 0:\n",
        "            print(f'Epoch {epoch}, MSE: {mse}')\n",
        "\n",
        "    execution = time.time() - start_time\n",
        "    print(\"Waktu eksekusi: %s detik\" % execution)\n",
        "\n",
        "    return w, epoch, mse\n",
        "\n",
        "def bp_predict(X, w):\n",
        "    n = [np.empty(len(i)) for i in w]\n",
        "    nin = [np.empty(len(i[0])) for i in w]\n",
        "    predict = []\n",
        "    n.append(np.empty(len(w[-1][0])))\n",
        "\n",
        "    for x in X:\n",
        "        n[0][:-1] = x\n",
        "\n",
        "        for L in range(0, len(w)):\n",
        "            nin[L] = np.dot(n[L], w[L])\n",
        "            n[L + 1][:len(nin[L])] = sig(nin[L])\n",
        "\n",
        "        predict.append(n[-1].copy())\n",
        "\n",
        "    return predict\n",
        "\n",
        "def onehot_enc(lbl, min_val=0):\n",
        "    mi = min(lbl)\n",
        "    enc = np.full((len(lbl), max(lbl) - mi + 1), min_val, np.int8)\n",
        "    for i, x in enumerate(lbl):\n",
        "        enc[i, x - mi] = 1\n",
        "    return enc\n",
        "\n",
        "def onehot_dec(enc, mi=0):\n",
        "    return [np.argmax(e) + mi for e in enc]\n",
        "\n",
        "def sig(X):\n",
        "    return [1 / (1 + np.exp(-x)) for x in X]\n",
        "\n",
        "def sigd(X):\n",
        "    output = []\n",
        "    for i, x in enumerate(X):\n",
        "        s = sig([x])[0]\n",
        "        output.append(s * (1 - s))\n",
        "    return output\n",
        "\n",
        "iris = datasets.load_iris()\n",
        "X = minmax_scale(iris.data)\n",
        "Y = onehot_enc(iris.target)\n",
        "X_train, X_test, y_train, y_test = train_test_split(X, Y, test_size=.3, random_state=1)\n",
        "w, ep, mse = bp_fit(X_train, y_train, layer_conf=(4, 3, 3), learn_rate=.1, max_epoch=100, max_error=.5, print_per_epoch=25)\n",
        "print(f'Epochs: {ep}, MSE: {mse}')\n",
        "predict = bp_predict(X_test, w)\n",
        "predict = onehot_dec(predict)\n",
        "y_test = onehot_dec(y_test)\n",
        "accuracy = accuracy_score(predict, y_test)\n",
        "print('Output:', predict)\n",
        "print('True :', y_test)\n",
        "print('Accuracy:', accuracy)\n"
      ],
      "metadata": {
        "colab": {
          "base_uri": "https://localhost:8080/"
        },
        "id": "41ZGpo2EHO_a",
        "outputId": "6b5c9008-a739-4158-ec79-00d2ba39478d"
      },
      "execution_count": null,
      "outputs": [
        {
          "output_type": "stream",
          "name": "stdout",
          "text": [
            "Waktu eksekusi: 0.31127071380615234 detik\n",
            "Epochs: 23, MSE: 0.4858416685844551\n",
            "Output: [0, 2, 2, 0, 2, 2, 2, 0, 0, 2, 2, 0, 2, 2, 2, 0, 2, 2, 0, 0, 2, 2, 2, 0, 2, 2, 0, 0, 2, 2, 2, 2, 2, 2, 2, 0, 2, 0, 2, 2, 2, 0, 2, 2, 2]\n",
            "True : [0, 1, 1, 0, 2, 1, 2, 0, 0, 2, 1, 0, 2, 1, 1, 0, 1, 1, 0, 0, 1, 1, 1, 0, 2, 1, 0, 0, 1, 2, 1, 2, 1, 2, 2, 0, 1, 0, 1, 2, 2, 0, 2, 2, 1]\n",
            "Accuracy: 0.6\n"
          ]
        }
      ]
    },
    {
      "cell_type": "code",
      "source": [
        "iris = datasets.load_iris()\n",
        "X = minmax_scale(iris.data)\n",
        "Y = iris.target\n",
        "\n",
        "Y += 1\n",
        "X_train, X_test, y_train, y_test = train_test_split(X, Y, test_size=.3)\n",
        "W, b, mape = elm_fit(X_train, y_train, 3)\n",
        "\n",
        "print('MAPE:', mape)\n",
        "\n",
        "output = elm_predict(X_test, W, b, round_output=True)\n",
        "accuracy = accuracy_score(output, y_test)\n",
        "\n",
        "print('Output:', output)\n",
        "print('True :', y_test)\n",
        "print('Accuracy:', accuracy)"
      ],
      "metadata": {
        "colab": {
          "base_uri": "https://localhost:8080/"
        },
        "id": "LbJ3fNGjHQBi",
        "outputId": "c5a32731-9057-41ce-d124-133144f76faf"
      },
      "execution_count": null,
      "outputs": [
        {
          "output_type": "stream",
          "name": "stdout",
          "text": [
            "Waktu eksekusi: 0.0008311271667480469 detik\n",
            "MAPE: 11.43058687070364\n",
            "Output: [2, 2, 3, 2, 1, 2, 1, 2, 3, 3, 1, 3, 3, 1, 2, 1, 2, 1, 1, 1, 2, 3, 3, 2, 1, 2, 2, 2, 1, 2, 2, 1, 1, 2, 1, 1, 3, 2, 3, 2, 3, 3, 2, 2, 2]\n",
            "True : [2 2 3 3 1 2 1 2 3 3 1 3 3 1 2 1 2 1 1 1 2 3 3 2 1 2 2 2 1 2 3 1 1 2 1 1 3\n",
            " 3 3 2 3 3 2 2 2]\n",
            "Accuracy: 0.9333333333333333\n"
          ]
        }
      ]
    }
  ]
}