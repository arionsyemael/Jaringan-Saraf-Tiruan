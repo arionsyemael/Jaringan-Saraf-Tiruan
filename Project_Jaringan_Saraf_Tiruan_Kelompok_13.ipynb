{
  "nbformat": 4,
  "nbformat_minor": 0,
  "metadata": {
    "colab": {
      "provenance": [],
      "gpuType": "T4"
    },
    "kernelspec": {
      "name": "python3",
      "display_name": "Python 3"
    },
    "language_info": {
      "name": "python"
    },
    "accelerator": "GPU"
  },
  "cells": [
    {
      "cell_type": "markdown",
      "source": [
        "**KELOMPOK 13**\n",
        "\n",
        "Arion Syemael Siahaan\n",
        "\n",
        "Firman Maulana\n",
        "\n",
        "Razi Al-kindi"
      ],
      "metadata": {
        "id": "M7y-dqEC_gCR"
      }
    },
    {
      "cell_type": "code",
      "source": [
        "import pandas as pd\n",
        "import numpy as np\n",
        "import matplotlib.pyplot as plt"
      ],
      "metadata": {
        "id": "Nr4Z5kgx0E6c"
      },
      "execution_count": 3,
      "outputs": []
    },
    {
      "cell_type": "code",
      "source": [
        "df = pd.read_csv('mhealth_raw_data.csv')"
      ],
      "metadata": {
        "id": "LoqVx05C0Uav",
        "colab": {
          "base_uri": "https://localhost:8080/"
        },
        "outputId": "77c1de46-5fc6-409f-dba2-fdf791b960ea"
      },
      "execution_count": 4,
      "outputs": [
        {
          "output_type": "stream",
          "name": "stderr",
          "text": [
            "<ipython-input-4-07ab79936df6>:1: DtypeWarning: Columns (11) have mixed types. Specify dtype option on import or set low_memory=False.\n",
            "  df = pd.read_csv('mhealth_raw_data.csv')\n"
          ]
        }
      ]
    },
    {
      "cell_type": "code",
      "source": [
        "df.info()"
      ],
      "metadata": {
        "id": "kFV4QCfQ5KwV",
        "colab": {
          "base_uri": "https://localhost:8080/"
        },
        "outputId": "7514c8d6-442c-4539-ce29-3621d520e0f9"
      },
      "execution_count": 5,
      "outputs": [
        {
          "output_type": "stream",
          "name": "stdout",
          "text": [
            "<class 'pandas.core.frame.DataFrame'>\n",
            "RangeIndex: 317506 entries, 0 to 317505\n",
            "Data columns (total 14 columns):\n",
            " #   Column    Non-Null Count   Dtype  \n",
            "---  ------    --------------   -----  \n",
            " 0   alx       317506 non-null  float64\n",
            " 1   aly       317506 non-null  float64\n",
            " 2   alz       317506 non-null  float64\n",
            " 3   glx       317506 non-null  float64\n",
            " 4   gly       317506 non-null  float64\n",
            " 5   glz       317506 non-null  float64\n",
            " 6   arx       317506 non-null  float64\n",
            " 7   ary       317506 non-null  float64\n",
            " 8   arz       317506 non-null  float64\n",
            " 9   grx       317506 non-null  float64\n",
            " 10  gry       317506 non-null  float64\n",
            " 11  grz       317506 non-null  object \n",
            " 12  Activity  317505 non-null  float64\n",
            " 13  subject   317505 non-null  object \n",
            "dtypes: float64(12), object(2)\n",
            "memory usage: 33.9+ MB\n"
          ]
        }
      ]
    },
    {
      "cell_type": "code",
      "source": [
        "df = df.drop(columns=['alx', 'aly', 'alz', 'arx', 'ary', 'arz', 'subject'])"
      ],
      "metadata": {
        "id": "e747I4ZO7hap"
      },
      "execution_count": 6,
      "outputs": []
    },
    {
      "cell_type": "code",
      "source": [
        "df.head()"
      ],
      "metadata": {
        "colab": {
          "base_uri": "https://localhost:8080/",
          "height": 206
        },
        "id": "AbyjQFkL8tse",
        "outputId": "68509c1b-bb3c-4496-f5b9-210a8a5dae7f"
      },
      "execution_count": 7,
      "outputs": [
        {
          "output_type": "execute_result",
          "data": {
            "text/plain": [
              "        glx      gly      glz      grx     gry       grz  Activity\n",
              "0  0.103900 -0.84053 -0.68762 -0.44902 -1.0103  0.034483       0.0\n",
              "1  0.085343 -0.83865 -0.68369 -0.44902 -1.0103  0.034483       0.0\n",
              "2  0.085343 -0.83865 -0.68369 -0.44902 -1.0103  0.034483       0.0\n",
              "3  0.085343 -0.83865 -0.68369 -0.45686 -1.0082  0.025862       0.0\n",
              "4  0.085343 -0.83865 -0.68369 -0.45686 -1.0082  0.025862       0.0"
            ],
            "text/html": [
              "\n",
              "  <div id=\"df-7fae3e17-16d9-4c60-b0c6-fbe113d6e393\" class=\"colab-df-container\">\n",
              "    <div>\n",
              "<style scoped>\n",
              "    .dataframe tbody tr th:only-of-type {\n",
              "        vertical-align: middle;\n",
              "    }\n",
              "\n",
              "    .dataframe tbody tr th {\n",
              "        vertical-align: top;\n",
              "    }\n",
              "\n",
              "    .dataframe thead th {\n",
              "        text-align: right;\n",
              "    }\n",
              "</style>\n",
              "<table border=\"1\" class=\"dataframe\">\n",
              "  <thead>\n",
              "    <tr style=\"text-align: right;\">\n",
              "      <th></th>\n",
              "      <th>glx</th>\n",
              "      <th>gly</th>\n",
              "      <th>glz</th>\n",
              "      <th>grx</th>\n",
              "      <th>gry</th>\n",
              "      <th>grz</th>\n",
              "      <th>Activity</th>\n",
              "    </tr>\n",
              "  </thead>\n",
              "  <tbody>\n",
              "    <tr>\n",
              "      <th>0</th>\n",
              "      <td>0.103900</td>\n",
              "      <td>-0.84053</td>\n",
              "      <td>-0.68762</td>\n",
              "      <td>-0.44902</td>\n",
              "      <td>-1.0103</td>\n",
              "      <td>0.034483</td>\n",
              "      <td>0.0</td>\n",
              "    </tr>\n",
              "    <tr>\n",
              "      <th>1</th>\n",
              "      <td>0.085343</td>\n",
              "      <td>-0.83865</td>\n",
              "      <td>-0.68369</td>\n",
              "      <td>-0.44902</td>\n",
              "      <td>-1.0103</td>\n",
              "      <td>0.034483</td>\n",
              "      <td>0.0</td>\n",
              "    </tr>\n",
              "    <tr>\n",
              "      <th>2</th>\n",
              "      <td>0.085343</td>\n",
              "      <td>-0.83865</td>\n",
              "      <td>-0.68369</td>\n",
              "      <td>-0.44902</td>\n",
              "      <td>-1.0103</td>\n",
              "      <td>0.034483</td>\n",
              "      <td>0.0</td>\n",
              "    </tr>\n",
              "    <tr>\n",
              "      <th>3</th>\n",
              "      <td>0.085343</td>\n",
              "      <td>-0.83865</td>\n",
              "      <td>-0.68369</td>\n",
              "      <td>-0.45686</td>\n",
              "      <td>-1.0082</td>\n",
              "      <td>0.025862</td>\n",
              "      <td>0.0</td>\n",
              "    </tr>\n",
              "    <tr>\n",
              "      <th>4</th>\n",
              "      <td>0.085343</td>\n",
              "      <td>-0.83865</td>\n",
              "      <td>-0.68369</td>\n",
              "      <td>-0.45686</td>\n",
              "      <td>-1.0082</td>\n",
              "      <td>0.025862</td>\n",
              "      <td>0.0</td>\n",
              "    </tr>\n",
              "  </tbody>\n",
              "</table>\n",
              "</div>\n",
              "    <div class=\"colab-df-buttons\">\n",
              "\n",
              "  <div class=\"colab-df-container\">\n",
              "    <button class=\"colab-df-convert\" onclick=\"convertToInteractive('df-7fae3e17-16d9-4c60-b0c6-fbe113d6e393')\"\n",
              "            title=\"Convert this dataframe to an interactive table.\"\n",
              "            style=\"display:none;\">\n",
              "\n",
              "  <svg xmlns=\"http://www.w3.org/2000/svg\" height=\"24px\" viewBox=\"0 -960 960 960\">\n",
              "    <path d=\"M120-120v-720h720v720H120Zm60-500h600v-160H180v160Zm220 220h160v-160H400v160Zm0 220h160v-160H400v160ZM180-400h160v-160H180v160Zm440 0h160v-160H620v160ZM180-180h160v-160H180v160Zm440 0h160v-160H620v160Z\"/>\n",
              "  </svg>\n",
              "    </button>\n",
              "\n",
              "  <style>\n",
              "    .colab-df-container {\n",
              "      display:flex;\n",
              "      gap: 12px;\n",
              "    }\n",
              "\n",
              "    .colab-df-convert {\n",
              "      background-color: #E8F0FE;\n",
              "      border: none;\n",
              "      border-radius: 50%;\n",
              "      cursor: pointer;\n",
              "      display: none;\n",
              "      fill: #1967D2;\n",
              "      height: 32px;\n",
              "      padding: 0 0 0 0;\n",
              "      width: 32px;\n",
              "    }\n",
              "\n",
              "    .colab-df-convert:hover {\n",
              "      background-color: #E2EBFA;\n",
              "      box-shadow: 0px 1px 2px rgba(60, 64, 67, 0.3), 0px 1px 3px 1px rgba(60, 64, 67, 0.15);\n",
              "      fill: #174EA6;\n",
              "    }\n",
              "\n",
              "    .colab-df-buttons div {\n",
              "      margin-bottom: 4px;\n",
              "    }\n",
              "\n",
              "    [theme=dark] .colab-df-convert {\n",
              "      background-color: #3B4455;\n",
              "      fill: #D2E3FC;\n",
              "    }\n",
              "\n",
              "    [theme=dark] .colab-df-convert:hover {\n",
              "      background-color: #434B5C;\n",
              "      box-shadow: 0px 1px 3px 1px rgba(0, 0, 0, 0.15);\n",
              "      filter: drop-shadow(0px 1px 2px rgba(0, 0, 0, 0.3));\n",
              "      fill: #FFFFFF;\n",
              "    }\n",
              "  </style>\n",
              "\n",
              "    <script>\n",
              "      const buttonEl =\n",
              "        document.querySelector('#df-7fae3e17-16d9-4c60-b0c6-fbe113d6e393 button.colab-df-convert');\n",
              "      buttonEl.style.display =\n",
              "        google.colab.kernel.accessAllowed ? 'block' : 'none';\n",
              "\n",
              "      async function convertToInteractive(key) {\n",
              "        const element = document.querySelector('#df-7fae3e17-16d9-4c60-b0c6-fbe113d6e393');\n",
              "        const dataTable =\n",
              "          await google.colab.kernel.invokeFunction('convertToInteractive',\n",
              "                                                    [key], {});\n",
              "        if (!dataTable) return;\n",
              "\n",
              "        const docLinkHtml = 'Like what you see? Visit the ' +\n",
              "          '<a target=\"_blank\" href=https://colab.research.google.com/notebooks/data_table.ipynb>data table notebook</a>'\n",
              "          + ' to learn more about interactive tables.';\n",
              "        element.innerHTML = '';\n",
              "        dataTable['output_type'] = 'display_data';\n",
              "        await google.colab.output.renderOutput(dataTable, element);\n",
              "        const docLink = document.createElement('div');\n",
              "        docLink.innerHTML = docLinkHtml;\n",
              "        element.appendChild(docLink);\n",
              "      }\n",
              "    </script>\n",
              "  </div>\n",
              "\n",
              "\n",
              "<div id=\"df-7eccf2be-b260-48d5-ba7e-ce4904e2b313\">\n",
              "  <button class=\"colab-df-quickchart\" onclick=\"quickchart('df-7eccf2be-b260-48d5-ba7e-ce4904e2b313')\"\n",
              "            title=\"Suggest charts\"\n",
              "            style=\"display:none;\">\n",
              "\n",
              "<svg xmlns=\"http://www.w3.org/2000/svg\" height=\"24px\"viewBox=\"0 0 24 24\"\n",
              "     width=\"24px\">\n",
              "    <g>\n",
              "        <path d=\"M19 3H5c-1.1 0-2 .9-2 2v14c0 1.1.9 2 2 2h14c1.1 0 2-.9 2-2V5c0-1.1-.9-2-2-2zM9 17H7v-7h2v7zm4 0h-2V7h2v10zm4 0h-2v-4h2v4z\"/>\n",
              "    </g>\n",
              "</svg>\n",
              "  </button>\n",
              "\n",
              "<style>\n",
              "  .colab-df-quickchart {\n",
              "      --bg-color: #E8F0FE;\n",
              "      --fill-color: #1967D2;\n",
              "      --hover-bg-color: #E2EBFA;\n",
              "      --hover-fill-color: #174EA6;\n",
              "      --disabled-fill-color: #AAA;\n",
              "      --disabled-bg-color: #DDD;\n",
              "  }\n",
              "\n",
              "  [theme=dark] .colab-df-quickchart {\n",
              "      --bg-color: #3B4455;\n",
              "      --fill-color: #D2E3FC;\n",
              "      --hover-bg-color: #434B5C;\n",
              "      --hover-fill-color: #FFFFFF;\n",
              "      --disabled-bg-color: #3B4455;\n",
              "      --disabled-fill-color: #666;\n",
              "  }\n",
              "\n",
              "  .colab-df-quickchart {\n",
              "    background-color: var(--bg-color);\n",
              "    border: none;\n",
              "    border-radius: 50%;\n",
              "    cursor: pointer;\n",
              "    display: none;\n",
              "    fill: var(--fill-color);\n",
              "    height: 32px;\n",
              "    padding: 0;\n",
              "    width: 32px;\n",
              "  }\n",
              "\n",
              "  .colab-df-quickchart:hover {\n",
              "    background-color: var(--hover-bg-color);\n",
              "    box-shadow: 0 1px 2px rgba(60, 64, 67, 0.3), 0 1px 3px 1px rgba(60, 64, 67, 0.15);\n",
              "    fill: var(--button-hover-fill-color);\n",
              "  }\n",
              "\n",
              "  .colab-df-quickchart-complete:disabled,\n",
              "  .colab-df-quickchart-complete:disabled:hover {\n",
              "    background-color: var(--disabled-bg-color);\n",
              "    fill: var(--disabled-fill-color);\n",
              "    box-shadow: none;\n",
              "  }\n",
              "\n",
              "  .colab-df-spinner {\n",
              "    border: 2px solid var(--fill-color);\n",
              "    border-color: transparent;\n",
              "    border-bottom-color: var(--fill-color);\n",
              "    animation:\n",
              "      spin 1s steps(1) infinite;\n",
              "  }\n",
              "\n",
              "  @keyframes spin {\n",
              "    0% {\n",
              "      border-color: transparent;\n",
              "      border-bottom-color: var(--fill-color);\n",
              "      border-left-color: var(--fill-color);\n",
              "    }\n",
              "    20% {\n",
              "      border-color: transparent;\n",
              "      border-left-color: var(--fill-color);\n",
              "      border-top-color: var(--fill-color);\n",
              "    }\n",
              "    30% {\n",
              "      border-color: transparent;\n",
              "      border-left-color: var(--fill-color);\n",
              "      border-top-color: var(--fill-color);\n",
              "      border-right-color: var(--fill-color);\n",
              "    }\n",
              "    40% {\n",
              "      border-color: transparent;\n",
              "      border-right-color: var(--fill-color);\n",
              "      border-top-color: var(--fill-color);\n",
              "    }\n",
              "    60% {\n",
              "      border-color: transparent;\n",
              "      border-right-color: var(--fill-color);\n",
              "    }\n",
              "    80% {\n",
              "      border-color: transparent;\n",
              "      border-right-color: var(--fill-color);\n",
              "      border-bottom-color: var(--fill-color);\n",
              "    }\n",
              "    90% {\n",
              "      border-color: transparent;\n",
              "      border-bottom-color: var(--fill-color);\n",
              "    }\n",
              "  }\n",
              "</style>\n",
              "\n",
              "  <script>\n",
              "    async function quickchart(key) {\n",
              "      const quickchartButtonEl =\n",
              "        document.querySelector('#' + key + ' button');\n",
              "      quickchartButtonEl.disabled = true;  // To prevent multiple clicks.\n",
              "      quickchartButtonEl.classList.add('colab-df-spinner');\n",
              "      try {\n",
              "        const charts = await google.colab.kernel.invokeFunction(\n",
              "            'suggestCharts', [key], {});\n",
              "      } catch (error) {\n",
              "        console.error('Error during call to suggestCharts:', error);\n",
              "      }\n",
              "      quickchartButtonEl.classList.remove('colab-df-spinner');\n",
              "      quickchartButtonEl.classList.add('colab-df-quickchart-complete');\n",
              "    }\n",
              "    (() => {\n",
              "      let quickchartButtonEl =\n",
              "        document.querySelector('#df-7eccf2be-b260-48d5-ba7e-ce4904e2b313 button');\n",
              "      quickchartButtonEl.style.display =\n",
              "        google.colab.kernel.accessAllowed ? 'block' : 'none';\n",
              "    })();\n",
              "  </script>\n",
              "</div>\n",
              "\n",
              "    </div>\n",
              "  </div>\n"
            ],
            "application/vnd.google.colaboratory.intrinsic+json": {
              "type": "dataframe",
              "variable_name": "df"
            }
          },
          "metadata": {},
          "execution_count": 7
        }
      ]
    },
    {
      "cell_type": "code",
      "source": [
        "plt.figure(figsize=(10,10))\n",
        "plt.title('Data Before sampling')\n",
        "df['Activity'].value_counts().plot.bar(rot=0)"
      ],
      "metadata": {
        "colab": {
          "base_uri": "https://localhost:8080/",
          "height": 890
        },
        "id": "YFEAwqS8vcTC",
        "outputId": "53bfe658-6853-4d56-a372-41c225b4c365"
      },
      "execution_count": 8,
      "outputs": [
        {
          "output_type": "execute_result",
          "data": {
            "text/plain": [
              "<Axes: title={'center': 'Data Before sampling'}, xlabel='Activity'>"
            ]
          },
          "metadata": {},
          "execution_count": 8
        },
        {
          "output_type": "display_data",
          "data": {
            "text/plain": [
              "<Figure size 1000x1000 with 1 Axes>"
            ],
            "image/png": "[encoded data removed]"
          },
          "metadata": {}
        }
      ]
    },
    {
      "cell_type": "code",
      "source": [
        "data_activity_0 = df[df['Activity'] == 0]\n",
        "data_activity_else = df[df['Activity'] != 0]\n",
        "\n",
        "data_activity_0 = data_activity_0.sample(n=40000, random_state=42)\n",
        "df = pd.concat([data_activity_0, data_activity_else])"
      ],
      "metadata": {
        "id": "67fIk9E6y1on"
      },
      "execution_count": 9,
      "outputs": []
    },
    {
      "cell_type": "code",
      "source": [
        "plt.figure(figsize=(10 ,8 ))\n",
        "plt.title('Data afetr sampling')\n",
        "df['Activity'].value_counts().plot.bar(rot=0)"
      ],
      "metadata": {
        "colab": {
          "base_uri": "https://localhost:8080/",
          "height": 736
        },
        "id": "ldqdMEgUzjSE",
        "outputId": "e16e89d2-f7cb-41c1-9b78-a06f370ea10c"
      },
      "execution_count": 10,
      "outputs": [
        {
          "output_type": "execute_result",
          "data": {
            "text/plain": [
              "<Axes: title={'center': 'Data afetr sampling'}, xlabel='Activity'>"
            ]
          },
          "metadata": {},
          "execution_count": 10
        },
        {
          "output_type": "display_data",
          "data": {
            "text/plain": [
              "<Figure size 1000x800 with 1 Axes>"
            ],
            "image/png": "[encoded data removed]"
          },
          "metadata": {}
        }
      ]
    },
    {
      "cell_type": "code",
      "source": [
        "activities_label = {\n",
        "    0: \"None\",\n",
        "    1: \"Standing still (1 min)\",\n",
        "    2: \"Sitting and relaxing (1 min)\",\n",
        "    3: \"Lying down (1 min)\",\n",
        "    4: \"Walking (1 min)\",\n",
        "    5: \"Climbing stairs (1 min)\",\n",
        "    6: \"Waist bends forward (20x)\",\n",
        "    7: \"Frontal elevation of arms (20x)\",\n",
        "    8: \"Knees bending (crouching) (20x)\",\n",
        "    9: \"Cycling (1 min)\",\n",
        "    10: \"Jogging (1 min)\",\n",
        "    11: \"Running (1 min)\",\n",
        "    12: \"Jump front & back (20x)\"\n",
        "}"
      ],
      "metadata": {
        "id": "nqeCmdN_z4ze"
      },
      "execution_count": 11,
      "outputs": []
    },
    {
      "cell_type": "code",
      "source": [
        "df['Activity'] = df['Activity'].replace([0,1,2,3,4,5,6,7,8,9,10,11,12],['None','Standing still (1 min)', 'Sitting and relaxing (1 min)', 'Lying down (1 min)', 'Walking (1 min)','Climbing stairs (1 min)','Waist bends forward (20x)','Frontal elevation of arms (20x)','Knees bending (crouching) (20x)','Cycling (1 min)','Jogging (1 min)','Running (1 min)','Jump front & back (20x)'])"
      ],
      "metadata": {
        "id": "D725B26R0FuV"
      },
      "execution_count": 12,
      "outputs": []
    },
    {
      "cell_type": "code",
      "source": [
        "df = df[df['Activity'].isin(['Standing still (1 min)', 'Sitting and relaxing (1 min)', 'Walking (1 min)'])]"
      ],
      "metadata": {
        "id": "2kUT4y6UAMgp"
      },
      "execution_count": 13,
      "outputs": []
    },
    {
      "cell_type": "code",
      "source": [
        "df['Activity']"
      ],
      "metadata": {
        "colab": {
          "base_uri": "https://localhost:8080/",
          "height": 458
        },
        "id": "GcpMhsY20M70",
        "outputId": "cec6b721-d6c0-4629-92ab-094ce6c889a6"
      },
      "execution_count": 14,
      "outputs": [
        {
          "output_type": "execute_result",
          "data": {
            "text/plain": [
              "6656            Standing still (1 min)\n",
              "6657            Standing still (1 min)\n",
              "6658            Standing still (1 min)\n",
              "6659            Standing still (1 min)\n",
              "6660            Standing still (1 min)\n",
              "                      ...             \n",
              "312895    Sitting and relaxing (1 min)\n",
              "312896    Sitting and relaxing (1 min)\n",
              "312897    Sitting and relaxing (1 min)\n",
              "312898    Sitting and relaxing (1 min)\n",
              "312899    Sitting and relaxing (1 min)\n",
              "Name: Activity, Length: 29250, dtype: object"
            ],
            "text/html": [
              "<div>\n",
              "<style scoped>\n",
              "    .dataframe tbody tr th:only-of-type {\n",
              "        vertical-align: middle;\n",
              "    }\n",
              "\n",
              "    .dataframe tbody tr th {\n",
              "        vertical-align: top;\n",
              "    }\n",
              "\n",
              "    .dataframe thead th {\n",
              "        text-align: right;\n",
              "    }\n",
              "</style>\n",
              "<table border=\"1\" class=\"dataframe\">\n",
              "  <thead>\n",
              "    <tr style=\"text-align: right;\">\n",
              "      <th></th>\n",
              "      <th>Activity</th>\n",
              "    </tr>\n",
              "  </thead>\n",
              "  <tbody>\n",
              "    <tr>\n",
              "      <th>6656</th>\n",
              "      <td>Standing still (1 min)</td>\n",
              "    </tr>\n",
              "    <tr>\n",
              "      <th>6657</th>\n",
              "      <td>Standing still (1 min)</td>\n",
              "    </tr>\n",
              "    <tr>\n",
              "      <th>6658</th>\n",
              "      <td>Standing still (1 min)</td>\n",
              "    </tr>\n",
              "    <tr>\n",
              "      <th>6659</th>\n",
              "      <td>Standing still (1 min)</td>\n",
              "    </tr>\n",
              "    <tr>\n",
              "      <th>6660</th>\n",
              "      <td>Standing still (1 min)</td>\n",
              "    </tr>\n",
              "    <tr>\n",
              "      <th>...</th>\n",
              "      <td>...</td>\n",
              "    </tr>\n",
              "    <tr>\n",
              "      <th>312895</th>\n",
              "      <td>Sitting and relaxing (1 min)</td>\n",
              "    </tr>\n",
              "    <tr>\n",
              "      <th>312896</th>\n",
              "      <td>Sitting and relaxing (1 min)</td>\n",
              "    </tr>\n",
              "    <tr>\n",
              "      <th>312897</th>\n",
              "      <td>Sitting and relaxing (1 min)</td>\n",
              "    </tr>\n",
              "    <tr>\n",
              "      <th>312898</th>\n",
              "      <td>Sitting and relaxing (1 min)</td>\n",
              "    </tr>\n",
              "    <tr>\n",
              "      <th>312899</th>\n",
              "      <td>Sitting and relaxing (1 min)</td>\n",
              "    </tr>\n",
              "  </tbody>\n",
              "</table>\n",
              "<p>29250 rows × 1 columns</p>\n",
              "</div><br><label><b>dtype:</b> object</label>"
            ]
          },
          "metadata": {},
          "execution_count": 14
        }
      ]
    },
    {
      "cell_type": "code",
      "source": [
        "from sklearn.preprocessing import LabelEncoder\n",
        "labelencoder=LabelEncoder()\n",
        "df['Activity']=labelencoder.fit_transform(df['Activity'])\n",
        "df['Activity']"
      ],
      "metadata": {
        "colab": {
          "base_uri": "https://localhost:8080/",
          "height": 458
        },
        "id": "PSUdqT3-0d54",
        "outputId": "48c076fb-c439-41d3-9c46-f9256e445b99"
      },
      "execution_count": 15,
      "outputs": [
        {
          "output_type": "execute_result",
          "data": {
            "text/plain": [
              "6656      1\n",
              "6657      1\n",
              "6658      1\n",
              "6659      1\n",
              "6660      1\n",
              "         ..\n",
              "312895    0\n",
              "312896    0\n",
              "312897    0\n",
              "312898    0\n",
              "312899    0\n",
              "Name: Activity, Length: 29250, dtype: int64"
            ],
            "text/html": [
              "<div>\n",
              "<style scoped>\n",
              "    .dataframe tbody tr th:only-of-type {\n",
              "        vertical-align: middle;\n",
              "    }\n",
              "\n",
              "    .dataframe tbody tr th {\n",
              "        vertical-align: top;\n",
              "    }\n",
              "\n",
              "    .dataframe thead th {\n",
              "        text-align: right;\n",
              "    }\n",
              "</style>\n",
              "<table border=\"1\" class=\"dataframe\">\n",
              "  <thead>\n",
              "    <tr style=\"text-align: right;\">\n",
              "      <th></th>\n",
              "      <th>Activity</th>\n",
              "    </tr>\n",
              "  </thead>\n",
              "  <tbody>\n",
              "    <tr>\n",
              "      <th>6656</th>\n",
              "      <td>1</td>\n",
              "    </tr>\n",
              "    <tr>\n",
              "      <th>6657</th>\n",
              "      <td>1</td>\n",
              "    </tr>\n",
              "    <tr>\n",
              "      <th>6658</th>\n",
              "      <td>1</td>\n",
              "    </tr>\n",
              "    <tr>\n",
              "      <th>6659</th>\n",
              "      <td>1</td>\n",
              "    </tr>\n",
              "    <tr>\n",
              "      <th>6660</th>\n",
              "      <td>1</td>\n",
              "    </tr>\n",
              "    <tr>\n",
              "      <th>...</th>\n",
              "      <td>...</td>\n",
              "    </tr>\n",
              "    <tr>\n",
              "      <th>312895</th>\n",
              "      <td>0</td>\n",
              "    </tr>\n",
              "    <tr>\n",
              "      <th>312896</th>\n",
              "      <td>0</td>\n",
              "    </tr>\n",
              "    <tr>\n",
              "      <th>312897</th>\n",
              "      <td>0</td>\n",
              "    </tr>\n",
              "    <tr>\n",
              "      <th>312898</th>\n",
              "      <td>0</td>\n",
              "    </tr>\n",
              "    <tr>\n",
              "      <th>312899</th>\n",
              "      <td>0</td>\n",
              "    </tr>\n",
              "  </tbody>\n",
              "</table>\n",
              "<p>29250 rows × 1 columns</p>\n",
              "</div><br><label><b>dtype:</b> int64</label>"
            ]
          },
          "metadata": {},
          "execution_count": 15
        }
      ]
    },
    {
      "cell_type": "code",
      "source": [
        "# Tentukan jumlah baris per input (20 baris per 50 Hz)\n",
        "num_rows_per_input = 20\n",
        "\n",
        "# Buat inputan 2D (20 baris digabungkan menjadi satu input)\n",
        "inputs = []\n",
        "for i in range(0, len(df) - num_rows_per_input + 1, num_rows_per_input):\n",
        "    input_chunk = df.iloc[i:i + num_rows_per_input].values.flatten()  # Gabungkan 20 baris menjadi 1 array\n",
        "    inputs.append(input_chunk)\n",
        "\n",
        "# Ubah list ke numpy array untuk dipakai dalam model\n",
        "inputs_array = np.array(inputs)\n",
        "\n",
        "# Tampilkan bentuk data input\n",
        "print(\"Bentuk data input untuk model:\", inputs_array.shape)"
      ],
      "metadata": {
        "colab": {
          "base_uri": "https://localhost:8080/"
        },
        "id": "ePvzw3GY4Lsn",
        "outputId": "c1578d46-9141-49c1-bc18-e77d49526c81"
      },
      "execution_count": 16,
      "outputs": [
        {
          "output_type": "stream",
          "name": "stdout",
          "text": [
            "Bentuk data input untuk model: (1462, 140)\n"
          ]
        }
      ]
    },
    {
      "cell_type": "code",
      "source": [
        "inputs_array"
      ],
      "metadata": {
        "colab": {
          "base_uri": "https://localhost:8080/"
        },
        "id": "2DqA0X4n4SCL",
        "outputId": "3a80507a-3892-4fb7-94f2-adfb3ea466f4"
      },
      "execution_count": 17,
      "outputs": [
        {
          "output_type": "execute_result",
          "data": {
            "text/plain": [
              "array([[-0.20965, -0.88931, -0.50884, ..., -0.93224, '-0.34267', 1],\n",
              "       [-0.20965, -0.8761700000000001, -0.51081, ..., -0.94045,\n",
              "        '-0.35991', 1],\n",
              "       [-0.19666, -0.8930600000000001, -0.50098, ..., -0.93224,\n",
              "        '-0.34698', 1],\n",
              "       ...,\n",
              "       [0.71614, -0.49343, -0.73477, ..., -0.69405, -0.021552, 0],\n",
              "       [0.73098, -0.49343, -0.7446, ..., -0.69815, -0.021552, 0],\n",
              "       [0.73655, -0.49156, -0.73674, ..., -0.68172, 0.0043103, 0]],\n",
              "      dtype=object)"
            ]
          },
          "metadata": {},
          "execution_count": 17
        }
      ]
    },
    {
      "cell_type": "code",
      "source": [
        "def sig(x):\n",
        "    return 1 / (1 + np.exp(-x))\n",
        "\n",
        "def sigd(x):\n",
        "    return sig(x) * (1 - sig(x))"
      ],
      "metadata": {
        "id": "zoyta-wI4g_8"
      },
      "execution_count": 18,
      "outputs": []
    },
    {
      "cell_type": "code",
      "source": [
        "def bp_fit(X, target, layer_conf, max_epoch, max_error=0.1, learn_rate=0.1, print_per_epoch=100):\n",
        "    np.random.seed(1)\n",
        "    nin = [np.empty(i) for i in layer_conf]\n",
        "    n = [np.empty(j + 1) if i < len(layer_conf) - 1 else np.empty(j) for i, j in enumerate(layer_conf)]\n",
        "    w = [np.random.rand(layer_conf[i] + 1, layer_conf[i + 1]) * 0.1 for i in range(len(layer_conf) - 1)]\n",
        "    dw = [np.empty((layer_conf[i] + 1, layer_conf[i + 1])) for i in range(len(layer_conf) - 1)]\n",
        "    d = [np.empty(s) for s in layer_conf[1:]]\n",
        "    din = [np.empty(s) for s in layer_conf[1:-1]]\n",
        "\n",
        "    epoch = 0\n",
        "    mse = 1\n",
        "    for i in range(0, len(n) - 1):\n",
        "        n[i][-1] = 1  # Bias term\n",
        "\n",
        "    while (max_epoch == -1 or epoch < max_epoch) and mse > max_error:\n",
        "        epoch += 1\n",
        "        mse = 0\n",
        "        for r in range(len(X)):\n",
        "            # Forward pass\n",
        "            n[0][:-1] = X[r]\n",
        "            for L in range(1, len(layer_conf)):\n",
        "                nin[L] = np.dot(n[L - 1], w[L - 1])\n",
        "                n[L][:len(nin[L])] = sig(nin[L])\n",
        "\n",
        "            # Error calculation\n",
        "            e = target[r] - n[-1]\n",
        "            mse += np.mean(e ** 2)\n",
        "\n",
        "            # Backpropagation\n",
        "            d[-1] = e * sigd(nin[-1])  # Output layer delta\n",
        "            dw[-1] = learn_rate * np.outer(n[-2], d[-1])\n",
        "\n",
        "            for L in range(len(layer_conf) - 2, 0, -1):\n",
        "                din[L - 1] = np.dot(d[L], w[L][:-1].T)\n",
        "                d[L - 1] = din[L - 1] * sigd(nin[L])\n",
        "                dw[L - 1] = learn_rate * np.outer(n[L - 1], d[L - 1])\n",
        "\n",
        "            # Update weights\n",
        "            for i in range(len(w)):\n",
        "                w[i] -= dw[i]\n",
        "\n",
        "        mse /= len(X)\n",
        "        if print_per_epoch > -1 and epoch % print_per_epoch == 0:\n",
        "            print(f'Epoch {epoch}, MSE: {mse}')\n",
        "    return w, epoch, mse"
      ],
      "metadata": {
        "id": "lARBYQov405i"
      },
      "execution_count": 19,
      "outputs": []
    },
    {
      "cell_type": "code",
      "source": [
        "def bp_predict(X, w):\n",
        "    n = [np.empty(len(i)) for i in w]\n",
        "    nin = [np.empty(len(i[0])) for i in w]\n",
        "    predict = []\n",
        "\n",
        "    n.append(np.empty(len(w[-1][0])))\n",
        "\n",
        "    for x in X:\n",
        "        n[0][:-1] = x\n",
        "\n",
        "        for L in range(0, len(w)):\n",
        "            nin[L] = np.dot(n[L], w[L])\n",
        "            n[L + 1][:len(nin[L])] = sig(nin[L])\n",
        "\n",
        "        predict.append(n[-1].copy())\n",
        "    return predict"
      ],
      "metadata": {
        "id": "AM9wNyYS5Mtp"
      },
      "execution_count": 20,
      "outputs": []
    },
    {
      "cell_type": "code",
      "source": [
        "def onehot_enc(lbl, min_val=0):\n",
        "    mi = min(lbl)\n",
        "    enc = np.full((len(lbl), max(lbl) - mi + 1), min_val, np.int8)\n",
        "    for i, x in enumerate(lbl):\n",
        "        enc[i, x - mi] = 1\n",
        "    return enc\n",
        "\n",
        "def onehot_dec(enc, mi=0):\n",
        "    return [np.argmax(e) + mi for e in enc]"
      ],
      "metadata": {
        "id": "slF4D5Yd66A0"
      },
      "execution_count": 21,
      "outputs": []
    },
    {
      "cell_type": "code",
      "source": [
        "import numpy as np\n",
        "from sklearn.model_selection import train_test_split\n",
        "from sklearn.preprocessing import minmax_scale, OneHotEncoder\n",
        "from sklearn.metrics import accuracy_score\n",
        "\n",
        "# Misalkan inputs_array adalah data input yang sudah diproses\n",
        "# Ambil data X dan Y dari inputs_array (sesuaikan dengan data yang Anda miliki)\n",
        "X = inputs_array[:, :-1]  # Semua kolom kecuali yang terakhir sebagai fitur\n",
        "Y = inputs_array[:, -1]   # Kolom terakhir sebagai target\n",
        "\n",
        "# One-hot encoding pada target\n",
        "encoder = OneHotEncoder(sparse_output=False)\n",
        "Y_encoded = encoder.fit_transform(Y.reshape(-1, 1))\n",
        "\n",
        "# Normalisasi fitur X\n",
        "X_scaled = minmax_scale(X)\n",
        "\n",
        "# Split data menjadi training dan testing set\n",
        "X_train, X_test, y_train, y_test = train_test_split(X_scaled, Y_encoded, test_size=0.3, random_state=1)\n",
        "\n",
        "# Cek jumlah fitur dalam data input X\n",
        "num_features = X_train.shape[1]\n",
        "print(\"Jumlah input:\", num_features)\n",
        "num_classes = Y_encoded.shape[1]\n",
        "print(\"Jumlah kelas:\", num_classes)\n",
        "\n",
        "# Sesuaikan konfigurasi layer pertama dengan jumlah fitur\n",
        "w, ep, mse = bp_fit(X_train, y_train, layer_conf=(num_features, 256, 128, 64, num_classes), learn_rate= 0.001, max_epoch=100, max_error=0.001, print_per_epoch=25)\n",
        "print(f'Epochs: {ep}, MSE: {mse}')\n",
        "\n",
        "# Prediksi data uji\n",
        "predict = bp_predict(X_test, w)\n",
        "\n",
        "# Dekode hasil prediksi dan label asli jika menggunakan one-hot encoding\n",
        "predict = onehot_dec(predict)\n",
        "y_test = onehot_dec(y_test)\n",
        "\n",
        "# Hitung akurasi\n",
        "accuracy = accuracy_score(predict, y_test)\n",
        "print('Output:', predict)\n",
        "print('True   :', y_test)\n",
        "print('Accuracy:', accuracy)\n"
      ],
      "metadata": {
        "colab": {
          "base_uri": "https://localhost:8080/"
        },
        "id": "bGKBzqr55OxI",
        "outputId": "c66267d9-caa9-469a-c624-def574dc4ff6"
      },
      "execution_count": null,
      "outputs": [
        {
          "output_type": "stream",
          "name": "stdout",
          "text": [
            "Jumlah input: 139\n",
            "Jumlah kelas: 3\n"
          ]
        }
      ]
    }
  ]
}