{
  "nbformat": 4,
  "nbformat_minor": 0,
  "metadata": {
    "colab": {
      "provenance": []
    },
    "kernelspec": {
      "name": "python3",
      "display_name": "Python 3"
    }
  },
  "cells": [
    {
      "cell_type": "markdown",
      "metadata": {
        "id": "aLsVNuahNyLX"
      },
      "source": [
        "# Madaline"
      ]
    },
    {
      "cell_type": "markdown",
      "metadata": {
        "id": "BHsOsVtUNygd"
      },
      "source": [
        "## Praktikum"
      ]
    },
    {
      "cell_type": "markdown",
      "metadata": {
        "id": "iLSQhRDeWyO9"
      },
      "source": [
        "### a) Import modul\n",
        "Tulis kode ke dalam *cell* di bawah ini:\n"
      ]
    },
    {
      "cell_type": "code",
      "metadata": {
        "id": "L7GAbOJcW7vD"
      },
      "source": [
        "import numpy as np"
      ],
      "execution_count": null,
      "outputs": []
    },
    {
      "cell_type": "markdown",
      "metadata": {
        "id": "YO9WiMOEN3cD"
      },
      "source": [
        "### b) Fungsi Aktivasi\n",
        "\n",
        "Tulis kode ke dalam *cell* di bawah ini:"
      ]
    },
    {
      "cell_type": "code",
      "metadata": {
        "id": "ulV5uF9zNwBG"
      },
      "source": [
        "def aktivasi(x):\n",
        "  if x < 0:\n",
        "    return -1\n",
        "  else:\n",
        "    return 1"
      ],
      "execution_count": null,
      "outputs": []
    },
    {
      "cell_type": "markdown",
      "metadata": {
        "id": "4UV2JYGuFKwU"
      },
      "source": [
        "### c) Fungsi *Training* Madaline\n",
        "\n",
        "Tulis kode ke dalam *cell* di bawah ini:"
      ]
    },
    {
      "cell_type": "code",
      "metadata": {
        "id": "Ucso7xGNFp0k"
      },
      "source": [
        "def train(train_data, train_target, alpha=0.1, max_epoch=10):\n",
        "    w = np.random.random((2, 2))\n",
        "    v = np.array([0.5, 0.5])\n",
        "    b = np.random.random(2)\n",
        "    b = np.append(b, 0.5)\n",
        "    epoch = 0\n",
        "    v_aktivasi = np.vectorize(aktivasi)\n",
        "    weight_updated = True\n",
        "\n",
        "    while weight_updated and epoch < max_epoch:\n",
        "        weight_updated = False\n",
        "\n",
        "        for data, target in zip(train_data, train_target):\n",
        "            z_in = np.dot(data, w)\n",
        "            z_in = z_in + b[:-1]\n",
        "            z = v_aktivasi(z_in)\n",
        "            y_in = np.dot(z, v) + b[-1]\n",
        "            y = v_aktivasi(y_in)\n",
        "\n",
        "            if y != target:\n",
        "                weight_updated = True\n",
        "                if target == 1:\n",
        "                    index = np.argmin(np.abs(z_in))\n",
        "                    b[index] = b[index] + alpha * (1 - z_in[index])\n",
        "                    w[:, index] = w[:, index] + alpha * (1 - z_in[index]) * data\n",
        "                elif target == -1:\n",
        "                    index = np.where(z_in > 0)[0]\n",
        "                    if len(index) == 1:\n",
        "                        index = index[0]\n",
        "                    b[index] = b[index] + alpha * (-1 - z_in[index])\n",
        "                    w[:, index] = w[:, index] + alpha * (-1 - z_in[index]) * data\n",
        "        epoch += 1\n",
        "\n",
        "    return (w, v, b)"
      ],
      "execution_count": null,
      "outputs": []
    },
    {
      "cell_type": "markdown",
      "metadata": {
        "id": "xK7ORrumFyDw"
      },
      "source": [
        "### d) Fungsi *Testing* Madaline\n",
        "\n",
        "Tulis kode ke dalam *cell* di bawah ini:"
      ]
    },
    {
      "cell_type": "code",
      "metadata": {
        "id": "oJCw9DgYF_ME"
      },
      "source": [
        "def test(w,v,b,test_data):\n",
        "      v_aktivasi = np.vectorize(aktivasi)\n",
        "      z_in = np.dot(test_data, w)\n",
        "      z_in = z_in + b[:-1]\n",
        "      z = v_aktivasi(z_in)\n",
        "      y_in = np.dot(z, v) + b[-1]\n",
        "      y = v_aktivasi(y_in)\n",
        "      return y"
      ],
      "execution_count": null,
      "outputs": []
    },
    {
      "cell_type": "markdown",
      "metadata": {
        "id": "CplKg8gb0OAx"
      },
      "source": [
        "### e) Fungsi Hitung Akurasi\n",
        "\n",
        "Tulis kode ke dalam *cell* di bawah ini:"
      ]
    },
    {
      "cell_type": "code",
      "metadata": {
        "id": "4XvvdMjR0P-X"
      },
      "source": [
        "def calc_accuracy(a, b):\n",
        "    s = [1 if a[i] == b[i] else 0 for i in range(len(a))]\n",
        "    return sum(s) / len(a)"
      ],
      "execution_count": null,
      "outputs": []
    },
    {
      "cell_type": "markdown",
      "metadata": {
        "id": "AzVQKtKTFx9l"
      },
      "source": [
        "### f) Logika AND\n",
        "\n",
        "Tulis kode ke dalam *cell* di bawah ini:"
      ]
    },
    {
      "cell_type": "code",
      "metadata": {
        "id": "2d254SJzGKGu",
        "colab": {
          "base_uri": "https://localhost:8080/"
        },
        "outputId": "9f282b83-a8bc-4211-973c-693ac92be344"
      },
      "source": [
        "data = np.array([[1, 1], [1, -1], [-1, 1], [-1, -1]])\n",
        "target = np.array([1, -1, -1, -1])\n",
        "(w, v, b) = train(data, target, alpha=0.8, max_epoch=10)\n",
        "output = test(w, v, b, data)\n",
        "accuracy = calc_accuracy(output, target)\n",
        "\n",
        "print('Output AND:', output)\n",
        "print('Target AND:', target)\n",
        "print('Accuracy AND:', accuracy)"
      ],
      "execution_count": null,
      "outputs": [
        {
          "output_type": "stream",
          "name": "stdout",
          "text": [
            "Output AND: [ 1 -1 -1 -1]\n",
            "Target AND: [ 1 -1 -1 -1]\n",
            "Accuracy AND: 1.0\n"
          ]
        }
      ]
    },
    {
      "cell_type": "markdown",
      "metadata": {
        "id": "xRK1QN-kGMFG"
      },
      "source": [
        "### g) Logika OR\n",
        "\n",
        "Tulis kode ke dalam *cell* di bawah ini:"
      ]
    },
    {
      "cell_type": "code",
      "metadata": {
        "id": "BvcGLITGGO2F",
        "colab": {
          "base_uri": "https://localhost:8080/"
        },
        "outputId": "7a9c8b34-5fa5-40f4-9961-c2be63e298d3"
      },
      "source": [
        "target = np.array([1, 1, 1, -1])\n",
        "(w, v, b) = train(data, target, alpha=0.2, max_epoch=10)\n",
        "output = test(w, v, b, data)\n",
        "accuracy = calc_accuracy(output, target)\n",
        "\n",
        "print('Output OR:', output)\n",
        "print('Target OR:', target)\n",
        "print('Accuracy OR:', accuracy)"
      ],
      "execution_count": null,
      "outputs": [
        {
          "output_type": "stream",
          "name": "stdout",
          "text": [
            "Output OR: [ 1  1  1 -1]\n",
            "Target OR: [ 1  1  1 -1]\n",
            "Accuracy OR: 1.0\n"
          ]
        }
      ]
    }
  ]
}