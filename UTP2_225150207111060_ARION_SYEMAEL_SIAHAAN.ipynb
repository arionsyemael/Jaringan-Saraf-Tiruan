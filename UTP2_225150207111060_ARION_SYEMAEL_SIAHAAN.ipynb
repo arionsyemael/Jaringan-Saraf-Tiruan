{
  "nbformat": 4,
  "nbformat_minor": 0,
  "metadata": {
    "colab": {
      "provenance": []
    },
    "kernelspec": {
      "name": "python3",
      "display_name": "Python 3"
    },
    "language_info": {
      "name": "python"
    }
  },
  "cells": [
    {
      "cell_type": "markdown",
      "source": [
        "## MADALINE"
      ],
      "metadata": {
        "id": "ryODjZfjTyEo"
      }
    },
    {
      "cell_type": "code",
      "source": [
        "import numpy as np"
      ],
      "metadata": {
        "id": "e7bFU_-nT-MB"
      },
      "execution_count": 1,
      "outputs": []
    },
    {
      "cell_type": "code",
      "source": [
        "def fungsi_aktivasi(input_neuron):\n",
        "  if input_neuron < 0:\n",
        "    return -1\n",
        "  else:\n",
        "    return 1"
      ],
      "metadata": {
        "id": "aQ-dRJAQT_VQ"
      },
      "execution_count": 2,
      "outputs": []
    },
    {
      "cell_type": "code",
      "source": [
        "def uji_model(bobot_hidden, bobot_output, bias, data_uji):\n",
        "  vektor_aktivasi = np.vectorize(fungsi_aktivasi)\n",
        "  input_hidden = np.dot(data_uji, bobot_hidden)\n",
        "  input_hidden = input_hidden + bias[:-1]\n",
        "  output_hidden = vektor_aktivasi(input_hidden)\n",
        "  input_output = np.dot(output_hidden, bobot_output) + bias[-1]\n",
        "  output_model = vektor_aktivasi(input_output)\n",
        "  return output_model"
      ],
      "metadata": {
        "id": "FNlhl4pUWUxh"
      },
      "execution_count": 3,
      "outputs": []
    },
    {
      "cell_type": "code",
      "source": [
        "def hitung_akurasi(output_model, target):\n",
        "  perbandingan = [1 if output_model[i] == target[i] else 0 for i in range(len(output_model))]\n",
        "  akurasi = sum(perbandingan) / len(output_model)\n",
        "  return akurasi"
      ],
      "metadata": {
        "id": "1-nCjaaNWXLU"
      },
      "execution_count": 4,
      "outputs": []
    },
    {
      "cell_type": "markdown",
      "source": [
        "Tugas teman-teman adalah melengkapi kode Madaline dibawah sehingga dapat dijalankan dengan jumlah hidden neuron yang bervariasi.\n",
        "Teman-teman dapat menggunakan kode Madaline yang ada pada modul sebagai referensi."
      ],
      "metadata": {
        "id": "ZyCdeRHxT_7O"
      }
    },
    {
      "cell_type": "code",
      "source": [
        "def latih_model(data_latih, target_latih, laju_pembelajaran=0.1, maksimum_epok=10, jumlah_hidden_neuron=2):\n",
        "  #Clue 1\n",
        "  n = data_latih.shape[1]\n",
        "  alpha = laju_pembelajaran\n",
        "  z_in = target_latih\n",
        "  #Clue 2\n",
        "  bobot_hidden = np.random.random((2,n))\n",
        "  #Clue 3\n",
        "  bobot_output = 0.5 * np.ones(n)\n",
        "  #Clue 4\n",
        "  bias = 0.5 * np.ones(n)\n",
        "  #Clue 5\n",
        "  bias = np.append(bias, 0.5)\n",
        "  epok = 0\n",
        "  vektor_aktivasi = np.vectorize(fungsi_aktivasi)\n",
        "  perbarui_bobot = True\n",
        "  while perbarui_bobot == True and epok < maksimum_epok:\n",
        "    perbarui_bobot = False\n",
        "    for data, target in zip(data_latih, target_latih):\n",
        "      input_hidden = np.dot(data, bobot_hidden)\n",
        "      input_hidden = input_hidden + bias[:-1]\n",
        "      output_hidden = vektor_aktivasi(input_hidden)\n",
        "      input_output = np.dot(output_hidden, bobot_output) + bias[-1]\n",
        "      output_model = vektor_aktivasi(input_output)\n",
        "      if output_model != target:\n",
        "        perbarui_bobot = True\n",
        "        if target == 1:\n",
        "          #Clue 6\n",
        "          index = np.argmin(np.abs(z_in))\n",
        "          bias[index] = bias[index] + alpha * (1 - z_in[index])\n",
        "          bobot_hidden[:, index] = bobot_hidden[:, index] + alpha * (1 - z_in[index])*data\n",
        "        elif target == -1:\n",
        "          index = np.where(input_hidden > 0)[0]\n",
        "          #Clue 7\n",
        "          if len(index)==1:\n",
        "            index = index[0]\n",
        "            bias[index] = bias[index] + alpha * (-1 - z_in[index])\n",
        "            bobot_hidden[:, index] = bobot_hidden[:, index] + alpha * (-1 - z_in[index]) * data\n",
        "    epok = epok + 1\n",
        "  return (bobot_hidden, bobot_output, bias)"
      ],
      "metadata": {
        "id": "uciS6kyuUV9Y"
      },
      "execution_count": 18,
      "outputs": []
    },
    {
      "cell_type": "markdown",
      "source": [
        "Pengetesan"
      ],
      "metadata": {
        "id": "6XdvmlygWSh-"
      }
    },
    {
      "cell_type": "code",
      "source": [
        "data = np.array([[-1,-1],[-1,1],[1,-1],[1,1]])\n",
        "target = np.array([-1,1,1,1])\n",
        "(bobot_hidden, bobot_output, bias) = latih_model(data, target, laju_pembelajaran=0.2, maksimum_epok=10, jumlah_hidden_neuron=2)\n",
        "output = uji_model(bobot_hidden, bobot_output, bias, data)\n",
        "akurasi = hitung_akurasi(output, target)\n",
        "\n",
        "print('Output:', output)\n",
        "print('Target:', target)\n",
        "print('Accuracy:', akurasi)"
      ],
      "metadata": {
        "colab": {
          "base_uri": "https://localhost:8080/"
        },
        "id": "pv4d2JCvWZ0L",
        "outputId": "4d1f8249-4efe-49c8-d730-133f4d8f5a2c"
      },
      "execution_count": 19,
      "outputs": [
        {
          "output_type": "stream",
          "name": "stdout",
          "text": [
            "Output: [-1  1  1  1]\n",
            "Target: [-1  1  1  1]\n",
            "Accuracy: 1.0\n"
          ]
        }
      ]
    },
    {
      "cell_type": "code",
      "source": [
        "data = np.array([[-1,-1],[-1,1],[1,-1],[1,1]])\n",
        "target = np.array([-1,1,1,1])\n",
        "(bobot_hidden, bobot_output, bias) = latih_model(data, target, laju_pembelajaran=0.2, maksimum_epok=10, jumlah_hidden_neuron=3)\n",
        "output = uji_model(bobot_hidden, bobot_output, bias, data)\n",
        "akurasi = hitung_akurasi(output, target)\n",
        "\n",
        "print('Output:', output)\n",
        "print('Target:', target)\n",
        "print('Accuracy:', akurasi)"
      ],
      "metadata": {
        "colab": {
          "base_uri": "https://localhost:8080/"
        },
        "id": "JdlOwHr4WZvq",
        "outputId": "46cb5047-2524-4c7d-c62c-36067649c0f6"
      },
      "execution_count": 20,
      "outputs": [
        {
          "output_type": "stream",
          "name": "stdout",
          "text": [
            "Output: [-1  1  1  1]\n",
            "Target: [-1  1  1  1]\n",
            "Accuracy: 1.0\n"
          ]
        }
      ]
    },
    {
      "cell_type": "code",
      "source": [
        "data = np.array([[1,1],[1,-1],[-1,1],[-1,-1]])\n",
        "target = np.array([-1,1,1,-1])\n",
        "(bobot_hidden, bobot_output, bias) = latih_model(data, target, laju_pembelajaran=0.2, maksimum_epok=10, jumlah_hidden_neuron=4)\n",
        "output = uji_model(bobot_hidden, bobot_output, bias, data)\n",
        "akurasi = hitung_akurasi(output, target)\n",
        "\n",
        "print('Output:', output)\n",
        "print('Target:', target)\n",
        "print('Accuracy:', akurasi)"
      ],
      "metadata": {
        "colab": {
          "base_uri": "https://localhost:8080/"
        },
        "id": "C63FrLkhWraQ",
        "outputId": "51bb939f-ff0d-4a3b-fed9-cb3992166bbe"
      },
      "execution_count": 21,
      "outputs": [
        {
          "output_type": "stream",
          "name": "stdout",
          "text": [
            "Output: [ 1  1  1 -1]\n",
            "Target: [-1  1  1 -1]\n",
            "Accuracy: 0.75\n"
          ]
        }
      ]
    },
    {
      "cell_type": "code",
      "source": [
        "data = np.array([[1,1],[1,-1],[-1,1],[-1,-1]])\n",
        "target = np.array([-1,1,1,-1])\n",
        "(bobot_hidden, bobot_output, bias) = latih_model(data, target, laju_pembelajaran=0.2, maksimum_epok=10, jumlah_hidden_neuron=5)\n",
        "output = uji_model(bobot_hidden, bobot_output, bias, data)\n",
        "akurasi = hitung_akurasi(output, target)\n",
        "\n",
        "print('Output:', output)\n",
        "print('Target:', target)\n",
        "print('Accuracy:', akurasi)"
      ],
      "metadata": {
        "colab": {
          "base_uri": "https://localhost:8080/"
        },
        "id": "IesjKwEeWv7D",
        "outputId": "3c4dacad-70ca-4a99-8a40-97bae5d86f5b"
      },
      "execution_count": 22,
      "outputs": [
        {
          "output_type": "stream",
          "name": "stdout",
          "text": [
            "Output: [1 1 1 1]\n",
            "Target: [-1  1  1 -1]\n",
            "Accuracy: 0.5\n"
          ]
        }
      ]
    },
    {
      "cell_type": "code",
      "source": [],
      "metadata": {
        "id": "XrM2u4K_dKRk"
      },
      "execution_count": null,
      "outputs": []
    }
  ]
}